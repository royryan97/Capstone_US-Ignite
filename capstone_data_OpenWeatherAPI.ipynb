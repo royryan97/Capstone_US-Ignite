{
  "nbformat": 4,
  "nbformat_minor": 0,
  "metadata": {
    "colab": {
      "name": "capstone_data_OpenWeatherAPI.ipynb",
      "provenance": [],
      "collapsed_sections": []
    },
    "kernelspec": {
      "name": "python3",
      "display_name": "Python 3"
    },
    "language_info": {
      "name": "python"
    }
  },
  "cells": [
    {
      "cell_type": "code",
      "metadata": {
        "colab": {
          "base_uri": "https://localhost:8080/"
        },
        "id": "Lj1WH7DpxZ0O",
        "outputId": "71812ef9-b199-4e1f-bb2b-d236135d3d29"
      },
      "source": [
        "!pip install geopandas\n",
        "!pip install cartoframes\n",
        "!pip install vt2geojson"
      ],
      "execution_count": null,
      "outputs": [
        {
          "output_type": "stream",
          "name": "stdout",
          "text": [
            "Collecting geopandas\n",
            "  Downloading geopandas-0.10.2-py2.py3-none-any.whl (1.0 MB)\n",
            "\u001b[?25l\r\u001b[K     |▎                               | 10 kB 18.4 MB/s eta 0:00:01\r\u001b[K     |▋                               | 20 kB 10.6 MB/s eta 0:00:01\r\u001b[K     |█                               | 30 kB 8.3 MB/s eta 0:00:01\r\u001b[K     |█▎                              | 40 kB 7.5 MB/s eta 0:00:01\r\u001b[K     |█▋                              | 51 kB 5.3 MB/s eta 0:00:01\r\u001b[K     |██                              | 61 kB 5.6 MB/s eta 0:00:01\r\u001b[K     |██▎                             | 71 kB 5.2 MB/s eta 0:00:01\r\u001b[K     |██▌                             | 81 kB 5.8 MB/s eta 0:00:01\r\u001b[K     |██▉                             | 92 kB 5.9 MB/s eta 0:00:01\r\u001b[K     |███▏                            | 102 kB 5.2 MB/s eta 0:00:01\r\u001b[K     |███▌                            | 112 kB 5.2 MB/s eta 0:00:01\r\u001b[K     |███▉                            | 122 kB 5.2 MB/s eta 0:00:01\r\u001b[K     |████▏                           | 133 kB 5.2 MB/s eta 0:00:01\r\u001b[K     |████▌                           | 143 kB 5.2 MB/s eta 0:00:01\r\u001b[K     |████▊                           | 153 kB 5.2 MB/s eta 0:00:01\r\u001b[K     |█████                           | 163 kB 5.2 MB/s eta 0:00:01\r\u001b[K     |█████▍                          | 174 kB 5.2 MB/s eta 0:00:01\r\u001b[K     |█████▊                          | 184 kB 5.2 MB/s eta 0:00:01\r\u001b[K     |██████                          | 194 kB 5.2 MB/s eta 0:00:01\r\u001b[K     |██████▍                         | 204 kB 5.2 MB/s eta 0:00:01\r\u001b[K     |██████▊                         | 215 kB 5.2 MB/s eta 0:00:01\r\u001b[K     |███████                         | 225 kB 5.2 MB/s eta 0:00:01\r\u001b[K     |███████▎                        | 235 kB 5.2 MB/s eta 0:00:01\r\u001b[K     |███████▋                        | 245 kB 5.2 MB/s eta 0:00:01\r\u001b[K     |████████                        | 256 kB 5.2 MB/s eta 0:00:01\r\u001b[K     |████████▎                       | 266 kB 5.2 MB/s eta 0:00:01\r\u001b[K     |████████▋                       | 276 kB 5.2 MB/s eta 0:00:01\r\u001b[K     |█████████                       | 286 kB 5.2 MB/s eta 0:00:01\r\u001b[K     |█████████▏                      | 296 kB 5.2 MB/s eta 0:00:01\r\u001b[K     |█████████▌                      | 307 kB 5.2 MB/s eta 0:00:01\r\u001b[K     |█████████▉                      | 317 kB 5.2 MB/s eta 0:00:01\r\u001b[K     |██████████▏                     | 327 kB 5.2 MB/s eta 0:00:01\r\u001b[K     |██████████▌                     | 337 kB 5.2 MB/s eta 0:00:01\r\u001b[K     |██████████▉                     | 348 kB 5.2 MB/s eta 0:00:01\r\u001b[K     |███████████▏                    | 358 kB 5.2 MB/s eta 0:00:01\r\u001b[K     |███████████▍                    | 368 kB 5.2 MB/s eta 0:00:01\r\u001b[K     |███████████▊                    | 378 kB 5.2 MB/s eta 0:00:01\r\u001b[K     |████████████                    | 389 kB 5.2 MB/s eta 0:00:01\r\u001b[K     |████████████▍                   | 399 kB 5.2 MB/s eta 0:00:01\r\u001b[K     |████████████▊                   | 409 kB 5.2 MB/s eta 0:00:01\r\u001b[K     |█████████████                   | 419 kB 5.2 MB/s eta 0:00:01\r\u001b[K     |█████████████▍                  | 430 kB 5.2 MB/s eta 0:00:01\r\u001b[K     |█████████████▋                  | 440 kB 5.2 MB/s eta 0:00:01\r\u001b[K     |██████████████                  | 450 kB 5.2 MB/s eta 0:00:01\r\u001b[K     |██████████████▎                 | 460 kB 5.2 MB/s eta 0:00:01\r\u001b[K     |██████████████▋                 | 471 kB 5.2 MB/s eta 0:00:01\r\u001b[K     |███████████████                 | 481 kB 5.2 MB/s eta 0:00:01\r\u001b[K     |███████████████▎                | 491 kB 5.2 MB/s eta 0:00:01\r\u001b[K     |███████████████▋                | 501 kB 5.2 MB/s eta 0:00:01\r\u001b[K     |███████████████▉                | 512 kB 5.2 MB/s eta 0:00:01\r\u001b[K     |████████████████▏               | 522 kB 5.2 MB/s eta 0:00:01\r\u001b[K     |████████████████▌               | 532 kB 5.2 MB/s eta 0:00:01\r\u001b[K     |████████████████▉               | 542 kB 5.2 MB/s eta 0:00:01\r\u001b[K     |█████████████████▏              | 552 kB 5.2 MB/s eta 0:00:01\r\u001b[K     |█████████████████▌              | 563 kB 5.2 MB/s eta 0:00:01\r\u001b[K     |█████████████████▉              | 573 kB 5.2 MB/s eta 0:00:01\r\u001b[K     |██████████████████              | 583 kB 5.2 MB/s eta 0:00:01\r\u001b[K     |██████████████████▍             | 593 kB 5.2 MB/s eta 0:00:01\r\u001b[K     |██████████████████▊             | 604 kB 5.2 MB/s eta 0:00:01\r\u001b[K     |███████████████████             | 614 kB 5.2 MB/s eta 0:00:01\r\u001b[K     |███████████████████▍            | 624 kB 5.2 MB/s eta 0:00:01\r\u001b[K     |███████████████████▊            | 634 kB 5.2 MB/s eta 0:00:01\r\u001b[K     |████████████████████            | 645 kB 5.2 MB/s eta 0:00:01\r\u001b[K     |████████████████████▎           | 655 kB 5.2 MB/s eta 0:00:01\r\u001b[K     |████████████████████▋           | 665 kB 5.2 MB/s eta 0:00:01\r\u001b[K     |█████████████████████           | 675 kB 5.2 MB/s eta 0:00:01\r\u001b[K     |█████████████████████▎          | 686 kB 5.2 MB/s eta 0:00:01\r\u001b[K     |█████████████████████▋          | 696 kB 5.2 MB/s eta 0:00:01\r\u001b[K     |██████████████████████          | 706 kB 5.2 MB/s eta 0:00:01\r\u001b[K     |██████████████████████▎         | 716 kB 5.2 MB/s eta 0:00:01\r\u001b[K     |██████████████████████▋         | 727 kB 5.2 MB/s eta 0:00:01\r\u001b[K     |██████████████████████▉         | 737 kB 5.2 MB/s eta 0:00:01\r\u001b[K     |███████████████████████▏        | 747 kB 5.2 MB/s eta 0:00:01\r\u001b[K     |███████████████████████▌        | 757 kB 5.2 MB/s eta 0:00:01\r\u001b[K     |███████████████████████▉        | 768 kB 5.2 MB/s eta 0:00:01\r\u001b[K     |████████████████████████▏       | 778 kB 5.2 MB/s eta 0:00:01\r\u001b[K     |████████████████████████▌       | 788 kB 5.2 MB/s eta 0:00:01\r\u001b[K     |████████████████████████▉       | 798 kB 5.2 MB/s eta 0:00:01\r\u001b[K     |█████████████████████████       | 808 kB 5.2 MB/s eta 0:00:01\r\u001b[K     |█████████████████████████▍      | 819 kB 5.2 MB/s eta 0:00:01\r\u001b[K     |█████████████████████████▊      | 829 kB 5.2 MB/s eta 0:00:01\r\u001b[K     |██████████████████████████      | 839 kB 5.2 MB/s eta 0:00:01\r\u001b[K     |██████████████████████████▍     | 849 kB 5.2 MB/s eta 0:00:01\r\u001b[K     |██████████████████████████▊     | 860 kB 5.2 MB/s eta 0:00:01\r\u001b[K     |███████████████████████████     | 870 kB 5.2 MB/s eta 0:00:01\r\u001b[K     |███████████████████████████▎    | 880 kB 5.2 MB/s eta 0:00:01\r\u001b[K     |███████████████████████████▋    | 890 kB 5.2 MB/s eta 0:00:01\r\u001b[K     |████████████████████████████    | 901 kB 5.2 MB/s eta 0:00:01\r\u001b[K     |████████████████████████████▎   | 911 kB 5.2 MB/s eta 0:00:01\r\u001b[K     |████████████████████████████▋   | 921 kB 5.2 MB/s eta 0:00:01\r\u001b[K     |█████████████████████████████   | 931 kB 5.2 MB/s eta 0:00:01\r\u001b[K     |█████████████████████████████▎  | 942 kB 5.2 MB/s eta 0:00:01\r\u001b[K     |█████████████████████████████▌  | 952 kB 5.2 MB/s eta 0:00:01\r\u001b[K     |█████████████████████████████▉  | 962 kB 5.2 MB/s eta 0:00:01\r\u001b[K     |██████████████████████████████▏ | 972 kB 5.2 MB/s eta 0:00:01\r\u001b[K     |██████████████████████████████▌ | 983 kB 5.2 MB/s eta 0:00:01\r\u001b[K     |██████████████████████████████▉ | 993 kB 5.2 MB/s eta 0:00:01\r\u001b[K     |███████████████████████████████▏| 1.0 MB 5.2 MB/s eta 0:00:01\r\u001b[K     |███████████████████████████████▌| 1.0 MB 5.2 MB/s eta 0:00:01\r\u001b[K     |███████████████████████████████▊| 1.0 MB 5.2 MB/s eta 0:00:01\r\u001b[K     |████████████████████████████████| 1.0 MB 5.2 MB/s \n",
            "\u001b[?25hRequirement already satisfied: pandas>=0.25.0 in /usr/local/lib/python3.7/dist-packages (from geopandas) (1.1.5)\n",
            "Requirement already satisfied: shapely>=1.6 in /usr/local/lib/python3.7/dist-packages (from geopandas) (1.7.1)\n",
            "Collecting pyproj>=2.2.0\n",
            "  Downloading pyproj-3.2.1-cp37-cp37m-manylinux2010_x86_64.whl (6.3 MB)\n",
            "\u001b[K     |████████████████████████████████| 6.3 MB 31.6 MB/s \n",
            "\u001b[?25hCollecting fiona>=1.8\n",
            "  Downloading Fiona-1.8.20-cp37-cp37m-manylinux1_x86_64.whl (15.4 MB)\n",
            "\u001b[K     |████████████████████████████████| 15.4 MB 35 kB/s \n",
            "\u001b[?25hRequirement already satisfied: six>=1.7 in /usr/local/lib/python3.7/dist-packages (from fiona>=1.8->geopandas) (1.15.0)\n",
            "Collecting munch\n",
            "  Downloading munch-2.5.0-py2.py3-none-any.whl (10 kB)\n",
            "Requirement already satisfied: certifi in /usr/local/lib/python3.7/dist-packages (from fiona>=1.8->geopandas) (2021.5.30)\n",
            "Requirement already satisfied: click>=4.0 in /usr/local/lib/python3.7/dist-packages (from fiona>=1.8->geopandas) (7.1.2)\n",
            "Requirement already satisfied: attrs>=17 in /usr/local/lib/python3.7/dist-packages (from fiona>=1.8->geopandas) (21.2.0)\n",
            "Requirement already satisfied: setuptools in /usr/local/lib/python3.7/dist-packages (from fiona>=1.8->geopandas) (57.4.0)\n",
            "Collecting click-plugins>=1.0\n",
            "  Downloading click_plugins-1.1.1-py2.py3-none-any.whl (7.5 kB)\n",
            "Collecting cligj>=0.5\n",
            "  Downloading cligj-0.7.2-py3-none-any.whl (7.1 kB)\n",
            "Requirement already satisfied: python-dateutil>=2.7.3 in /usr/local/lib/python3.7/dist-packages (from pandas>=0.25.0->geopandas) (2.8.2)\n",
            "Requirement already satisfied: numpy>=1.15.4 in /usr/local/lib/python3.7/dist-packages (from pandas>=0.25.0->geopandas) (1.19.5)\n",
            "Requirement already satisfied: pytz>=2017.2 in /usr/local/lib/python3.7/dist-packages (from pandas>=0.25.0->geopandas) (2018.9)\n",
            "Installing collected packages: munch, cligj, click-plugins, pyproj, fiona, geopandas\n",
            "Successfully installed click-plugins-1.1.1 cligj-0.7.2 fiona-1.8.20 geopandas-0.10.2 munch-2.5.0 pyproj-3.2.1\n",
            "Collecting cartoframes\n",
            "  Downloading cartoframes-1.2.4-py2.py3-none-any.whl (245 kB)\n",
            "\u001b[K     |████████████████████████████████| 245 kB 5.3 MB/s \n",
            "\u001b[?25hCollecting semantic-version<3,>=2.8.0\n",
            "  Downloading semantic_version-2.8.5-py2.py3-none-any.whl (15 kB)\n",
            "Requirement already satisfied: geopandas<1.0,>=0.6.0 in /usr/local/lib/python3.7/dist-packages (from cartoframes) (0.10.2)\n",
            "Requirement already satisfied: pandas>=0.25.0 in /usr/local/lib/python3.7/dist-packages (from cartoframes) (1.1.5)\n",
            "Requirement already satisfied: jinja2<3.0,>=2.10.1 in /usr/local/lib/python3.7/dist-packages (from cartoframes) (2.11.3)\n",
            "Collecting carto<2.0,>=1.11.3\n",
            "  Downloading carto-1.11.3.tar.gz (27 kB)\n",
            "Collecting unidecode<2.0,>=1.1.0\n",
            "  Downloading Unidecode-1.3.2-py3-none-any.whl (235 kB)\n",
            "\u001b[K     |████████████████████████████████| 235 kB 40.7 MB/s \n",
            "\u001b[?25hRequirement already satisfied: appdirs<2.0,>=1.4.3 in /usr/local/lib/python3.7/dist-packages (from cartoframes) (1.4.4)\n",
            "Requirement already satisfied: requests>=2.7.0 in /usr/local/lib/python3.7/dist-packages (from carto<2.0,>=1.11.3->cartoframes) (2.23.0)\n",
            "Collecting pyrestcli==0.6.11\n",
            "  Downloading pyrestcli-0.6.11.tar.gz (9.1 kB)\n",
            "Requirement already satisfied: python-dateutil>=2.5.3 in /usr/local/lib/python3.7/dist-packages (from pyrestcli==0.6.11->carto<2.0,>=1.11.3->cartoframes) (2.8.2)\n",
            "Requirement already satisfied: future>=0.15.2 in /usr/local/lib/python3.7/dist-packages (from pyrestcli==0.6.11->carto<2.0,>=1.11.3->cartoframes) (0.16.0)\n",
            "Requirement already satisfied: shapely>=1.6 in /usr/local/lib/python3.7/dist-packages (from geopandas<1.0,>=0.6.0->cartoframes) (1.7.1)\n",
            "Requirement already satisfied: pyproj>=2.2.0 in /usr/local/lib/python3.7/dist-packages (from geopandas<1.0,>=0.6.0->cartoframes) (3.2.1)\n",
            "Requirement already satisfied: fiona>=1.8 in /usr/local/lib/python3.7/dist-packages (from geopandas<1.0,>=0.6.0->cartoframes) (1.8.20)\n",
            "Requirement already satisfied: attrs>=17 in /usr/local/lib/python3.7/dist-packages (from fiona>=1.8->geopandas<1.0,>=0.6.0->cartoframes) (21.2.0)\n",
            "Requirement already satisfied: certifi in /usr/local/lib/python3.7/dist-packages (from fiona>=1.8->geopandas<1.0,>=0.6.0->cartoframes) (2021.5.30)\n",
            "Requirement already satisfied: setuptools in /usr/local/lib/python3.7/dist-packages (from fiona>=1.8->geopandas<1.0,>=0.6.0->cartoframes) (57.4.0)\n",
            "Requirement already satisfied: munch in /usr/local/lib/python3.7/dist-packages (from fiona>=1.8->geopandas<1.0,>=0.6.0->cartoframes) (2.5.0)\n",
            "Requirement already satisfied: cligj>=0.5 in /usr/local/lib/python3.7/dist-packages (from fiona>=1.8->geopandas<1.0,>=0.6.0->cartoframes) (0.7.2)\n",
            "Requirement already satisfied: click>=4.0 in /usr/local/lib/python3.7/dist-packages (from fiona>=1.8->geopandas<1.0,>=0.6.0->cartoframes) (7.1.2)\n",
            "Requirement already satisfied: six>=1.7 in /usr/local/lib/python3.7/dist-packages (from fiona>=1.8->geopandas<1.0,>=0.6.0->cartoframes) (1.15.0)\n",
            "Requirement already satisfied: click-plugins>=1.0 in /usr/local/lib/python3.7/dist-packages (from fiona>=1.8->geopandas<1.0,>=0.6.0->cartoframes) (1.1.1)\n",
            "Requirement already satisfied: MarkupSafe>=0.23 in /usr/local/lib/python3.7/dist-packages (from jinja2<3.0,>=2.10.1->cartoframes) (2.0.1)\n",
            "Requirement already satisfied: pytz>=2017.2 in /usr/local/lib/python3.7/dist-packages (from pandas>=0.25.0->cartoframes) (2018.9)\n",
            "Requirement already satisfied: numpy>=1.15.4 in /usr/local/lib/python3.7/dist-packages (from pandas>=0.25.0->cartoframes) (1.19.5)\n",
            "Requirement already satisfied: chardet<4,>=3.0.2 in /usr/local/lib/python3.7/dist-packages (from requests>=2.7.0->carto<2.0,>=1.11.3->cartoframes) (3.0.4)\n",
            "Requirement already satisfied: urllib3!=1.25.0,!=1.25.1,<1.26,>=1.21.1 in /usr/local/lib/python3.7/dist-packages (from requests>=2.7.0->carto<2.0,>=1.11.3->cartoframes) (1.24.3)\n",
            "Requirement already satisfied: idna<3,>=2.5 in /usr/local/lib/python3.7/dist-packages (from requests>=2.7.0->carto<2.0,>=1.11.3->cartoframes) (2.10)\n",
            "Building wheels for collected packages: carto, pyrestcli\n",
            "  Building wheel for carto (setup.py) ... \u001b[?25l\u001b[?25hdone\n",
            "  Created wheel for carto: filename=carto-1.11.3-py3-none-any.whl size=35088 sha256=8526b57e571051fd549c512a9446745de394f017882993fc7caf55a46c5ef18a\n",
            "  Stored in directory: /root/.cache/pip/wheels/5d/2c/92/3025882177e80975995f3157974effe445de29ac32000cadf2\n",
            "  Building wheel for pyrestcli (setup.py) ... \u001b[?25l\u001b[?25hdone\n",
            "  Created wheel for pyrestcli: filename=pyrestcli-0.6.11-py3-none-any.whl size=8496 sha256=d5a68aac9b469ed09eb834b19b96ab8cd9ac1babafcba7b1404561ef8f6a6dec\n",
            "  Stored in directory: /root/.cache/pip/wheels/36/31/ea/2432077a49e8bd5346a5bf2d68a99306d33dc9fd08c3c75592\n",
            "Successfully built carto pyrestcli\n",
            "Installing collected packages: pyrestcli, unidecode, semantic-version, carto, cartoframes\n",
            "Successfully installed carto-1.11.3 cartoframes-1.2.4 pyrestcli-0.6.11 semantic-version-2.8.5 unidecode-1.3.2\n",
            "Collecting vt2geojson\n",
            "  Downloading vt2geojson-0.2.1-py3-none-any.whl (7.0 kB)\n",
            "Collecting mapbox-vector-tile\n",
            "  Downloading mapbox-vector-tile-1.2.1.tar.gz (33 kB)\n",
            "Requirement already satisfied: setuptools in /usr/local/lib/python3.7/dist-packages (from mapbox-vector-tile->vt2geojson) (57.4.0)\n",
            "Requirement already satisfied: protobuf in /usr/local/lib/python3.7/dist-packages (from mapbox-vector-tile->vt2geojson) (3.17.3)\n",
            "Requirement already satisfied: shapely in /usr/local/lib/python3.7/dist-packages (from mapbox-vector-tile->vt2geojson) (1.7.1)\n",
            "Requirement already satisfied: future in /usr/local/lib/python3.7/dist-packages (from mapbox-vector-tile->vt2geojson) (0.16.0)\n",
            "Collecting pyclipper\n",
            "  Downloading pyclipper-1.3.0-cp37-cp37m-manylinux_2_5_x86_64.manylinux1_x86_64.whl (123 kB)\n",
            "\u001b[K     |████████████████████████████████| 123 kB 7.9 MB/s \n",
            "\u001b[?25hRequirement already satisfied: six>=1.9 in /usr/local/lib/python3.7/dist-packages (from protobuf->mapbox-vector-tile->vt2geojson) (1.15.0)\n",
            "Building wheels for collected packages: mapbox-vector-tile\n",
            "  Building wheel for mapbox-vector-tile (setup.py) ... \u001b[?25l\u001b[?25hdone\n",
            "  Created wheel for mapbox-vector-tile: filename=mapbox_vector_tile-1.2.1-py2.py3-none-any.whl size=32877 sha256=09383cb528104e0ed4861f3b861103808583045d24f71be0f836c3b51250784d\n",
            "  Stored in directory: /root/.cache/pip/wheels/a8/8a/f5/a353ad1060c652e3505f2dd661509defc9f2af07e446affbbd\n",
            "Successfully built mapbox-vector-tile\n",
            "Installing collected packages: pyclipper, mapbox-vector-tile, vt2geojson\n",
            "Successfully installed mapbox-vector-tile-1.2.1 pyclipper-1.3.0 vt2geojson-0.2.1\n"
          ]
        }
      ]
    },
    {
      "cell_type": "code",
      "metadata": {
        "id": "MwNIcKjAE9lM"
      },
      "source": [
        "import pandas as pd\n",
        "from geopandas import GeoDataFrame, points_from_xy\n",
        "from shapely.geometry import Point, Polygon, LineString,box\n",
        "import geopandas as gpd\n",
        "import time\n",
        "import requests\n",
        "import json\n",
        "from vt2geojson.tools import vt_bytes_to_geojson\n",
        "import matplotlib.pyplot as plt\n",
        "from cartoframes import read_carto, to_carto\n",
        "from cartoframes.auth import set_default_credentials, Credentials\n",
        "from cartoframes.viz import *\n",
        "from cartoframes.data.services import Isolines\n",
        "from cartoframes.data.observatory import Catalog, Dataset\n",
        "from cartoframes.data.observatory import Enrichment"
      ],
      "execution_count": null,
      "outputs": []
    },
    {
      "cell_type": "code",
      "metadata": {
        "id": "7vK9Rr5syu7i"
      },
      "source": [
        "import datetime"
      ],
      "execution_count": null,
      "outputs": []
    },
    {
      "cell_type": "markdown",
      "metadata": {
        "id": "SDm2LGfQTyFq"
      },
      "source": [
        "# Weather Data \n",
        "## Link - https://openweathermap.org/api\n",
        "#### By city, geographic coordinates, zip code\n",
        "### - Current Weather Data\n",
        "### - Forecast Daily/Hourly Weather Data\n",
        "### - Historical Weather Data\n",
        "### potential prob: free access key get limited type of data"
      ]
    },
    {
      "cell_type": "code",
      "metadata": {
        "id": "HITheoQfFECx"
      },
      "source": [
        "# pip install cartoframes"
      ],
      "execution_count": null,
      "outputs": []
    },
    {
      "cell_type": "code",
      "metadata": {
        "id": "uhIVuDPaFA11"
      },
      "source": [
        "#title Your credentials\n",
        "USER_NAME = 'usignite-intern' #@param {type:\"string\"}\n",
        "API_KEY = '93ca9b2ca98129188e337d41aee1e0faad970acd' #@param {type:\"string\"}\n",
        "\n",
        "\n",
        "set_default_credentials(\n",
        "    username=USER_NAME,\n",
        "    api_key=API_KEY\n",
        ")"
      ],
      "execution_count": null,
      "outputs": []
    },
    {
      "cell_type": "code",
      "metadata": {
        "id": "kdczs12NFpvR"
      },
      "source": [
        "## Gates Location\n",
        "gates_gdf = gpd.read_file('gates.geojson')"
      ],
      "execution_count": null,
      "outputs": []
    },
    {
      "cell_type": "markdown",
      "metadata": {
        "id": "F8erYULB_l9j"
      },
      "source": [
        "### Current Data"
      ]
    },
    {
      "cell_type": "code",
      "metadata": {
        "id": "IKYqp8-0Fq-N"
      },
      "source": [
        "lat_lst = gates_gdf.geometry.y\n",
        "lon_lst = gates_gdf.geometry.x\n",
        "key = '4efcd12852204535b3cb9258ddf992eb'\n",
        "weather_lst = []\n",
        "temp_lst = []\n",
        "visibility_lst = []\n",
        "description_lst = []\n",
        "temp_feel_lst = []\n",
        "\n",
        "for i in range(7):\n",
        "    url = 'http://api.openweathermap.org/data/2.5/weather?lat={}&lon={}&appid={}'.format(lat_lst[i],lon_lst[i], key)\n",
        "    res = requests.get(url)\n",
        "    data = res.json()\n",
        "    weather_lst.append(data['weather'][0]['main'])\n",
        "    description_lst.append(data['weather'][0]['description'])\n",
        "    \n",
        "    temp_lst.append(data['main']['temp'])\n",
        "    temp_feel_lst.append(data['main']['feels_like'])\n",
        "  \n",
        "    visibility_lst.append(data['visibility'])\n",
        "\n",
        "city = 'Colorado Springs'\n",
        "key = '4efcd12852204535b3cb9258ddf992eb'\n",
        "url = 'http://api.openweathermap.org/data/2.5/weather?q={}&appid={}'.format(city, key)\n",
        "\n",
        "res = requests.get(url)\n",
        "data = res.json()\n",
        "\n",
        "gates_gdf['weather'] = weather_lst   \n",
        "gates_gdf['description'] = description_lst   \n",
        "gates_gdf['temperature'] = temp_lst  \n",
        "gates_gdf['feels_like'] = temp_feel_lst  \n",
        "gates_gdf['visibility'] = visibility_lst \n",
        "\n",
        "gates_gdf['humidity'] = data['main']['humidity']\n",
        "gates_gdf['pressure'] = data['main']['pressure']\n",
        "gates_gdf['wind_deg'] = data['wind']['deg']\n",
        "gates_gdf['wind_speed'] = data['wind']['speed']\n",
        "\n",
        "gates_gdf['visibility'] = gates_gdf['visibility']*0.000621371192\n",
        "gates_gdf['temperature'] = round(1.8*(gates_gdf['temperature'] - 273) + 32,0)"
      ],
      "execution_count": null,
      "outputs": []
    },
    {
      "cell_type": "code",
      "metadata": {
        "id": "wrJvsDXfFw4Z",
        "colab": {
          "base_uri": "https://localhost:8080/",
          "height": 204
        },
        "outputId": "1c8123f3-e879-4cf3-dc58-ddccfbc899ec"
      },
      "source": [
        "gates_gdf.head()"
      ],
      "execution_count": null,
      "outputs": [
        {
          "output_type": "execute_result",
          "data": {
            "text/html": [
              "<div>\n",
              "<style scoped>\n",
              "    .dataframe tbody tr th:only-of-type {\n",
              "        vertical-align: middle;\n",
              "    }\n",
              "\n",
              "    .dataframe tbody tr th {\n",
              "        vertical-align: top;\n",
              "    }\n",
              "\n",
              "    .dataframe thead th {\n",
              "        text-align: right;\n",
              "    }\n",
              "</style>\n",
              "<table border=\"1\" class=\"dataframe\">\n",
              "  <thead>\n",
              "    <tr style=\"text-align: right;\">\n",
              "      <th></th>\n",
              "      <th>Gate</th>\n",
              "      <th>geometry</th>\n",
              "      <th>weather</th>\n",
              "      <th>description</th>\n",
              "      <th>temperature</th>\n",
              "      <th>feels_like</th>\n",
              "      <th>visibility</th>\n",
              "      <th>humidity</th>\n",
              "      <th>pressure</th>\n",
              "      <th>wind_deg</th>\n",
              "      <th>wind_speed</th>\n",
              "    </tr>\n",
              "  </thead>\n",
              "  <tbody>\n",
              "    <tr>\n",
              "      <th>0</th>\n",
              "      <td>gate_1</td>\n",
              "      <td>POINT (-104.80432 38.73837)</td>\n",
              "      <td>Clear</td>\n",
              "      <td>clear sky</td>\n",
              "      <td>49.0</td>\n",
              "      <td>282.69</td>\n",
              "      <td>6.213712</td>\n",
              "      <td>53</td>\n",
              "      <td>1012</td>\n",
              "      <td>0</td>\n",
              "      <td>0</td>\n",
              "    </tr>\n",
              "    <tr>\n",
              "      <th>1</th>\n",
              "      <td>gate_2</td>\n",
              "      <td>POINT (-104.81693 38.71919)</td>\n",
              "      <td>Clear</td>\n",
              "      <td>clear sky</td>\n",
              "      <td>49.0</td>\n",
              "      <td>282.34</td>\n",
              "      <td>6.213712</td>\n",
              "      <td>53</td>\n",
              "      <td>1012</td>\n",
              "      <td>0</td>\n",
              "      <td>0</td>\n",
              "    </tr>\n",
              "    <tr>\n",
              "      <th>2</th>\n",
              "      <td>gate_3</td>\n",
              "      <td>POINT (-104.80369 38.76362)</td>\n",
              "      <td>Clear</td>\n",
              "      <td>clear sky</td>\n",
              "      <td>50.0</td>\n",
              "      <td>282.76</td>\n",
              "      <td>6.213712</td>\n",
              "      <td>53</td>\n",
              "      <td>1012</td>\n",
              "      <td>0</td>\n",
              "      <td>0</td>\n",
              "    </tr>\n",
              "    <tr>\n",
              "      <th>3</th>\n",
              "      <td>gate_4</td>\n",
              "      <td>POINT (-104.79363 38.76186)</td>\n",
              "      <td>Clear</td>\n",
              "      <td>clear sky</td>\n",
              "      <td>50.0</td>\n",
              "      <td>282.75</td>\n",
              "      <td>6.213712</td>\n",
              "      <td>53</td>\n",
              "      <td>1012</td>\n",
              "      <td>0</td>\n",
              "      <td>0</td>\n",
              "    </tr>\n",
              "    <tr>\n",
              "      <th>4</th>\n",
              "      <td>gate_5</td>\n",
              "      <td>POINT (-104.77772 38.71436)</td>\n",
              "      <td>Clear</td>\n",
              "      <td>clear sky</td>\n",
              "      <td>50.0</td>\n",
              "      <td>281.23</td>\n",
              "      <td>6.213712</td>\n",
              "      <td>53</td>\n",
              "      <td>1012</td>\n",
              "      <td>0</td>\n",
              "      <td>0</td>\n",
              "    </tr>\n",
              "  </tbody>\n",
              "</table>\n",
              "</div>"
            ],
            "text/plain": [
              "     Gate                     geometry weather  ... pressure  wind_deg  wind_speed\n",
              "0  gate_1  POINT (-104.80432 38.73837)   Clear  ...     1012         0           0\n",
              "1  gate_2  POINT (-104.81693 38.71919)   Clear  ...     1012         0           0\n",
              "2  gate_3  POINT (-104.80369 38.76362)   Clear  ...     1012         0           0\n",
              "3  gate_4  POINT (-104.79363 38.76186)   Clear  ...     1012         0           0\n",
              "4  gate_5  POINT (-104.77772 38.71436)   Clear  ...     1012         0           0\n",
              "\n",
              "[5 rows x 11 columns]"
            ]
          },
          "metadata": {},
          "execution_count": 30
        }
      ]
    },
    {
      "cell_type": "code",
      "metadata": {
        "id": "EUh7FPRuRzi8"
      },
      "source": [
        "# gates_gdf.to_csv('OpenWeather_DataSample.csv')"
      ],
      "execution_count": null,
      "outputs": []
    },
    {
      "cell_type": "markdown",
      "metadata": {
        "id": "bGc5i8ZXRf7J"
      },
      "source": [
        "### City"
      ]
    },
    {
      "cell_type": "code",
      "metadata": {
        "id": "-xj551EURhSe"
      },
      "source": [
        "# api.openweathermap.org/data/2.5/weather?q={city name}&appid={API key}"
      ],
      "execution_count": null,
      "outputs": []
    },
    {
      "cell_type": "code",
      "metadata": {
        "id": "rbP85X7pRhU6"
      },
      "source": [
        "# unix_time = '1632715200'\n",
        "key = '4efcd12852204535b3cb9258ddf992eb'\n",
        "\n",
        "url = 'https://api.openweathermap.org/data/2.5/weather?q={}&appid={}'.format('Pittsburg', key)"
      ],
      "execution_count": null,
      "outputs": []
    },
    {
      "cell_type": "code",
      "metadata": {
        "id": "WEdCONkrRhXF"
      },
      "source": [
        "city_lst = ['Pittsburg', 'New York', 'Boston']\n",
        "\n",
        "for i in city_lst:\n",
        "  url = 'https://api.openweathermap.org/data/2.5/weather?q={}&appid={}'.format(i, key)\n",
        "  res = requests.get(url)\n",
        "  data = res.json()"
      ],
      "execution_count": null,
      "outputs": []
    },
    {
      "cell_type": "code",
      "metadata": {
        "colab": {
          "base_uri": "https://localhost:8080/"
        },
        "id": "A4ICDQLySQA_",
        "outputId": "333dfbc0-aad3-4600-ca61-f0a51dfac440"
      },
      "source": [
        "data"
      ],
      "execution_count": null,
      "outputs": [
        {
          "output_type": "execute_result",
          "data": {
            "text/plain": [
              "{'base': 'stations',\n",
              " 'clouds': {'all': 20},\n",
              " 'cod': 200,\n",
              " 'coord': {'lat': 42.3584, 'lon': -71.0598},\n",
              " 'dt': 1634738895,\n",
              " 'id': 4930956,\n",
              " 'main': {'feels_like': 289.22,\n",
              "  'humidity': 70,\n",
              "  'pressure': 1013,\n",
              "  'temp': 289.68,\n",
              "  'temp_max': 291.67,\n",
              "  'temp_min': 287.12},\n",
              " 'name': 'Boston',\n",
              " 'sys': {'country': 'US',\n",
              "  'id': 2013408,\n",
              "  'sunrise': 1634727781,\n",
              "  'sunset': 1634766877,\n",
              "  'type': 2},\n",
              " 'timezone': -14400,\n",
              " 'visibility': 10000,\n",
              " 'weather': [{'description': 'few clouds',\n",
              "   'icon': '02d',\n",
              "   'id': 801,\n",
              "   'main': 'Clouds'}],\n",
              " 'wind': {'deg': 324, 'gust': 7.6, 'speed': 3.58}}"
            ]
          },
          "metadata": {},
          "execution_count": 6
        }
      ]
    },
    {
      "cell_type": "code",
      "metadata": {
        "colab": {
          "base_uri": "https://localhost:8080/",
          "height": 35
        },
        "id": "Ra3pI6rHSRTv",
        "outputId": "2d62318e-8190-472c-96db-47e1c377d8c0"
      },
      "source": [
        "data['name']"
      ],
      "execution_count": null,
      "outputs": [
        {
          "output_type": "execute_result",
          "data": {
            "application/vnd.google.colaboratory.intrinsic+json": {
              "type": "string"
            },
            "text/plain": [
              "'Boston'"
            ]
          },
          "metadata": {},
          "execution_count": 7
        }
      ]
    },
    {
      "cell_type": "markdown",
      "metadata": {
        "id": "E83KF_5U_jJo"
      },
      "source": [
        "### Historical Weather Data"
      ]
    },
    {
      "cell_type": "code",
      "metadata": {
        "id": "cdZJbT8HwUkM"
      },
      "source": [
        "city = 'Colorado Springs'\n",
        "key = '456aa8232b248955962e9063456822bd'\n",
        "url = 'http://api.openweathermap.org/data/2.5/weather?q={}&appid={}'.format(city, key)\n",
        "\n",
        "res = requests.get(url)\n",
        "data = res.json()"
      ],
      "execution_count": null,
      "outputs": []
    },
    {
      "cell_type": "code",
      "metadata": {
        "id": "cgartxLSwxec"
      },
      "source": [
        "start_time = '1632974400'\n",
        "end_time = '1633233600'"
      ],
      "execution_count": null,
      "outputs": []
    },
    {
      "cell_type": "code",
      "metadata": {
        "id": "iRfnqnUFwUmy"
      },
      "source": [
        "url = \"http://history.openweathermap.org/data/2.5/history/city?q={}&type=hour&start={}&end={}&appid={}\".format(city, start_time, end_time, key)"
      ],
      "execution_count": null,
      "outputs": []
    },
    {
      "cell_type": "code",
      "metadata": {
        "id": "Myt84c_RwUo0"
      },
      "source": [
        "res = requests.get(url)\n",
        "data = res.json()"
      ],
      "execution_count": null,
      "outputs": []
    },
    {
      "cell_type": "code",
      "metadata": {
        "colab": {
          "base_uri": "https://localhost:8080/"
        },
        "id": "8f0nSnrIxEDi",
        "outputId": "f23665fe-6802-477f-d898-b415b711bc44"
      },
      "source": [
        "len(data)"
      ],
      "execution_count": null,
      "outputs": [
        {
          "output_type": "execute_result",
          "data": {
            "text/plain": [
              "6"
            ]
          },
          "metadata": {},
          "execution_count": 12
        }
      ]
    },
    {
      "cell_type": "code",
      "metadata": {
        "colab": {
          "base_uri": "https://localhost:8080/"
        },
        "id": "AZ57OYKbyGfJ",
        "outputId": "f9e1974e-67da-4745-e187-88886a3f8cda"
      },
      "source": [
        "data['list'][0]"
      ],
      "execution_count": null,
      "outputs": [
        {
          "output_type": "execute_result",
          "data": {
            "text/plain": [
              "{'clouds': {'all': 90},\n",
              " 'dt': 1632974400,\n",
              " 'main': {'feels_like': 282.63,\n",
              "  'humidity': 84,\n",
              "  'pressure': 1020,\n",
              "  'temp': 282.85,\n",
              "  'temp_max': 285.84,\n",
              "  'temp_min': 274.6},\n",
              " 'weather': [{'description': 'overcast clouds',\n",
              "   'icon': '04n',\n",
              "   'id': 804,\n",
              "   'main': 'Clouds'}],\n",
              " 'wind': {'deg': 13, 'gust': 5.36, 'speed': 1.34}}"
            ]
          },
          "metadata": {},
          "execution_count": 13
        }
      ]
    },
    {
      "cell_type": "code",
      "metadata": {
        "colab": {
          "base_uri": "https://localhost:8080/"
        },
        "id": "5JVOPID-6zty",
        "outputId": "6b79ecab-d063-45c8-ae4c-b67ea3ee48bb"
      },
      "source": [
        "data['list'][0]['wind']['speed']"
      ],
      "execution_count": null,
      "outputs": [
        {
          "output_type": "execute_result",
          "data": {
            "text/plain": [
              "1.34"
            ]
          },
          "metadata": {},
          "execution_count": 10
        }
      ]
    },
    {
      "cell_type": "code",
      "metadata": {
        "id": "Y7MCs-o70TIP"
      },
      "source": [
        "dt_lst = []\n",
        "weather_description_lst = []\n",
        "weather_main_lst = []\n",
        "main_temp_lst = []\n",
        "pressure_lst = []\n",
        "humidity_lst = []\n",
        "wind_speed_lst = []\n",
        "\n",
        "for i in range(len(data['list'])):\n",
        "  col = data['list'][i]\n",
        "  t = datetime.datetime.fromtimestamp(col['dt'])\n",
        "  dt_lst.append(t)\n",
        "  weather_description_lst.append(col['weather'][0]['description'])\n",
        "  weather_main_lst.append(data['list'][i]['weather'][0]['main'])\n",
        "  main_temp_lst.append(data['list'][i]['main']['temp'])\n",
        "\n",
        "  pressure_lst.append(col['main']['pressure'])\n",
        "  humidity_lst.append(col['main']['humidity'])\n",
        "  wind_speed_lst.append(col['wind']['speed'])"
      ],
      "execution_count": null,
      "outputs": []
    },
    {
      "cell_type": "code",
      "metadata": {
        "id": "ENz9znNUyGhg"
      },
      "source": [
        "df_wea = pd.DataFrame({'time': dt_lst, 'wea_description': weather_description_lst, 'main': weather_main_lst, 'temp': main_temp_lst,\n",
        "                       'pressure':pressure_lst, 'humidity':humidity_lst, 'wind_speed':wind_speed_lst})"
      ],
      "execution_count": null,
      "outputs": []
    },
    {
      "cell_type": "code",
      "metadata": {
        "colab": {
          "base_uri": "https://localhost:8080/",
          "height": 419
        },
        "id": "HJoHoNGRyGkb",
        "outputId": "c8e06fde-d347-4bf3-8d6e-0f9678fac14a"
      },
      "source": [
        "df_wea"
      ],
      "execution_count": null,
      "outputs": [
        {
          "output_type": "execute_result",
          "data": {
            "text/html": [
              "<div>\n",
              "<style scoped>\n",
              "    .dataframe tbody tr th:only-of-type {\n",
              "        vertical-align: middle;\n",
              "    }\n",
              "\n",
              "    .dataframe tbody tr th {\n",
              "        vertical-align: top;\n",
              "    }\n",
              "\n",
              "    .dataframe thead th {\n",
              "        text-align: right;\n",
              "    }\n",
              "</style>\n",
              "<table border=\"1\" class=\"dataframe\">\n",
              "  <thead>\n",
              "    <tr style=\"text-align: right;\">\n",
              "      <th></th>\n",
              "      <th>time</th>\n",
              "      <th>wea_description</th>\n",
              "      <th>main</th>\n",
              "      <th>temp</th>\n",
              "      <th>pressure</th>\n",
              "      <th>humidity</th>\n",
              "      <th>wind_speed</th>\n",
              "    </tr>\n",
              "  </thead>\n",
              "  <tbody>\n",
              "    <tr>\n",
              "      <th>0</th>\n",
              "      <td>2021-09-30 04:00:00</td>\n",
              "      <td>overcast clouds</td>\n",
              "      <td>Clouds</td>\n",
              "      <td>282.85</td>\n",
              "      <td>1020</td>\n",
              "      <td>84</td>\n",
              "      <td>1.34</td>\n",
              "    </tr>\n",
              "    <tr>\n",
              "      <th>1</th>\n",
              "      <td>2021-09-30 05:00:00</td>\n",
              "      <td>overcast clouds</td>\n",
              "      <td>Clouds</td>\n",
              "      <td>282.12</td>\n",
              "      <td>1021</td>\n",
              "      <td>86</td>\n",
              "      <td>0.45</td>\n",
              "    </tr>\n",
              "    <tr>\n",
              "      <th>2</th>\n",
              "      <td>2021-09-30 06:00:00</td>\n",
              "      <td>overcast clouds</td>\n",
              "      <td>Clouds</td>\n",
              "      <td>281.34</td>\n",
              "      <td>1022</td>\n",
              "      <td>86</td>\n",
              "      <td>0.89</td>\n",
              "    </tr>\n",
              "    <tr>\n",
              "      <th>3</th>\n",
              "      <td>2021-09-30 07:00:00</td>\n",
              "      <td>overcast clouds</td>\n",
              "      <td>Clouds</td>\n",
              "      <td>280.74</td>\n",
              "      <td>1023</td>\n",
              "      <td>86</td>\n",
              "      <td>0.89</td>\n",
              "    </tr>\n",
              "    <tr>\n",
              "      <th>4</th>\n",
              "      <td>2021-09-30 08:00:00</td>\n",
              "      <td>overcast clouds</td>\n",
              "      <td>Clouds</td>\n",
              "      <td>280.56</td>\n",
              "      <td>1023</td>\n",
              "      <td>85</td>\n",
              "      <td>0.45</td>\n",
              "    </tr>\n",
              "    <tr>\n",
              "      <th>...</th>\n",
              "      <td>...</td>\n",
              "      <td>...</td>\n",
              "      <td>...</td>\n",
              "      <td>...</td>\n",
              "      <td>...</td>\n",
              "      <td>...</td>\n",
              "      <td>...</td>\n",
              "    </tr>\n",
              "    <tr>\n",
              "      <th>68</th>\n",
              "      <td>2021-10-03 00:00:00</td>\n",
              "      <td>broken clouds</td>\n",
              "      <td>Clouds</td>\n",
              "      <td>290.58</td>\n",
              "      <td>1023</td>\n",
              "      <td>41</td>\n",
              "      <td>0.45</td>\n",
              "    </tr>\n",
              "    <tr>\n",
              "      <th>69</th>\n",
              "      <td>2021-10-03 01:00:00</td>\n",
              "      <td>broken clouds</td>\n",
              "      <td>Clouds</td>\n",
              "      <td>288.64</td>\n",
              "      <td>1023</td>\n",
              "      <td>46</td>\n",
              "      <td>0.45</td>\n",
              "    </tr>\n",
              "    <tr>\n",
              "      <th>70</th>\n",
              "      <td>2021-10-03 02:00:00</td>\n",
              "      <td>broken clouds</td>\n",
              "      <td>Clouds</td>\n",
              "      <td>287.59</td>\n",
              "      <td>1025</td>\n",
              "      <td>48</td>\n",
              "      <td>0.45</td>\n",
              "    </tr>\n",
              "    <tr>\n",
              "      <th>71</th>\n",
              "      <td>2021-10-03 03:00:00</td>\n",
              "      <td>scattered clouds</td>\n",
              "      <td>Clouds</td>\n",
              "      <td>286.48</td>\n",
              "      <td>1025</td>\n",
              "      <td>48</td>\n",
              "      <td>0.45</td>\n",
              "    </tr>\n",
              "    <tr>\n",
              "      <th>72</th>\n",
              "      <td>2021-10-03 04:00:00</td>\n",
              "      <td>few clouds</td>\n",
              "      <td>Clouds</td>\n",
              "      <td>285.05</td>\n",
              "      <td>1025</td>\n",
              "      <td>51</td>\n",
              "      <td>1.54</td>\n",
              "    </tr>\n",
              "  </tbody>\n",
              "</table>\n",
              "<p>73 rows × 7 columns</p>\n",
              "</div>"
            ],
            "text/plain": [
              "                  time   wea_description  ... humidity  wind_speed\n",
              "0  2021-09-30 04:00:00   overcast clouds  ...       84        1.34\n",
              "1  2021-09-30 05:00:00   overcast clouds  ...       86        0.45\n",
              "2  2021-09-30 06:00:00   overcast clouds  ...       86        0.89\n",
              "3  2021-09-30 07:00:00   overcast clouds  ...       86        0.89\n",
              "4  2021-09-30 08:00:00   overcast clouds  ...       85        0.45\n",
              "..                 ...               ...  ...      ...         ...\n",
              "68 2021-10-03 00:00:00     broken clouds  ...       41        0.45\n",
              "69 2021-10-03 01:00:00     broken clouds  ...       46        0.45\n",
              "70 2021-10-03 02:00:00     broken clouds  ...       48        0.45\n",
              "71 2021-10-03 03:00:00  scattered clouds  ...       48        0.45\n",
              "72 2021-10-03 04:00:00        few clouds  ...       51        1.54\n",
              "\n",
              "[73 rows x 7 columns]"
            ]
          },
          "metadata": {},
          "execution_count": 13
        }
      ]
    },
    {
      "cell_type": "code",
      "metadata": {
        "id": "3-iNPstYV6sw"
      },
      "source": [
        "df_wea.to_csv('Weather_data_newversion1004.csv')"
      ],
      "execution_count": null,
      "outputs": []
    },
    {
      "cell_type": "code",
      "metadata": {
        "id": "ZQHdR60oyGrv"
      },
      "source": [
        "## Last five days weather data visualization "
      ],
      "execution_count": null,
      "outputs": []
    },
    {
      "cell_type": "code",
      "metadata": {
        "colab": {
          "base_uri": "https://localhost:8080/",
          "height": 1000
        },
        "id": "YSoafaZt2_Ix",
        "outputId": "8d99f870-66bf-4969-afce-54c229506227"
      },
      "source": [
        "import numpy as np\n",
        "import matplotlib.pyplot as plt\n",
        " \n",
        "x = df_wea['time']\n",
        "y = df_wea['temp']\n",
        "z = df_wea['pressure']\n",
        "h = df_wea['humidity']\n",
        "s = df_wea['wind_speed']\n",
        "\n",
        "plt.figure()\n",
        "plt.plot(x,y)\n",
        "plt.title(\"Five Day's temperature in colorado springs\")\n",
        "\n",
        "y = df_wea['temp']\n",
        "\n",
        "plt.figure()\n",
        "plt.plot(x,z)\n",
        "plt.title(\"Five Day's pressure in colorado springs\")\n",
        "\n",
        "plt.figure()\n",
        "plt.plot(x,h)\n",
        "plt.title(\"Five Day's humidity in colorado springs\")\n",
        "\n",
        "plt.figure()\n",
        "plt.plot(x,s)\n",
        "plt.title(\"Five Day's wind_speed in colorado springs\")"
      ],
      "execution_count": null,
      "outputs": [
        {
          "output_type": "execute_result",
          "data": {
            "text/plain": [
              "Text(0.5, 1.0, \"Five Day's wind_speed in colorado springs\")"
            ]
          },
          "metadata": {},
          "execution_count": 16
        },
        {
          "output_type": "display_data",
          "data": {
            "image/png": "[encoded data removed]",
            "text/plain": [
              "<Figure size 432x288 with 1 Axes>"
            ]
          },
          "metadata": {
            "needs_background": "light"
          }
        },
        {
          "output_type": "display_data",
          "data": {
            "image/png": "[encoded data removed]",
            "text/plain": [
              "<Figure size 432x288 with 1 Axes>"
            ]
          },
          "metadata": {
            "needs_background": "light"
          }
        },
        {
          "output_type": "display_data",
          "data": {
            "image/png": "[encoded data removed]",
            "text/plain": [
              "<Figure size 432x288 with 1 Axes>"
            ]
          },
          "metadata": {
            "needs_background": "light"
          }
        },
        {
          "output_type": "display_data",
          "data": {
            "image/png": "[encoded data removed]",
            "text/plain": [
              "<Figure size 432x288 with 1 Axes>"
            ]
          },
          "metadata": {
            "needs_background": "light"
          }
        }
      ]
    },
    {
      "cell_type": "code",
      "metadata": {
        "colab": {
          "base_uri": "https://localhost:8080/",
          "height": 521
        },
        "id": "QCTtm_Kj2_K6",
        "outputId": "f0767b9d-53f9-473e-fab1-c059d8eae6da"
      },
      "source": [
        "import numpy as np\n",
        "import matplotlib.pyplot as plt\n",
        " \n",
        "x = df_wea['wea_description']\n",
        "# y = df_wea['temp']\n",
        "\n",
        "plt.figure(figsize=(12, 8))\n",
        "plt.xticks(fontsize=16) \n",
        "plt.bar(x, range(len(x)))\n",
        "plt.title(\"Five Day's weather in colorado springs\")"
      ],
      "execution_count": null,
      "outputs": [
        {
          "output_type": "execute_result",
          "data": {
            "text/plain": [
              "Text(0.5, 1.0, \"Five Day's weather in colorado springs\")"
            ]
          },
          "metadata": {},
          "execution_count": 25
        },
        {
          "output_type": "display_data",
          "data": {
            "image/png": "[encoded data removed]",
            "text/plain": [
              "<Figure size 864x576 with 1 Axes>"
            ]
          },
          "metadata": {
            "needs_background": "light"
          }
        }
      ]
    },
    {
      "cell_type": "code",
      "metadata": {
        "id": "Rg2GlZFJNWXI"
      },
      "source": [
        "import seaborn as sns"
      ],
      "execution_count": null,
      "outputs": []
    },
    {
      "cell_type": "code",
      "metadata": {
        "colab": {
          "base_uri": "https://localhost:8080/",
          "height": 572
        },
        "id": "1L7Q2cReNLTo",
        "outputId": "fe3ecbf1-1d64-49ac-d538-2a90c0bce7ab"
      },
      "source": [
        "# rating score distribution\n",
        "\n",
        "# Get the distribution of the ratings\n",
        "x = df_wea['wea_description']\n",
        "x = x.sort_index()\n",
        "\n",
        "# plot\n",
        "plt.figure(figsize=(12,8))\n",
        "plt.yticks(fontsize=16) \n",
        "plt.legend(fontsize=16)\n",
        "ax = sns.barplot(x.index, x.values, alpha=0.8)\n",
        "plt.title(\"Five Day's Weather in Colorado Springs\", fontsize = 16)\n",
        "# plt.ylabel('Number of Restaurants', fontsize=12)\n",
        "# plt.xlabel('Star Ratings', fontsize=12)\n",
        "\n",
        "# # adding the text labels\n",
        "# rects = ax.patches\n",
        "# labels = x.values\n",
        "# for rect, label in zip(rects, labels):\n",
        "#     height = rect.get_height()\n",
        "#     ax.text(rect.get_x() + rect.get_width()/2, height + 5, label, ha='center', va='bottom')\n",
        "\n",
        "plt.show()"
      ],
      "execution_count": null,
      "outputs": [
        {
          "output_type": "stream",
          "name": "stdout",
          "text": [
            "No handles with labels found to put in legend.\n"
          ]
        },
        {
          "output_type": "stream",
          "name": "stderr",
          "text": [
            "/usr/local/lib/python3.7/dist-packages/seaborn/_decorators.py:43: FutureWarning: Pass the following variables as keyword args: x, y. From version 0.12, the only valid positional argument will be `data`, and passing other arguments without an explicit keyword will result in an error or misinterpretation.\n",
            "  FutureWarning\n"
          ]
        },
        {
          "output_type": "display_data",
          "data": {
            "image/png": "[encoded data removed]",
            "text/plain": [
              "<Figure size 864x576 with 1 Axes>"
            ]
          },
          "metadata": {
            "needs_background": "light"
          }
        }
      ]
    },
    {
      "cell_type": "code",
      "metadata": {
        "colab": {
          "base_uri": "https://localhost:8080/",
          "height": 516
        },
        "id": "pRDC1k352_NL",
        "outputId": "c836f328-37d7-461b-b198-05d984280b45"
      },
      "source": [
        "x = df_wea['main']\n",
        "# y = df_wea['temp']\n",
        "\n",
        "plt.figure(figsize=(8, 8))\n",
        "plt.bar(x, range(len(x)))\n",
        "plt.title(\"Five Day's weather in colorado springs\")"
      ],
      "execution_count": null,
      "outputs": [
        {
          "output_type": "execute_result",
          "data": {
            "text/plain": [
              "Text(0.5, 1.0, \"Five Day's weather in colorado springs\")"
            ]
          },
          "metadata": {},
          "execution_count": 51
        },
        {
          "output_type": "display_data",
          "data": {
            "image/png": "[encoded data removed]",
            "text/plain": [
              "<Figure size 576x576 with 1 Axes>"
            ]
          },
          "metadata": {
            "needs_background": "light"
          }
        }
      ]
    },
    {
      "cell_type": "code",
      "metadata": {
        "id": "tKhFKzx7wUtZ"
      },
      "source": [
        "### gates condition "
      ],
      "execution_count": null,
      "outputs": []
    },
    {
      "cell_type": "code",
      "metadata": {
        "id": "RoZ2XXSk-B9E"
      },
      "source": [
        "lat_lst = gates_gdf.geometry.y\n",
        "lon_lst = gates_gdf.geometry.x\n",
        "unix_time = '1632715200'\n",
        "key = '4efcd12852204535b3cb9258ddf992eb'\n",
        "\n",
        "url = 'https://api.openweathermap.org/data/2.5/onecall/timemachine?lat={}&lon={}&dt={}&appid={}'.format(lat_lst[0],lon_lst[0], unix_time, key)"
      ],
      "execution_count": null,
      "outputs": []
    },
    {
      "cell_type": "code",
      "metadata": {
        "id": "0luGiLT4-9_l"
      },
      "source": [
        "res = requests.get(url)\n",
        "data = res.json()"
      ],
      "execution_count": null,
      "outputs": []
    },
    {
      "cell_type": "code",
      "metadata": {
        "colab": {
          "base_uri": "https://localhost:8080/"
        },
        "id": "6cWsrSwy-VlC",
        "outputId": "8ed4d9dd-da5f-477f-ee29-6e48dbd556a0"
      },
      "source": [
        "data"
      ],
      "execution_count": null,
      "outputs": [
        {
          "output_type": "execute_result",
          "data": {
            "text/plain": [
              "{'cod': '400',\n",
              " 'message': 'requested time is out of allowed range of 5 days back'}"
            ]
          },
          "metadata": {},
          "execution_count": 55
        }
      ]
    },
    {
      "cell_type": "markdown",
      "metadata": {
        "id": "IxMkSXg8FSVd"
      },
      "source": [
        "# Flow Data\n",
        "### LINK: https://developer.tomtom.com/content/traffic-api-explorer"
      ]
    },
    {
      "cell_type": "code",
      "metadata": {
        "id": "JMgmAhn9zSk-"
      },
      "source": [
        "## test"
      ],
      "execution_count": null,
      "outputs": []
    },
    {
      "cell_type": "code",
      "metadata": {
        "id": "NMtxBDXDzSp4"
      },
      "source": [
        "url_new = \"https://api.tomtom.com/traffic/trafficstats/trafficdensity/1?key=STZ4RlsAAp9bLn7LP0iKyvf9EMWgy5CP\""
      ],
      "execution_count": null,
      "outputs": []
    },
    {
      "cell_type": "code",
      "metadata": {
        "id": "8G2dgg0RzSsU"
      },
      "source": [
        "r = requests.get(url_new)"
      ],
      "execution_count": null,
      "outputs": []
    },
    {
      "cell_type": "code",
      "metadata": {
        "id": "3uzxF-XCzjY3"
      },
      "source": [
        ""
      ],
      "execution_count": null,
      "outputs": []
    },
    {
      "cell_type": "code",
      "metadata": {
        "id": "lc3POrTXzSuw"
      },
      "source": [
        "##"
      ],
      "execution_count": null,
      "outputs": []
    },
    {
      "cell_type": "code",
      "metadata": {
        "id": "0_EZF2ScCvZw"
      },
      "source": [
        "key = 'STZ4RlsAAp9bLn7LP0iKyvf9EMWgy5CP'"
      ],
      "execution_count": null,
      "outputs": []
    },
    {
      "cell_type": "code",
      "metadata": {
        "id": "NRhq5fxYEuzh"
      },
      "source": [
        "def flow(x,y,z,type_flow,key):\n",
        "    url = 'https://api.tomtom.com/traffic/map/4/tile/flow/{}/{}/{}/{}.pbf?roadTypes=%5B0%2C1%2C2%2C3%2C4%2C5%2C6%2C7%2C8%5D&margin=0.05&tags=%5Broad_type%2Ctraffic_level%2Ctraffic_road_coverage%2Cleft_hand_traffic%2Croad_closure%5D&key={}'.format(type_flow,z,x,y,key)\n",
        "    r = requests.get(url)\n",
        "    features = vt_bytes_to_geojson(r.content,x,y,z)   \n",
        "    return gpd.GeoDataFrame.from_features(features)"
      ],
      "execution_count": null,
      "outputs": []
    },
    {
      "cell_type": "code",
      "metadata": {
        "id": "avcbC8a0ExE5"
      },
      "source": [
        "area1_absolute = flow(427,784,11,'absolute',key).rename(columns={'traffic_level': 'speed'})\n",
        "area2_absolute = flow(428,784,11,'absolute',key).rename(columns={'traffic_level': 'speed'})\n",
        "area1_relative = flow(427,784,11,'relative',key).rename(columns={'traffic_level': 'speed_relative_to_freeflow'})\n",
        "area2_relative = flow(428,784,11,'relative',key).rename(columns={'traffic_level': 'speed_relative_to_freeflow'})\n",
        "traffic_absolute = area1_absolute.append(area2_absolute)\n",
        "traffic_relative = area1_relative.append(area2_relative)\n",
        "traffic_absolute['speed'] = traffic_absolute['speed'].apply(lambda x: round(x*0.621371,1))\n",
        "traffic_relative['relative_speed_level'] = traffic_relative['speed_relative_to_freeflow'].apply(lambda x: \n",
        "                                                     'Very Slow' if x<0.25 else ('Slow' if x<0.5 else ('Medium' if x<0.75 else 'Fast')))"
      ],
      "execution_count": null,
      "outputs": []
    },
    {
      "cell_type": "code",
      "metadata": {
        "colab": {
          "base_uri": "https://localhost:8080/",
          "height": 204
        },
        "id": "k8Cmf_CUEyfG",
        "outputId": "548a610c-ea37-4f5c-d4ab-eb2510564199"
      },
      "source": [
        "traffic_absolute.head()"
      ],
      "execution_count": null,
      "outputs": [
        {
          "output_type": "execute_result",
          "data": {
            "text/html": [
              "<div>\n",
              "<style scoped>\n",
              "    .dataframe tbody tr th:only-of-type {\n",
              "        vertical-align: middle;\n",
              "    }\n",
              "\n",
              "    .dataframe tbody tr th {\n",
              "        vertical-align: top;\n",
              "    }\n",
              "\n",
              "    .dataframe thead th {\n",
              "        text-align: right;\n",
              "    }\n",
              "</style>\n",
              "<table border=\"1\" class=\"dataframe\">\n",
              "  <thead>\n",
              "    <tr style=\"text-align: right;\">\n",
              "      <th></th>\n",
              "      <th>geometry</th>\n",
              "      <th>road_type</th>\n",
              "      <th>speed</th>\n",
              "      <th>traffic_road_coverage</th>\n",
              "      <th>road_closure</th>\n",
              "    </tr>\n",
              "  </thead>\n",
              "  <tbody>\n",
              "    <tr>\n",
              "      <th>0</th>\n",
              "      <td>LINESTRING (-104.82991 38.81644, -104.83017 38...</td>\n",
              "      <td>Motorway</td>\n",
              "      <td>65.2</td>\n",
              "      <td>full</td>\n",
              "      <td>NaN</td>\n",
              "    </tr>\n",
              "    <tr>\n",
              "      <th>1</th>\n",
              "      <td>MULTILINESTRING ((-104.83519 38.82944, -104.83...</td>\n",
              "      <td>Motorway</td>\n",
              "      <td>68.4</td>\n",
              "      <td>full</td>\n",
              "      <td>NaN</td>\n",
              "    </tr>\n",
              "    <tr>\n",
              "      <th>2</th>\n",
              "      <td>MULTILINESTRING ((-104.81635 38.81416, -104.81...</td>\n",
              "      <td>Motorway</td>\n",
              "      <td>71.5</td>\n",
              "      <td>full</td>\n",
              "      <td>NaN</td>\n",
              "    </tr>\n",
              "    <tr>\n",
              "      <th>3</th>\n",
              "      <td>MULTILINESTRING ((-104.75683 38.74859, -104.75...</td>\n",
              "      <td>Motorway</td>\n",
              "      <td>74.6</td>\n",
              "      <td>full</td>\n",
              "      <td>NaN</td>\n",
              "    </tr>\n",
              "    <tr>\n",
              "      <th>4</th>\n",
              "      <td>LINESTRING (-104.83352 38.82741, -104.83523 38...</td>\n",
              "      <td>Major road</td>\n",
              "      <td>6.2</td>\n",
              "      <td>full</td>\n",
              "      <td>NaN</td>\n",
              "    </tr>\n",
              "  </tbody>\n",
              "</table>\n",
              "</div>"
            ],
            "text/plain": [
              "                                            geometry  ... road_closure\n",
              "0  LINESTRING (-104.82991 38.81644, -104.83017 38...  ...          NaN\n",
              "1  MULTILINESTRING ((-104.83519 38.82944, -104.83...  ...          NaN\n",
              "2  MULTILINESTRING ((-104.81635 38.81416, -104.81...  ...          NaN\n",
              "3  MULTILINESTRING ((-104.75683 38.74859, -104.75...  ...          NaN\n",
              "4  LINESTRING (-104.83352 38.82741, -104.83523 38...  ...          NaN\n",
              "\n",
              "[5 rows x 5 columns]"
            ]
          },
          "metadata": {},
          "execution_count": 61
        }
      ]
    },
    {
      "cell_type": "code",
      "metadata": {
        "colab": {
          "base_uri": "https://localhost:8080/",
          "height": 589
        },
        "id": "dt5ZWI57Fg9V",
        "outputId": "d9088da4-a922-453c-c6aa-e47a23db4e4e"
      },
      "source": [
        "traffic_relative"
      ],
      "execution_count": null,
      "outputs": [
        {
          "output_type": "execute_result",
          "data": {
            "text/html": [
              "<div>\n",
              "<style scoped>\n",
              "    .dataframe tbody tr th:only-of-type {\n",
              "        vertical-align: middle;\n",
              "    }\n",
              "\n",
              "    .dataframe tbody tr th {\n",
              "        vertical-align: top;\n",
              "    }\n",
              "\n",
              "    .dataframe thead th {\n",
              "        text-align: right;\n",
              "    }\n",
              "</style>\n",
              "<table border=\"1\" class=\"dataframe\">\n",
              "  <thead>\n",
              "    <tr style=\"text-align: right;\">\n",
              "      <th></th>\n",
              "      <th>geometry</th>\n",
              "      <th>road_type</th>\n",
              "      <th>speed_relative_to_freeflow</th>\n",
              "      <th>traffic_road_coverage</th>\n",
              "      <th>road_closure</th>\n",
              "      <th>relative_speed_level</th>\n",
              "    </tr>\n",
              "  </thead>\n",
              "  <tbody>\n",
              "    <tr>\n",
              "      <th>0</th>\n",
              "      <td>MULTILINESTRING ((-104.83519 38.82944, -104.83...</td>\n",
              "      <td>Motorway</td>\n",
              "      <td>1.000</td>\n",
              "      <td>full</td>\n",
              "      <td>NaN</td>\n",
              "      <td>Fast</td>\n",
              "    </tr>\n",
              "    <tr>\n",
              "      <th>1</th>\n",
              "      <td>LINESTRING (-104.83352 38.82741, -104.83523 38...</td>\n",
              "      <td>Major road</td>\n",
              "      <td>0.529</td>\n",
              "      <td>full</td>\n",
              "      <td>NaN</td>\n",
              "      <td>Medium</td>\n",
              "    </tr>\n",
              "    <tr>\n",
              "      <th>2</th>\n",
              "      <td>LINESTRING (-104.83764 38.82928, -104.83781 38...</td>\n",
              "      <td>Major road</td>\n",
              "      <td>0.606</td>\n",
              "      <td>full</td>\n",
              "      <td>NaN</td>\n",
              "      <td>Medium</td>\n",
              "    </tr>\n",
              "    <tr>\n",
              "      <th>3</th>\n",
              "      <td>LINESTRING (-104.83515 38.82634, -104.83498 38...</td>\n",
              "      <td>Major road</td>\n",
              "      <td>0.648</td>\n",
              "      <td>full</td>\n",
              "      <td>NaN</td>\n",
              "      <td>Medium</td>\n",
              "    </tr>\n",
              "    <tr>\n",
              "      <th>4</th>\n",
              "      <td>LINESTRING (-104.83060 38.81657, -104.83026 38...</td>\n",
              "      <td>Major road</td>\n",
              "      <td>0.682</td>\n",
              "      <td>full</td>\n",
              "      <td>NaN</td>\n",
              "      <td>Medium</td>\n",
              "    </tr>\n",
              "    <tr>\n",
              "      <th>...</th>\n",
              "      <td>...</td>\n",
              "      <td>...</td>\n",
              "      <td>...</td>\n",
              "      <td>...</td>\n",
              "      <td>...</td>\n",
              "      <td>...</td>\n",
              "    </tr>\n",
              "    <tr>\n",
              "      <th>36</th>\n",
              "      <td>LINESTRING (-104.73026 38.80607, -104.73026 38...</td>\n",
              "      <td>Major local road</td>\n",
              "      <td>0.517</td>\n",
              "      <td>one_side</td>\n",
              "      <td>NaN</td>\n",
              "      <td>Medium</td>\n",
              "    </tr>\n",
              "    <tr>\n",
              "      <th>37</th>\n",
              "      <td>LINESTRING (-104.76288 38.79082, -104.76279 38...</td>\n",
              "      <td>Major local road</td>\n",
              "      <td>0.634</td>\n",
              "      <td>one_side</td>\n",
              "      <td>NaN</td>\n",
              "      <td>Medium</td>\n",
              "    </tr>\n",
              "    <tr>\n",
              "      <th>38</th>\n",
              "      <td>LINESTRING (-104.73035 38.79885, -104.73035 38...</td>\n",
              "      <td>Major local road</td>\n",
              "      <td>0.676</td>\n",
              "      <td>one_side</td>\n",
              "      <td>NaN</td>\n",
              "      <td>Medium</td>\n",
              "    </tr>\n",
              "    <tr>\n",
              "      <th>39</th>\n",
              "      <td>LINESTRING (-104.75781 38.79651, -104.75859 38...</td>\n",
              "      <td>Major local road</td>\n",
              "      <td>0.790</td>\n",
              "      <td>one_side</td>\n",
              "      <td>NaN</td>\n",
              "      <td>Fast</td>\n",
              "    </tr>\n",
              "    <tr>\n",
              "      <th>40</th>\n",
              "      <td>MULTILINESTRING ((-104.77412 38.80433, -104.77...</td>\n",
              "      <td>Major local road</td>\n",
              "      <td>1.000</td>\n",
              "      <td>one_side</td>\n",
              "      <td>NaN</td>\n",
              "      <td>Fast</td>\n",
              "    </tr>\n",
              "  </tbody>\n",
              "</table>\n",
              "<p>109 rows × 6 columns</p>\n",
              "</div>"
            ],
            "text/plain": [
              "                                             geometry  ... relative_speed_level\n",
              "0   MULTILINESTRING ((-104.83519 38.82944, -104.83...  ...                 Fast\n",
              "1   LINESTRING (-104.83352 38.82741, -104.83523 38...  ...               Medium\n",
              "2   LINESTRING (-104.83764 38.82928, -104.83781 38...  ...               Medium\n",
              "3   LINESTRING (-104.83515 38.82634, -104.83498 38...  ...               Medium\n",
              "4   LINESTRING (-104.83060 38.81657, -104.83026 38...  ...               Medium\n",
              "..                                                ...  ...                  ...\n",
              "36  LINESTRING (-104.73026 38.80607, -104.73026 38...  ...               Medium\n",
              "37  LINESTRING (-104.76288 38.79082, -104.76279 38...  ...               Medium\n",
              "38  LINESTRING (-104.73035 38.79885, -104.73035 38...  ...               Medium\n",
              "39  LINESTRING (-104.75781 38.79651, -104.75859 38...  ...                 Fast\n",
              "40  MULTILINESTRING ((-104.77412 38.80433, -104.77...  ...                 Fast\n",
              "\n",
              "[109 rows x 6 columns]"
            ]
          },
          "metadata": {},
          "execution_count": 62
        }
      ]
    },
    {
      "cell_type": "code",
      "metadata": {
        "colab": {
          "base_uri": "https://localhost:8080/"
        },
        "id": "_SoOp2gKNnfV",
        "outputId": "4059dc12-9f10-4c98-f53b-3b62dbcb9512"
      },
      "source": [
        "traffic_relative['geometry'][0]"
      ],
      "execution_count": null,
      "outputs": [
        {
          "output_type": "execute_result",
          "data": {
            "text/plain": [
              "0    MULTILINESTRING ((-104.83519 38.82944, -104.83...\n",
              "0    MULTILINESTRING ((-104.77442 38.76345, -104.77...\n",
              "Name: geometry, dtype: geometry"
            ]
          },
          "metadata": {},
          "execution_count": 63
        }
      ]
    },
    {
      "cell_type": "code",
      "metadata": {
        "id": "nf5W3J6ISwLi"
      },
      "source": [
        "traffic_relative.to_csv('TomTom_Flow_DataSample.csv')"
      ],
      "execution_count": null,
      "outputs": []
    },
    {
      "cell_type": "markdown",
      "metadata": {
        "id": "himfZ58LFVMw"
      },
      "source": [
        "# Incident Data"
      ]
    },
    {
      "cell_type": "code",
      "metadata": {
        "id": "hO98WWeOE1A1"
      },
      "source": [
        "def incidents(x1,y1,x2,y2,key):\n",
        "    url = 'https://api.tomtom.com/traffic/services/4/incidentDetails/s3/{}%2C{}%2C{}%2C{}/11/-1/json?projection=EPSG4326&expandCluster=true&key={}'.format(x1,y1,x2,y2,key)\n",
        "    r = requests.get(url)\n",
        "    return json.loads(r.content)\n",
        "data = incidents(38.699302,-104.842293,38.826745,-104.728730,key)"
      ],
      "execution_count": null,
      "outputs": []
    },
    {
      "cell_type": "code",
      "metadata": {
        "id": "N9KVRMSXGami"
      },
      "source": [
        "# data[0]"
      ],
      "execution_count": null,
      "outputs": []
    },
    {
      "cell_type": "code",
      "metadata": {
        "id": "sUvMyFkqE_3l"
      },
      "source": [
        "feature = {\n",
        "    \"type\": \"FeatureCollection\",\n",
        "    \"features\": [\n",
        "    {\n",
        "        \"type\": \"Feature\",\n",
        "        \"geometry\" : {\n",
        "            \"type\": \"Point\",\n",
        "            \"coordinates\": [j['p']['x'], j['p']['y']],\n",
        "            },\n",
        "        \"properties\" : j \n",
        "     } for i in data['tm']['poi'] if 'cpoi' in i for j in i['cpoi'] ]\n",
        "} \n",
        "feature1 = {\n",
        "    \"type\": \"FeatureCollection\",\n",
        "    \"features\": [\n",
        "    {\n",
        "        \"type\": \"Feature\",\n",
        "        \"geometry\" : {\n",
        "            \"type\": \"Point\",\n",
        "            \"coordinates\": [j['p']['x'], j['p']['y']],\n",
        "            },\n",
        "        \"properties\" : j\n",
        "     } for j in data['tm']['poi'] if 'cpoi' not in j]\n",
        "}\n",
        "feature2 = {\n",
        "    \"type\": \"FeatureCollection\",\n",
        "    \"features\": [\n",
        "    {\n",
        "        \"type\": \"Feature\",\n",
        "        \"geometry\" : {\n",
        "            \"type\": \"Point\",\n",
        "            \"coordinates\": [j['p']['x'], j['p']['y']],\n",
        "            },\n",
        "        \"properties\" : {'id_c':i['id']}  \n",
        "     } for i in data['tm']['poi'] if 'cpoi' in i for j in i['cpoi'] ]\n",
        "} \n",
        "df_incidents = gpd.GeoDataFrame.from_features(feature)\n",
        "df_incidents2 = gpd.GeoDataFrame.from_features(feature2)\n",
        "df_incidents = df_incidents.merge(df_incidents2, on = 'geometry')\n",
        "df_incidents1 = gpd.GeoDataFrame.from_features(feature1)\n",
        "df_incidents = df_incidents.append(df_incidents1).reset_index()"
      ],
      "execution_count": null,
      "outputs": []
    },
    {
      "cell_type": "code",
      "metadata": {
        "id": "TmRv99YcFCoN"
      },
      "source": [
        "df_incidents = df_incidents.rename(columns={'id_c':'cluster_id','ic': 'category','ty':'magnitude_of_delay','cs':'num_incidents','l':'len_incidents',\n",
        "                    'd':'description','c':'cause','sd':'start','ed':'end','f':'from_intersection_road',\n",
        "                   't':'to_intersection_road','r':'num_affected_road'})\n",
        "incidents = df_incidents.drop(['p','num_incidents'], axis=1)\n",
        "incidents['category'] = incidents['category'].map({0: 'Unknown',1: 'Accident',2: 'Fog',3: 'Dangerous Conditions',\n",
        "                                                         4: 'Rain',5: 'Ice', 6: 'Jam',7: 'Lane Closed',8: 'Road Closed',\n",
        "                                                         9: 'Road Works',10: 'Wind',11: 'Flooding',12: 'Detour',\n",
        "                                                         13:'multiple',14: 'Broken Down Vehicle'})\n",
        "incidents['magnitude_of_delay'] = incidents['magnitude_of_delay'].map({0: 'Unknown',1: 'Minor',2: 'Moderate',\n",
        "                                                                       3: 'Major', 4: 'road closures and other indefinite delays'})\n",
        "incidents['len_incidents'] = incidents['len_incidents'].apply(lambda x: round(x*0.000621371,2))                                                                             \n",
        "incidents.fillna('Unknown', inplace=True) \n",
        "incidents_cluster = incidents.groupby('cluster_id')['geometry'].apply(\n",
        "    lambda x: Polygon(x.tolist()) if x.count()>2 else None).reset_index()"
      ],
      "execution_count": null,
      "outputs": []
    },
    {
      "cell_type": "code",
      "metadata": {
        "id": "TJ-bbLd6FES0"
      },
      "source": [
        "incidents = incidents.rename(columns={'id_c':'cluster_id','ic': 'category','ty':'magnitude_of_delay','cs':'num_incidents','l':'len_incidents',\n",
        "                    'd':'description','c':'cause','sd':'start','ed':'end','f':'from_intersection_road',\n",
        "                   't':'to_intersection_road','r':'num_affected_road'})\n",
        "incidents['category'] = incidents['category'].map({0: 'Unknown',1: 'Accident',2: 'Fog',3: 'Dangerous Conditions',\n",
        "                                                         4: 'Rain',5: 'Ice', 6: 'Jam',7: 'Lane Closed',8: 'Road Closed',\n",
        "                                                         9: 'Road Works',10: 'Wind',11: 'Flooding',12: 'Detour',\n",
        "                                                         13:'multiple',14: 'Broken Down Vehicle'})\n",
        "incidents['len_incidents'] = incidents['len_incidents'].apply(lambda x: round(x*0.000621371,2))                                                                             \n",
        "incidents.fillna('Unknown', inplace=True)"
      ],
      "execution_count": null,
      "outputs": []
    },
    {
      "cell_type": "code",
      "metadata": {
        "colab": {
          "base_uri": "https://localhost:8080/",
          "height": 719
        },
        "id": "8GezcCeeFGMT",
        "outputId": "0ab7cde8-8b45-4c80-aba0-d7aea2220c1d"
      },
      "source": [
        "incidents.head(10)"
      ],
      "execution_count": null,
      "outputs": [
        {
          "output_type": "execute_result",
          "data": {
            "text/html": [
              "<div>\n",
              "<style scoped>\n",
              "    .dataframe tbody tr th:only-of-type {\n",
              "        vertical-align: middle;\n",
              "    }\n",
              "\n",
              "    .dataframe tbody tr th {\n",
              "        vertical-align: top;\n",
              "    }\n",
              "\n",
              "    .dataframe thead th {\n",
              "        text-align: right;\n",
              "    }\n",
              "</style>\n",
              "<table border=\"1\" class=\"dataframe\">\n",
              "  <thead>\n",
              "    <tr style=\"text-align: right;\">\n",
              "      <th></th>\n",
              "      <th>index</th>\n",
              "      <th>geometry</th>\n",
              "      <th>id</th>\n",
              "      <th>category</th>\n",
              "      <th>magnitude_of_delay</th>\n",
              "      <th>description</th>\n",
              "      <th>start</th>\n",
              "      <th>from_intersection_road</th>\n",
              "      <th>to_intersection_road</th>\n",
              "      <th>len_incidents</th>\n",
              "      <th>cause</th>\n",
              "      <th>end</th>\n",
              "      <th>cluster_id</th>\n",
              "      <th>num_affected_road</th>\n",
              "      <th>dl</th>\n",
              "    </tr>\n",
              "  </thead>\n",
              "  <tbody>\n",
              "    <tr>\n",
              "      <th>0</th>\n",
              "      <td>0</td>\n",
              "      <td>POINT (-104.82033 38.82461)</td>\n",
              "      <td>403d1554c462004ac3b5bb155f40bb32</td>\n",
              "      <td>Unknown</td>\n",
              "      <td>road closures and other indefinite delays</td>\n",
              "      <td>closed</td>\n",
              "      <td>2021-08-17T18:43:00Z</td>\n",
              "      <td>S Nevada Ave (E Cimarron St)</td>\n",
              "      <td>S Wahsatch Ave/Pueblo Ave (E Cimarron St)</td>\n",
              "      <td>0.0</td>\n",
              "      <td>Unknown</td>\n",
              "      <td>Unknown</td>\n",
              "      <td>CLUSTER_80160</td>\n",
              "      <td>Unknown</td>\n",
              "      <td>Unknown</td>\n",
              "    </tr>\n",
              "    <tr>\n",
              "      <th>1</th>\n",
              "      <td>1</td>\n",
              "      <td>POINT (-104.81875 38.82886)</td>\n",
              "      <td>a676fb5c6f26e187fd7f990135d49258</td>\n",
              "      <td>Unknown</td>\n",
              "      <td>road closures and other indefinite delays</td>\n",
              "      <td>closed</td>\n",
              "      <td>2021-08-17T18:36:00Z</td>\n",
              "      <td>S Wahsatch Ave/Pueblo Ave (E Cimarron St)</td>\n",
              "      <td>S Nevada Ave (E Cimarron St)</td>\n",
              "      <td>0.0</td>\n",
              "      <td>Unknown</td>\n",
              "      <td>Unknown</td>\n",
              "      <td>CLUSTER_80160</td>\n",
              "      <td>Unknown</td>\n",
              "      <td>Unknown</td>\n",
              "    </tr>\n",
              "    <tr>\n",
              "      <th>2</th>\n",
              "      <td>2</td>\n",
              "      <td>POINT (-104.81831 38.82885)</td>\n",
              "      <td>b106f23c4722b6e205aec3adb7374a97</td>\n",
              "      <td>Unknown</td>\n",
              "      <td>road closures and other indefinite delays</td>\n",
              "      <td>closed</td>\n",
              "      <td>2021-10-05T03:28:30Z</td>\n",
              "      <td>S Wahsatch Ave</td>\n",
              "      <td>S Nevada Ave</td>\n",
              "      <td>0.0</td>\n",
              "      <td>Unknown</td>\n",
              "      <td>Unknown</td>\n",
              "      <td>CLUSTER_80160</td>\n",
              "      <td>Unknown</td>\n",
              "      <td>Unknown</td>\n",
              "    </tr>\n",
              "    <tr>\n",
              "      <th>3</th>\n",
              "      <td>3</td>\n",
              "      <td>POINT (-104.81845 38.82671)</td>\n",
              "      <td>9f3c243236546d4c86dbb0fb35f620cf</td>\n",
              "      <td>Unknown</td>\n",
              "      <td>road closures and other indefinite delays</td>\n",
              "      <td>closed</td>\n",
              "      <td>2021-09-30T18:31:30Z</td>\n",
              "      <td>E Cimarron St (S Wahsatch Ave)</td>\n",
              "      <td>E Fountain Blvd (S Wahsatch Ave)</td>\n",
              "      <td>0.0</td>\n",
              "      <td>Unknown</td>\n",
              "      <td>Unknown</td>\n",
              "      <td>CLUSTER_80160</td>\n",
              "      <td>Unknown</td>\n",
              "      <td>Unknown</td>\n",
              "    </tr>\n",
              "    <tr>\n",
              "      <th>4</th>\n",
              "      <td>4</td>\n",
              "      <td>POINT (-104.81620 38.83580)</td>\n",
              "      <td>5a84a8b1e03168c206ba03ad68ab47e3</td>\n",
              "      <td>Unknown</td>\n",
              "      <td>road closures and other indefinite delays</td>\n",
              "      <td>closed</td>\n",
              "      <td>2021-09-24T20:10:00Z</td>\n",
              "      <td>S Hancock Ave (E Pikes Peak Ave)</td>\n",
              "      <td>N Wahsatch Ave (E Pikes Peak Ave)</td>\n",
              "      <td>0.0</td>\n",
              "      <td>Unknown</td>\n",
              "      <td>Unknown</td>\n",
              "      <td>CLUSTER_80160</td>\n",
              "      <td>Unknown</td>\n",
              "      <td>Unknown</td>\n",
              "    </tr>\n",
              "    <tr>\n",
              "      <th>5</th>\n",
              "      <td>5</td>\n",
              "      <td>POINT (-104.81287 38.83853)</td>\n",
              "      <td>f81203977d7aec8dde4fe2a807f63ef7</td>\n",
              "      <td>Unknown</td>\n",
              "      <td>road closures and other indefinite delays</td>\n",
              "      <td>closed</td>\n",
              "      <td>2021-08-28T00:23:00Z</td>\n",
              "      <td>E Boulder St</td>\n",
              "      <td>E Bijou St</td>\n",
              "      <td>0.0</td>\n",
              "      <td>Unknown</td>\n",
              "      <td>Unknown</td>\n",
              "      <td>CLUSTER_80160</td>\n",
              "      <td>Unknown</td>\n",
              "      <td>Unknown</td>\n",
              "    </tr>\n",
              "    <tr>\n",
              "      <th>6</th>\n",
              "      <td>6</td>\n",
              "      <td>POINT (-104.78998 38.79352)</td>\n",
              "      <td>73fcb0860b3941543ef41aabacc0d5ca</td>\n",
              "      <td>Unknown</td>\n",
              "      <td>road closures and other indefinite delays</td>\n",
              "      <td>closed</td>\n",
              "      <td>2021-10-06T15:55:10Z</td>\n",
              "      <td>Janitell Rd</td>\n",
              "      <td>Janitell Rd</td>\n",
              "      <td>0.0</td>\n",
              "      <td>roadworks</td>\n",
              "      <td>2021-10-14T05:59:00Z</td>\n",
              "      <td>CLUSTER_80163</td>\n",
              "      <td>Unknown</td>\n",
              "      <td>Unknown</td>\n",
              "    </tr>\n",
              "    <tr>\n",
              "      <th>7</th>\n",
              "      <td>7</td>\n",
              "      <td>POINT (-104.78940 38.78542)</td>\n",
              "      <td>b4cfc6c37e00830f00e3c706b178e75e</td>\n",
              "      <td>Unknown</td>\n",
              "      <td>road closures and other indefinite delays</td>\n",
              "      <td>closed</td>\n",
              "      <td>2021-10-09T21:37:30Z</td>\n",
              "      <td>I-25 N / S Academy Blvd</td>\n",
              "      <td>Executive Cir</td>\n",
              "      <td>0.0</td>\n",
              "      <td>Unknown</td>\n",
              "      <td>Unknown</td>\n",
              "      <td>CLUSTER_80163</td>\n",
              "      <td>Unknown</td>\n",
              "      <td>Unknown</td>\n",
              "    </tr>\n",
              "    <tr>\n",
              "      <th>8</th>\n",
              "      <td>8</td>\n",
              "      <td>POINT (-104.78933 38.78417)</td>\n",
              "      <td>678d440761e0c921e651c772a57bb4f2</td>\n",
              "      <td>Unknown</td>\n",
              "      <td>road closures and other indefinite delays</td>\n",
              "      <td>closed</td>\n",
              "      <td>2021-10-05T00:18:30Z</td>\n",
              "      <td>S US Highway 85 87 / Venetucci Blvd</td>\n",
              "      <td>S Academy Blvd</td>\n",
              "      <td>0.0</td>\n",
              "      <td>Unknown</td>\n",
              "      <td>Unknown</td>\n",
              "      <td>CLUSTER_80163</td>\n",
              "      <td>Unknown</td>\n",
              "      <td>Unknown</td>\n",
              "    </tr>\n",
              "    <tr>\n",
              "      <th>9</th>\n",
              "      <td>9</td>\n",
              "      <td>POINT (-104.73687 38.73430)</td>\n",
              "      <td>dfac02e5b9f55df00c006e2d79fafa75</td>\n",
              "      <td>Unknown</td>\n",
              "      <td>road closures and other indefinite delays</td>\n",
              "      <td>closed</td>\n",
              "      <td>2020-09-16T11:23:48Z</td>\n",
              "      <td>Paladin Pl</td>\n",
              "      <td>Puerta Rd</td>\n",
              "      <td>0.0</td>\n",
              "      <td>Unknown</td>\n",
              "      <td>Unknown</td>\n",
              "      <td>CLUSTER_80174</td>\n",
              "      <td>Unknown</td>\n",
              "      <td>Unknown</td>\n",
              "    </tr>\n",
              "  </tbody>\n",
              "</table>\n",
              "</div>"
            ],
            "text/plain": [
              "   index                     geometry  ... num_affected_road       dl\n",
              "0      0  POINT (-104.82033 38.82461)  ...           Unknown  Unknown\n",
              "1      1  POINT (-104.81875 38.82886)  ...           Unknown  Unknown\n",
              "2      2  POINT (-104.81831 38.82885)  ...           Unknown  Unknown\n",
              "3      3  POINT (-104.81845 38.82671)  ...           Unknown  Unknown\n",
              "4      4  POINT (-104.81620 38.83580)  ...           Unknown  Unknown\n",
              "5      5  POINT (-104.81287 38.83853)  ...           Unknown  Unknown\n",
              "6      6  POINT (-104.78998 38.79352)  ...           Unknown  Unknown\n",
              "7      7  POINT (-104.78940 38.78542)  ...           Unknown  Unknown\n",
              "8      8  POINT (-104.78933 38.78417)  ...           Unknown  Unknown\n",
              "9      9  POINT (-104.73687 38.73430)  ...           Unknown  Unknown\n",
              "\n",
              "[10 rows x 15 columns]"
            ]
          },
          "metadata": {},
          "execution_count": 70
        }
      ]
    },
    {
      "cell_type": "code",
      "metadata": {
        "id": "C3HqfvLzFHrV"
      },
      "source": [
        "incidents.to_csv('TomTom_Incidents_DataSample.csv')"
      ],
      "execution_count": null,
      "outputs": []
    },
    {
      "cell_type": "code",
      "metadata": {
        "id": "HFb6_h4yTnaW"
      },
      "source": [
        ""
      ],
      "execution_count": null,
      "outputs": []
    }
  ]
}