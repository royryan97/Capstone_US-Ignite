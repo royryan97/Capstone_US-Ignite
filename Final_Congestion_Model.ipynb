{
  "cells": [
    {
      "cell_type": "markdown",
      "metadata": {
        "id": "zi30sstVORfd"
      },
      "source": [
        "## Data Preparation "
      ]
    },
    {
      "cell_type": "markdown",
      "metadata": {
        "id": "oBuKYxYoOKf1"
      },
      "source": [
        "### Load packages"
      ]
    },
    {
      "cell_type": "code",
      "execution_count": 1,
      "metadata": {
        "colab": {
          "base_uri": "https://localhost:8080/"
        },
        "id": "rxspTk6shIrK",
        "outputId": "71e14bfa-42f1-41e2-bf67-c57f1d1f1c7c"
      },
      "outputs": [
        {
          "output_type": "stream",
          "name": "stdout",
          "text": [
            "Collecting heatmapz\n",
            "  Downloading heatmapz-0.0.4-py3-none-any.whl (5.8 kB)\n",
            "Requirement already satisfied: seaborn in /usr/local/lib/python3.7/dist-packages (from heatmapz) (0.11.2)\n",
            "Requirement already satisfied: matplotlib>=3.0.3 in /usr/local/lib/python3.7/dist-packages (from heatmapz) (3.2.2)\n",
            "Requirement already satisfied: pandas in /usr/local/lib/python3.7/dist-packages (from heatmapz) (1.1.5)\n",
            "Requirement already satisfied: cycler>=0.10 in /usr/local/lib/python3.7/dist-packages (from matplotlib>=3.0.3->heatmapz) (0.11.0)\n",
            "Requirement already satisfied: numpy>=1.11 in /usr/local/lib/python3.7/dist-packages (from matplotlib>=3.0.3->heatmapz) (1.19.5)\n",
            "Requirement already satisfied: kiwisolver>=1.0.1 in /usr/local/lib/python3.7/dist-packages (from matplotlib>=3.0.3->heatmapz) (1.3.2)\n",
            "Requirement already satisfied: python-dateutil>=2.1 in /usr/local/lib/python3.7/dist-packages (from matplotlib>=3.0.3->heatmapz) (2.8.2)\n",
            "Requirement already satisfied: pyparsing!=2.0.4,!=2.1.2,!=2.1.6,>=2.0.1 in /usr/local/lib/python3.7/dist-packages (from matplotlib>=3.0.3->heatmapz) (3.0.6)\n",
            "Requirement already satisfied: six>=1.5 in /usr/local/lib/python3.7/dist-packages (from python-dateutil>=2.1->matplotlib>=3.0.3->heatmapz) (1.15.0)\n",
            "Requirement already satisfied: pytz>=2017.2 in /usr/local/lib/python3.7/dist-packages (from pandas->heatmapz) (2018.9)\n",
            "Requirement already satisfied: scipy>=1.0 in /usr/local/lib/python3.7/dist-packages (from seaborn->heatmapz) (1.4.1)\n",
            "Installing collected packages: heatmapz\n",
            "Successfully installed heatmapz-0.0.4\n",
            "Collecting shap\n",
            "  Downloading shap-0.40.0-cp37-cp37m-manylinux2010_x86_64.whl (564 kB)\n",
            "\u001b[K     |████████████████████████████████| 564 kB 6.7 MB/s \n",
            "\u001b[?25hRequirement already satisfied: scikit-learn in /usr/local/lib/python3.7/dist-packages (from shap) (1.0.1)\n",
            "Requirement already satisfied: cloudpickle in /usr/local/lib/python3.7/dist-packages (from shap) (1.3.0)\n",
            "Requirement already satisfied: tqdm>4.25.0 in /usr/local/lib/python3.7/dist-packages (from shap) (4.62.3)\n",
            "Collecting slicer==0.0.7\n",
            "  Downloading slicer-0.0.7-py3-none-any.whl (14 kB)\n",
            "Requirement already satisfied: packaging>20.9 in /usr/local/lib/python3.7/dist-packages (from shap) (21.3)\n",
            "Requirement already satisfied: numba in /usr/local/lib/python3.7/dist-packages (from shap) (0.51.2)\n",
            "Requirement already satisfied: scipy in /usr/local/lib/python3.7/dist-packages (from shap) (1.4.1)\n",
            "Requirement already satisfied: numpy in /usr/local/lib/python3.7/dist-packages (from shap) (1.19.5)\n",
            "Requirement already satisfied: pandas in /usr/local/lib/python3.7/dist-packages (from shap) (1.1.5)\n",
            "Requirement already satisfied: pyparsing!=3.0.5,>=2.0.2 in /usr/local/lib/python3.7/dist-packages (from packaging>20.9->shap) (3.0.6)\n",
            "Requirement already satisfied: setuptools in /usr/local/lib/python3.7/dist-packages (from numba->shap) (57.4.0)\n",
            "Requirement already satisfied: llvmlite<0.35,>=0.34.0.dev0 in /usr/local/lib/python3.7/dist-packages (from numba->shap) (0.34.0)\n",
            "Requirement already satisfied: pytz>=2017.2 in /usr/local/lib/python3.7/dist-packages (from pandas->shap) (2018.9)\n",
            "Requirement already satisfied: python-dateutil>=2.7.3 in /usr/local/lib/python3.7/dist-packages (from pandas->shap) (2.8.2)\n",
            "Requirement already satisfied: six>=1.5 in /usr/local/lib/python3.7/dist-packages (from python-dateutil>=2.7.3->pandas->shap) (1.15.0)\n",
            "Requirement already satisfied: threadpoolctl>=2.0.0 in /usr/local/lib/python3.7/dist-packages (from scikit-learn->shap) (3.0.0)\n",
            "Requirement already satisfied: joblib>=0.11 in /usr/local/lib/python3.7/dist-packages (from scikit-learn->shap) (1.1.0)\n",
            "Installing collected packages: slicer, shap\n",
            "Successfully installed shap-0.40.0 slicer-0.0.7\n",
            "Collecting category_encoders\n",
            "  Downloading category_encoders-2.3.0-py2.py3-none-any.whl (82 kB)\n",
            "\u001b[K     |████████████████████████████████| 82 kB 479 kB/s \n",
            "\u001b[?25hRequirement already satisfied: pandas>=0.21.1 in /usr/local/lib/python3.7/dist-packages (from category_encoders) (1.1.5)\n",
            "Requirement already satisfied: scipy>=1.0.0 in /usr/local/lib/python3.7/dist-packages (from category_encoders) (1.4.1)\n",
            "Requirement already satisfied: scikit-learn>=0.20.0 in /usr/local/lib/python3.7/dist-packages (from category_encoders) (1.0.1)\n",
            "Requirement already satisfied: numpy>=1.14.0 in /usr/local/lib/python3.7/dist-packages (from category_encoders) (1.19.5)\n",
            "Requirement already satisfied: statsmodels>=0.9.0 in /usr/local/lib/python3.7/dist-packages (from category_encoders) (0.10.2)\n",
            "Requirement already satisfied: patsy>=0.5.1 in /usr/local/lib/python3.7/dist-packages (from category_encoders) (0.5.2)\n",
            "Requirement already satisfied: pytz>=2017.2 in /usr/local/lib/python3.7/dist-packages (from pandas>=0.21.1->category_encoders) (2018.9)\n",
            "Requirement already satisfied: python-dateutil>=2.7.3 in /usr/local/lib/python3.7/dist-packages (from pandas>=0.21.1->category_encoders) (2.8.2)\n",
            "Requirement already satisfied: six in /usr/local/lib/python3.7/dist-packages (from patsy>=0.5.1->category_encoders) (1.15.0)\n",
            "Requirement already satisfied: threadpoolctl>=2.0.0 in /usr/local/lib/python3.7/dist-packages (from scikit-learn>=0.20.0->category_encoders) (3.0.0)\n",
            "Requirement already satisfied: joblib>=0.11 in /usr/local/lib/python3.7/dist-packages (from scikit-learn>=0.20.0->category_encoders) (1.1.0)\n",
            "Installing collected packages: category-encoders\n",
            "Successfully installed category-encoders-2.3.0\n"
          ]
        }
      ],
      "source": [
        "## basic packages\n",
        "import pandas as pd\n",
        "import numpy as np\n",
        "import re\n",
        "from datetime import datetime\n",
        "import time\n",
        "\n",
        "## data scrapping\n",
        "import io, json\n",
        "import requests\n",
        "from bs4 import BeautifulSoup\n",
        "import csv\n",
        "\n",
        "## plotting tools\n",
        "from wordcloud import WordCloud\n",
        "import collections\n",
        "from collections import Counter\n",
        "import matplotlib.pyplot as plt\n",
        "import matplotlib.gridspec as gridspec \n",
        "import seaborn as sns\n",
        "%matplotlib inline\n",
        "\n",
        "!pip install heatmapz\n",
        "\n",
        "## machine learning tools\n",
        "from sklearn.decomposition import LatentDirichletAllocation\n",
        "from sklearn.feature_extraction.text import CountVectorizer, TfidfVectorizer\n",
        "from sklearn.model_selection import train_test_split, GridSearchCV, KFold, StratifiedKFold\n",
        "from sklearn.preprocessing import LabelEncoder, OrdinalEncoder, OneHotEncoder, minmax_scale\n",
        "from sklearn.impute import SimpleImputer\n",
        "from sklearn.linear_model import LogisticRegression\n",
        "from sklearn.svm import SVC\n",
        "from sklearn.tree import DecisionTreeClassifier\n",
        "from sklearn.ensemble import RandomForestClassifier\n",
        "import xgboost as xgb\n",
        "from xgboost import XGBClassifier\n",
        "import lightgbm as lgb\n",
        "from sklearn.neighbors import KNeighborsClassifier\n",
        "from sklearn.metrics import precision_score, roc_curve, recall_score, f1_score, roc_auc_score, accuracy_score\n",
        "from imblearn.over_sampling import SMOTE\n",
        "!pip install shap\n",
        "import shap\n",
        "\n",
        "## Filter warnings\n",
        "import warnings\n",
        "warnings.filterwarnings('ignore')\n",
        "\n",
        "!pip install category_encoders\n",
        "import category_encoders"
      ]
    },
    {
      "cell_type": "code",
      "execution_count": 2,
      "metadata": {
        "id": "fGVnU9tfhIrL"
      },
      "outputs": [],
      "source": [
        "weather_df = pd.read_csv('WeatherData20years.csv')"
      ]
    },
    {
      "cell_type": "code",
      "execution_count": 3,
      "metadata": {
        "id": "LJf-rT3YhIrL"
      },
      "outputs": [],
      "source": [
        "waze_df = pd.read_csv('Waze_City_Irregularity_Data.csv')"
      ]
    },
    {
      "cell_type": "markdown",
      "metadata": {
        "id": "YYVBEuGaOxXh"
      },
      "source": [
        "## Data cleanning"
      ]
    },
    {
      "cell_type": "markdown",
      "metadata": {
        "id": "WnfCSKdWhIrM"
      },
      "source": [
        "### Weather Data Cleanning"
      ]
    },
    {
      "cell_type": "code",
      "execution_count": 4,
      "metadata": {
        "colab": {
          "base_uri": "https://localhost:8080/",
          "height": 320
        },
        "id": "dtNHEnYWhIrN",
        "outputId": "ba97c2ed-2790-401f-9c89-c5ebb75982cd"
      },
      "outputs": [
        {
          "output_type": "execute_result",
          "data": {
            "text/html": [
              "<div>\n",
              "<style scoped>\n",
              "    .dataframe tbody tr th:only-of-type {\n",
              "        vertical-align: middle;\n",
              "    }\n",
              "\n",
              "    .dataframe tbody tr th {\n",
              "        vertical-align: top;\n",
              "    }\n",
              "\n",
              "    .dataframe thead th {\n",
              "        text-align: right;\n",
              "    }\n",
              "</style>\n",
              "<table border=\"1\" class=\"dataframe\">\n",
              "  <thead>\n",
              "    <tr style=\"text-align: right;\">\n",
              "      <th></th>\n",
              "      <th>dt</th>\n",
              "      <th>timezone</th>\n",
              "      <th>lat</th>\n",
              "      <th>lon</th>\n",
              "      <th>temp</th>\n",
              "      <th>feels_like</th>\n",
              "      <th>temp_min</th>\n",
              "      <th>temp_max</th>\n",
              "      <th>pressure</th>\n",
              "      <th>sea_level</th>\n",
              "      <th>grnd_level</th>\n",
              "      <th>humidity</th>\n",
              "      <th>wind_speed</th>\n",
              "      <th>wind_deg</th>\n",
              "      <th>rain_1h</th>\n",
              "      <th>rain_3h</th>\n",
              "      <th>snow_1h</th>\n",
              "      <th>snow_3h</th>\n",
              "      <th>clouds_all</th>\n",
              "      <th>weather_id</th>\n",
              "    </tr>\n",
              "  </thead>\n",
              "  <tbody>\n",
              "    <tr>\n",
              "      <th>count</th>\n",
              "      <td>2.008910e+05</td>\n",
              "      <td>200891.000000</td>\n",
              "      <td>2.008910e+05</td>\n",
              "      <td>2.008910e+05</td>\n",
              "      <td>200891.000000</td>\n",
              "      <td>200891.000000</td>\n",
              "      <td>200891.000000</td>\n",
              "      <td>200891.000000</td>\n",
              "      <td>200891.000000</td>\n",
              "      <td>0.0</td>\n",
              "      <td>0.0</td>\n",
              "      <td>200891.000000</td>\n",
              "      <td>200891.000000</td>\n",
              "      <td>200891.000000</td>\n",
              "      <td>13409.000000</td>\n",
              "      <td>498.000000</td>\n",
              "      <td>7380.000000</td>\n",
              "      <td>323.000000</td>\n",
              "      <td>200891.000000</td>\n",
              "      <td>200891.000000</td>\n",
              "    </tr>\n",
              "    <tr>\n",
              "      <th>mean</th>\n",
              "      <td>1.288289e+09</td>\n",
              "      <td>-22946.736290</td>\n",
              "      <td>3.883388e+01</td>\n",
              "      <td>-1.048214e+02</td>\n",
              "      <td>282.943733</td>\n",
              "      <td>280.861866</td>\n",
              "      <td>280.931827</td>\n",
              "      <td>284.853067</td>\n",
              "      <td>1017.876859</td>\n",
              "      <td>NaN</td>\n",
              "      <td>NaN</td>\n",
              "      <td>51.753229</td>\n",
              "      <td>3.655968</td>\n",
              "      <td>168.070013</td>\n",
              "      <td>0.802609</td>\n",
              "      <td>2.554819</td>\n",
              "      <td>0.419081</td>\n",
              "      <td>0.900588</td>\n",
              "      <td>34.159435</td>\n",
              "      <td>752.778815</td>\n",
              "    </tr>\n",
              "    <tr>\n",
              "      <th>std</th>\n",
              "      <td>1.996860e+08</td>\n",
              "      <td>1742.000894</td>\n",
              "      <td>9.774250e-11</td>\n",
              "      <td>2.015104e-10</td>\n",
              "      <td>10.961915</td>\n",
              "      <td>12.176231</td>\n",
              "      <td>11.093824</td>\n",
              "      <td>10.850933</td>\n",
              "      <td>7.012385</td>\n",
              "      <td>NaN</td>\n",
              "      <td>NaN</td>\n",
              "      <td>25.000042</td>\n",
              "      <td>2.763001</td>\n",
              "      <td>119.117429</td>\n",
              "      <td>1.443521</td>\n",
              "      <td>5.142969</td>\n",
              "      <td>0.380056</td>\n",
              "      <td>0.919187</td>\n",
              "      <td>35.348005</td>\n",
              "      <td>115.255693</td>\n",
              "    </tr>\n",
              "    <tr>\n",
              "      <th>min</th>\n",
              "      <td>9.466848e+08</td>\n",
              "      <td>-25200.000000</td>\n",
              "      <td>3.883388e+01</td>\n",
              "      <td>-1.048214e+02</td>\n",
              "      <td>247.370000</td>\n",
              "      <td>240.370000</td>\n",
              "      <td>240.320000</td>\n",
              "      <td>247.400000</td>\n",
              "      <td>979.000000</td>\n",
              "      <td>NaN</td>\n",
              "      <td>NaN</td>\n",
              "      <td>2.000000</td>\n",
              "      <td>0.000000</td>\n",
              "      <td>0.000000</td>\n",
              "      <td>0.100000</td>\n",
              "      <td>0.250000</td>\n",
              "      <td>0.100000</td>\n",
              "      <td>0.280000</td>\n",
              "      <td>0.000000</td>\n",
              "      <td>200.000000</td>\n",
              "    </tr>\n",
              "    <tr>\n",
              "      <th>25%</th>\n",
              "      <td>1.112834e+09</td>\n",
              "      <td>-25200.000000</td>\n",
              "      <td>3.883388e+01</td>\n",
              "      <td>-1.048214e+02</td>\n",
              "      <td>274.380000</td>\n",
              "      <td>271.280000</td>\n",
              "      <td>272.330000</td>\n",
              "      <td>276.370000</td>\n",
              "      <td>1014.000000</td>\n",
              "      <td>NaN</td>\n",
              "      <td>NaN</td>\n",
              "      <td>30.000000</td>\n",
              "      <td>1.540000</td>\n",
              "      <td>60.000000</td>\n",
              "      <td>0.210000</td>\n",
              "      <td>0.300000</td>\n",
              "      <td>0.200000</td>\n",
              "      <td>0.300000</td>\n",
              "      <td>1.000000</td>\n",
              "      <td>800.000000</td>\n",
              "    </tr>\n",
              "    <tr>\n",
              "      <th>50%</th>\n",
              "      <td>1.287504e+09</td>\n",
              "      <td>-21600.000000</td>\n",
              "      <td>3.883388e+01</td>\n",
              "      <td>-1.048214e+02</td>\n",
              "      <td>283.090000</td>\n",
              "      <td>281.650000</td>\n",
              "      <td>281.090000</td>\n",
              "      <td>284.990000</td>\n",
              "      <td>1019.000000</td>\n",
              "      <td>NaN</td>\n",
              "      <td>NaN</td>\n",
              "      <td>50.000000</td>\n",
              "      <td>3.100000</td>\n",
              "      <td>160.000000</td>\n",
              "      <td>0.410000</td>\n",
              "      <td>0.800000</td>\n",
              "      <td>0.280000</td>\n",
              "      <td>0.500000</td>\n",
              "      <td>20.000000</td>\n",
              "      <td>800.000000</td>\n",
              "    </tr>\n",
              "    <tr>\n",
              "      <th>75%</th>\n",
              "      <td>1.460731e+09</td>\n",
              "      <td>-21600.000000</td>\n",
              "      <td>3.883388e+01</td>\n",
              "      <td>-1.048214e+02</td>\n",
              "      <td>291.305000</td>\n",
              "      <td>290.430000</td>\n",
              "      <td>289.230000</td>\n",
              "      <td>293.080000</td>\n",
              "      <td>1023.000000</td>\n",
              "      <td>NaN</td>\n",
              "      <td>NaN</td>\n",
              "      <td>73.000000</td>\n",
              "      <td>5.100000</td>\n",
              "      <td>290.000000</td>\n",
              "      <td>0.890000</td>\n",
              "      <td>2.500000</td>\n",
              "      <td>0.510000</td>\n",
              "      <td>1.000000</td>\n",
              "      <td>75.000000</td>\n",
              "      <td>801.000000</td>\n",
              "    </tr>\n",
              "    <tr>\n",
              "      <th>max</th>\n",
              "      <td>1.635548e+09</td>\n",
              "      <td>-21600.000000</td>\n",
              "      <td>3.883388e+01</td>\n",
              "      <td>-1.048214e+02</td>\n",
              "      <td>310.640000</td>\n",
              "      <td>308.450000</td>\n",
              "      <td>309.250000</td>\n",
              "      <td>317.170000</td>\n",
              "      <td>1039.000000</td>\n",
              "      <td>NaN</td>\n",
              "      <td>NaN</td>\n",
              "      <td>100.000000</td>\n",
              "      <td>43.800000</td>\n",
              "      <td>360.000000</td>\n",
              "      <td>54.100000</td>\n",
              "      <td>76.700000</td>\n",
              "      <td>4.970000</td>\n",
              "      <td>5.300000</td>\n",
              "      <td>100.000000</td>\n",
              "      <td>804.000000</td>\n",
              "    </tr>\n",
              "  </tbody>\n",
              "</table>\n",
              "</div>"
            ],
            "text/plain": [
              "                 dt       timezone  ...     clouds_all     weather_id\n",
              "count  2.008910e+05  200891.000000  ...  200891.000000  200891.000000\n",
              "mean   1.288289e+09  -22946.736290  ...      34.159435     752.778815\n",
              "std    1.996860e+08    1742.000894  ...      35.348005     115.255693\n",
              "min    9.466848e+08  -25200.000000  ...       0.000000     200.000000\n",
              "25%    1.112834e+09  -25200.000000  ...       1.000000     800.000000\n",
              "50%    1.287504e+09  -21600.000000  ...      20.000000     800.000000\n",
              "75%    1.460731e+09  -21600.000000  ...      75.000000     801.000000\n",
              "max    1.635548e+09  -21600.000000  ...     100.000000     804.000000\n",
              "\n",
              "[8 rows x 20 columns]"
            ]
          },
          "metadata": {},
          "execution_count": 4
        }
      ],
      "source": [
        "weather_df.describe()"
      ]
    },
    {
      "cell_type": "code",
      "execution_count": 5,
      "metadata": {
        "colab": {
          "base_uri": "https://localhost:8080/",
          "height": 271
        },
        "id": "DFNCaM5qhIrO",
        "outputId": "48b81d12-b559-48bb-8a33-19b926647cc7"
      },
      "outputs": [
        {
          "output_type": "execute_result",
          "data": {
            "text/html": [
              "<div>\n",
              "<style scoped>\n",
              "    .dataframe tbody tr th:only-of-type {\n",
              "        vertical-align: middle;\n",
              "    }\n",
              "\n",
              "    .dataframe tbody tr th {\n",
              "        vertical-align: top;\n",
              "    }\n",
              "\n",
              "    .dataframe thead th {\n",
              "        text-align: right;\n",
              "    }\n",
              "</style>\n",
              "<table border=\"1\" class=\"dataframe\">\n",
              "  <thead>\n",
              "    <tr style=\"text-align: right;\">\n",
              "      <th></th>\n",
              "      <th>dt</th>\n",
              "      <th>dt_iso</th>\n",
              "      <th>timezone</th>\n",
              "      <th>city_name</th>\n",
              "      <th>lat</th>\n",
              "      <th>lon</th>\n",
              "      <th>temp</th>\n",
              "      <th>feels_like</th>\n",
              "      <th>temp_min</th>\n",
              "      <th>temp_max</th>\n",
              "      <th>pressure</th>\n",
              "      <th>sea_level</th>\n",
              "      <th>grnd_level</th>\n",
              "      <th>humidity</th>\n",
              "      <th>wind_speed</th>\n",
              "      <th>wind_deg</th>\n",
              "      <th>rain_1h</th>\n",
              "      <th>rain_3h</th>\n",
              "      <th>snow_1h</th>\n",
              "      <th>snow_3h</th>\n",
              "      <th>clouds_all</th>\n",
              "      <th>weather_id</th>\n",
              "      <th>weather_main</th>\n",
              "      <th>weather_description</th>\n",
              "      <th>weather_icon</th>\n",
              "    </tr>\n",
              "  </thead>\n",
              "  <tbody>\n",
              "    <tr>\n",
              "      <th>0</th>\n",
              "      <td>946684800</td>\n",
              "      <td>2000-01-01 00:00:00 +0000 UTC</td>\n",
              "      <td>-25200</td>\n",
              "      <td>Colorado Springs</td>\n",
              "      <td>38.833882</td>\n",
              "      <td>-104.821363</td>\n",
              "      <td>278.81</td>\n",
              "      <td>276.05</td>\n",
              "      <td>275.72</td>\n",
              "      <td>280.51</td>\n",
              "      <td>1013</td>\n",
              "      <td>NaN</td>\n",
              "      <td>NaN</td>\n",
              "      <td>18</td>\n",
              "      <td>3.6</td>\n",
              "      <td>100</td>\n",
              "      <td>NaN</td>\n",
              "      <td>NaN</td>\n",
              "      <td>NaN</td>\n",
              "      <td>NaN</td>\n",
              "      <td>1</td>\n",
              "      <td>800</td>\n",
              "      <td>Clear</td>\n",
              "      <td>sky is clear</td>\n",
              "      <td>01n</td>\n",
              "    </tr>\n",
              "    <tr>\n",
              "      <th>1</th>\n",
              "      <td>946688400</td>\n",
              "      <td>2000-01-01 01:00:00 +0000 UTC</td>\n",
              "      <td>-25200</td>\n",
              "      <td>Colorado Springs</td>\n",
              "      <td>38.833882</td>\n",
              "      <td>-104.821363</td>\n",
              "      <td>277.48</td>\n",
              "      <td>275.17</td>\n",
              "      <td>275.24</td>\n",
              "      <td>278.50</td>\n",
              "      <td>1013</td>\n",
              "      <td>NaN</td>\n",
              "      <td>NaN</td>\n",
              "      <td>21</td>\n",
              "      <td>2.6</td>\n",
              "      <td>110</td>\n",
              "      <td>NaN</td>\n",
              "      <td>NaN</td>\n",
              "      <td>NaN</td>\n",
              "      <td>NaN</td>\n",
              "      <td>1</td>\n",
              "      <td>800</td>\n",
              "      <td>Clear</td>\n",
              "      <td>sky is clear</td>\n",
              "      <td>01n</td>\n",
              "    </tr>\n",
              "  </tbody>\n",
              "</table>\n",
              "</div>"
            ],
            "text/plain": [
              "          dt                         dt_iso  ...  weather_description weather_icon\n",
              "0  946684800  2000-01-01 00:00:00 +0000 UTC  ...         sky is clear          01n\n",
              "1  946688400  2000-01-01 01:00:00 +0000 UTC  ...         sky is clear          01n\n",
              "\n",
              "[2 rows x 25 columns]"
            ]
          },
          "metadata": {},
          "execution_count": 5
        }
      ],
      "source": [
        "weather_df.head(2) "
      ]
    },
    {
      "cell_type": "code",
      "execution_count": 6,
      "metadata": {
        "id": "PXWfvLrLhIrO"
      },
      "outputs": [],
      "source": [
        "# set time > 2017-01-01 --- unix timestamp 1483246800\n",
        "# Since the waze data we got starts at 2019, so it's no need to use the 20 years data\n",
        "weather_df1 = weather_df[weather_df['dt'] >= 1483246800]"
      ]
    },
    {
      "cell_type": "code",
      "execution_count": 7,
      "metadata": {
        "colab": {
          "base_uri": "https://localhost:8080/"
        },
        "id": "9nbITOH2hIrO",
        "outputId": "974097b6-7836-45bd-bca4-260a6eeef003"
      },
      "outputs": [
        {
          "output_type": "stream",
          "name": "stdout",
          "text": [
            "the rest of weather data point we use is:  43782\n"
          ]
        }
      ],
      "source": [
        "print(\"the rest of weather data point we use is: \" , len(weather_df1))"
      ]
    },
    {
      "cell_type": "code",
      "execution_count": 8,
      "metadata": {
        "id": "_iP6hrnvhIrP",
        "colab": {
          "base_uri": "https://localhost:8080/"
        },
        "outputId": "a2ae48ba-6317-46a4-97fa-4361a1306a41"
      },
      "outputs": [
        {
          "output_type": "execute_result",
          "data": {
            "text/plain": [
              "dt                         0\n",
              "dt_iso                     0\n",
              "timezone                   0\n",
              "city_name                  0\n",
              "lat                        0\n",
              "lon                        0\n",
              "temp                       0\n",
              "feels_like                 0\n",
              "temp_min                   0\n",
              "temp_max                   0\n",
              "pressure                   0\n",
              "sea_level              43782\n",
              "grnd_level             43782\n",
              "humidity                   0\n",
              "wind_speed                 0\n",
              "wind_deg                   0\n",
              "rain_1h                40519\n",
              "rain_3h                43505\n",
              "snow_1h                42000\n",
              "snow_3h                43584\n",
              "clouds_all                 0\n",
              "weather_id                 0\n",
              "weather_main               0\n",
              "weather_description        0\n",
              "weather_icon               0\n",
              "dtype: int64"
            ]
          },
          "metadata": {},
          "execution_count": 8
        }
      ],
      "source": [
        "# check null \n",
        "weather_df1.isna().sum()"
      ]
    },
    {
      "cell_type": "code",
      "execution_count": 9,
      "metadata": {
        "id": "s71ibJyZhIrP"
      },
      "outputs": [],
      "source": [
        "# drop some unuseful columns\n",
        "weather_df2 = weather_df1.drop(columns=['sea_level', 'grnd_level', 'lat', 'lon', 'rain_1h', 'rain_3h',\n",
        "                         'snow_1h', 'snow_3h'])"
      ]
    },
    {
      "cell_type": "code",
      "execution_count": 10,
      "metadata": {
        "colab": {
          "base_uri": "https://localhost:8080/",
          "height": 271
        },
        "id": "VgFhvP1fhIrP",
        "outputId": "4ef979fc-7737-4eb7-9e0d-a1116fc153cc"
      },
      "outputs": [
        {
          "output_type": "execute_result",
          "data": {
            "text/html": [
              "<div>\n",
              "<style scoped>\n",
              "    .dataframe tbody tr th:only-of-type {\n",
              "        vertical-align: middle;\n",
              "    }\n",
              "\n",
              "    .dataframe tbody tr th {\n",
              "        vertical-align: top;\n",
              "    }\n",
              "\n",
              "    .dataframe thead th {\n",
              "        text-align: right;\n",
              "    }\n",
              "</style>\n",
              "<table border=\"1\" class=\"dataframe\">\n",
              "  <thead>\n",
              "    <tr style=\"text-align: right;\">\n",
              "      <th></th>\n",
              "      <th>dt</th>\n",
              "      <th>dt_iso</th>\n",
              "      <th>timezone</th>\n",
              "      <th>city_name</th>\n",
              "      <th>temp</th>\n",
              "      <th>feels_like</th>\n",
              "      <th>temp_min</th>\n",
              "      <th>temp_max</th>\n",
              "      <th>pressure</th>\n",
              "      <th>humidity</th>\n",
              "      <th>wind_speed</th>\n",
              "      <th>wind_deg</th>\n",
              "      <th>clouds_all</th>\n",
              "      <th>weather_id</th>\n",
              "      <th>weather_main</th>\n",
              "      <th>weather_description</th>\n",
              "      <th>weather_icon</th>\n",
              "    </tr>\n",
              "  </thead>\n",
              "  <tbody>\n",
              "    <tr>\n",
              "      <th>157109</th>\n",
              "      <td>1483246800</td>\n",
              "      <td>2017-01-01 05:00:00 +0000 UTC</td>\n",
              "      <td>-25200</td>\n",
              "      <td>Colorado Springs</td>\n",
              "      <td>269.25</td>\n",
              "      <td>266.07</td>\n",
              "      <td>264.97</td>\n",
              "      <td>270.84</td>\n",
              "      <td>1006</td>\n",
              "      <td>65</td>\n",
              "      <td>2.06</td>\n",
              "      <td>340</td>\n",
              "      <td>1</td>\n",
              "      <td>800</td>\n",
              "      <td>Clear</td>\n",
              "      <td>sky is clear</td>\n",
              "      <td>01n</td>\n",
              "    </tr>\n",
              "    <tr>\n",
              "      <th>157110</th>\n",
              "      <td>1483250400</td>\n",
              "      <td>2017-01-01 06:00:00 +0000 UTC</td>\n",
              "      <td>-25200</td>\n",
              "      <td>Colorado Springs</td>\n",
              "      <td>270.44</td>\n",
              "      <td>270.44</td>\n",
              "      <td>265.23</td>\n",
              "      <td>272.84</td>\n",
              "      <td>1005</td>\n",
              "      <td>60</td>\n",
              "      <td>0.00</td>\n",
              "      <td>0</td>\n",
              "      <td>75</td>\n",
              "      <td>803</td>\n",
              "      <td>Clouds</td>\n",
              "      <td>broken clouds</td>\n",
              "      <td>04n</td>\n",
              "    </tr>\n",
              "  </tbody>\n",
              "</table>\n",
              "</div>"
            ],
            "text/plain": [
              "                dt  ... weather_icon\n",
              "157109  1483246800  ...          01n\n",
              "157110  1483250400  ...          04n\n",
              "\n",
              "[2 rows x 17 columns]"
            ]
          },
          "metadata": {},
          "execution_count": 10
        }
      ],
      "source": [
        "weather_df2.head(2)"
      ]
    },
    {
      "cell_type": "code",
      "execution_count": 11,
      "metadata": {
        "id": "8haP9ddfhIrP"
      },
      "outputs": [],
      "source": [
        "from datetime import datetime\n",
        "from dateutil import tz\n",
        "import pytz\n",
        "\n",
        "from_zone = tz.gettz('UTC')\n",
        "# to_zone = tz.gettz('America/New_York')\n",
        "mst_zone = pytz.timezone('MST')\n",
        "\n",
        "## This function could be used for transfer the UTC time to MST\n",
        "def wazeTime_UTC_toMST(value):\n",
        "    b = str(value)\n",
        "    b = b[:19]\n",
        "\n",
        "    utc = datetime.strptime(b, '%Y-%m-%d %H:%M:%S')\n",
        "    utc = utc.replace(tzinfo=from_zone)\n",
        "\n",
        "    mtc = utc.astimezone(mst_zone)\n",
        "\n",
        "    mtc = str(mtc)\n",
        "    mtc = mtc.replace(\" \", \"\")\n",
        "    mtc = mtc.replace(\":\", \"\")\n",
        "    mtc = mtc.replace(\"-\", \"\")\n",
        "    result = mtc[:10]\n",
        "\n",
        "    return result"
      ]
    },
    {
      "cell_type": "code",
      "execution_count": 12,
      "metadata": {
        "id": "n5M4N5FfhIrQ"
      },
      "outputs": [],
      "source": [
        "weather_df2['time'] = weather_df2['dt_iso'].apply(lambda x: wazeTime_UTC_toMST(x))"
      ]
    },
    {
      "cell_type": "code",
      "execution_count": 13,
      "metadata": {
        "colab": {
          "base_uri": "https://localhost:8080/",
          "height": 573
        },
        "id": "-4M_hEXzhIrQ",
        "outputId": "e1c867e2-d936-4e37-d3c6-e8a44c648184"
      },
      "outputs": [
        {
          "output_type": "execute_result",
          "data": {
            "text/html": [
              "<div>\n",
              "<style scoped>\n",
              "    .dataframe tbody tr th:only-of-type {\n",
              "        vertical-align: middle;\n",
              "    }\n",
              "\n",
              "    .dataframe tbody tr th {\n",
              "        vertical-align: top;\n",
              "    }\n",
              "\n",
              "    .dataframe thead th {\n",
              "        text-align: right;\n",
              "    }\n",
              "</style>\n",
              "<table border=\"1\" class=\"dataframe\">\n",
              "  <thead>\n",
              "    <tr style=\"text-align: right;\">\n",
              "      <th></th>\n",
              "      <th>dt</th>\n",
              "      <th>dt_iso</th>\n",
              "      <th>timezone</th>\n",
              "      <th>city_name</th>\n",
              "      <th>temp</th>\n",
              "      <th>feels_like</th>\n",
              "      <th>temp_min</th>\n",
              "      <th>temp_max</th>\n",
              "      <th>pressure</th>\n",
              "      <th>humidity</th>\n",
              "      <th>wind_speed</th>\n",
              "      <th>wind_deg</th>\n",
              "      <th>clouds_all</th>\n",
              "      <th>weather_id</th>\n",
              "      <th>weather_main</th>\n",
              "      <th>weather_description</th>\n",
              "      <th>weather_icon</th>\n",
              "      <th>time</th>\n",
              "    </tr>\n",
              "  </thead>\n",
              "  <tbody>\n",
              "    <tr>\n",
              "      <th>157109</th>\n",
              "      <td>1483246800</td>\n",
              "      <td>2017-01-01 05:00:00 +0000 UTC</td>\n",
              "      <td>-25200</td>\n",
              "      <td>Colorado Springs</td>\n",
              "      <td>269.25</td>\n",
              "      <td>266.07</td>\n",
              "      <td>264.97</td>\n",
              "      <td>270.84</td>\n",
              "      <td>1006</td>\n",
              "      <td>65</td>\n",
              "      <td>2.06</td>\n",
              "      <td>340</td>\n",
              "      <td>1</td>\n",
              "      <td>800</td>\n",
              "      <td>Clear</td>\n",
              "      <td>sky is clear</td>\n",
              "      <td>01n</td>\n",
              "      <td>2016123122</td>\n",
              "    </tr>\n",
              "    <tr>\n",
              "      <th>157110</th>\n",
              "      <td>1483250400</td>\n",
              "      <td>2017-01-01 06:00:00 +0000 UTC</td>\n",
              "      <td>-25200</td>\n",
              "      <td>Colorado Springs</td>\n",
              "      <td>270.44</td>\n",
              "      <td>270.44</td>\n",
              "      <td>265.23</td>\n",
              "      <td>272.84</td>\n",
              "      <td>1005</td>\n",
              "      <td>60</td>\n",
              "      <td>0.00</td>\n",
              "      <td>0</td>\n",
              "      <td>75</td>\n",
              "      <td>803</td>\n",
              "      <td>Clouds</td>\n",
              "      <td>broken clouds</td>\n",
              "      <td>04n</td>\n",
              "      <td>2016123123</td>\n",
              "    </tr>\n",
              "    <tr>\n",
              "      <th>157111</th>\n",
              "      <td>1483254000</td>\n",
              "      <td>2017-01-01 07:00:00 +0000 UTC</td>\n",
              "      <td>-25200</td>\n",
              "      <td>Colorado Springs</td>\n",
              "      <td>269.29</td>\n",
              "      <td>269.29</td>\n",
              "      <td>266.23</td>\n",
              "      <td>270.84</td>\n",
              "      <td>1005</td>\n",
              "      <td>66</td>\n",
              "      <td>0.00</td>\n",
              "      <td>0</td>\n",
              "      <td>75</td>\n",
              "      <td>803</td>\n",
              "      <td>Clouds</td>\n",
              "      <td>broken clouds</td>\n",
              "      <td>04n</td>\n",
              "      <td>2017010100</td>\n",
              "    </tr>\n",
              "    <tr>\n",
              "      <th>157112</th>\n",
              "      <td>1483257600</td>\n",
              "      <td>2017-01-01 08:00:00 +0000 UTC</td>\n",
              "      <td>-25200</td>\n",
              "      <td>Colorado Springs</td>\n",
              "      <td>271.05</td>\n",
              "      <td>268.93</td>\n",
              "      <td>265.23</td>\n",
              "      <td>272.84</td>\n",
              "      <td>1004</td>\n",
              "      <td>58</td>\n",
              "      <td>1.54</td>\n",
              "      <td>160</td>\n",
              "      <td>75</td>\n",
              "      <td>803</td>\n",
              "      <td>Clouds</td>\n",
              "      <td>broken clouds</td>\n",
              "      <td>04n</td>\n",
              "      <td>2017010101</td>\n",
              "    </tr>\n",
              "    <tr>\n",
              "      <th>157113</th>\n",
              "      <td>1483261200</td>\n",
              "      <td>2017-01-01 09:00:00 +0000 UTC</td>\n",
              "      <td>-25200</td>\n",
              "      <td>Colorado Springs</td>\n",
              "      <td>271.65</td>\n",
              "      <td>271.65</td>\n",
              "      <td>265.77</td>\n",
              "      <td>273.84</td>\n",
              "      <td>1004</td>\n",
              "      <td>56</td>\n",
              "      <td>0.00</td>\n",
              "      <td>0</td>\n",
              "      <td>75</td>\n",
              "      <td>803</td>\n",
              "      <td>Clouds</td>\n",
              "      <td>broken clouds</td>\n",
              "      <td>04n</td>\n",
              "      <td>2017010102</td>\n",
              "    </tr>\n",
              "  </tbody>\n",
              "</table>\n",
              "</div>"
            ],
            "text/plain": [
              "                dt                         dt_iso  ...  weather_icon        time\n",
              "157109  1483246800  2017-01-01 05:00:00 +0000 UTC  ...           01n  2016123122\n",
              "157110  1483250400  2017-01-01 06:00:00 +0000 UTC  ...           04n  2016123123\n",
              "157111  1483254000  2017-01-01 07:00:00 +0000 UTC  ...           04n  2017010100\n",
              "157112  1483257600  2017-01-01 08:00:00 +0000 UTC  ...           04n  2017010101\n",
              "157113  1483261200  2017-01-01 09:00:00 +0000 UTC  ...           04n  2017010102\n",
              "\n",
              "[5 rows x 18 columns]"
            ]
          },
          "metadata": {},
          "execution_count": 13
        }
      ],
      "source": [
        "weather_df2.head(5)"
      ]
    },
    {
      "cell_type": "markdown",
      "metadata": {
        "id": "iSN4ach5hIrR"
      },
      "source": [
        "### Waze Data Cleanning"
      ]
    },
    {
      "cell_type": "code",
      "execution_count": 14,
      "metadata": {
        "colab": {
          "base_uri": "https://localhost:8080/",
          "height": 417
        },
        "id": "33tXYZsahIrR",
        "outputId": "51fe9656-77b5-4ed4-b972-860fdd402774"
      },
      "outputs": [
        {
          "output_type": "execute_result",
          "data": {
            "text/html": [
              "<div>\n",
              "<style scoped>\n",
              "    .dataframe tbody tr th:only-of-type {\n",
              "        vertical-align: middle;\n",
              "    }\n",
              "\n",
              "    .dataframe tbody tr th {\n",
              "        vertical-align: top;\n",
              "    }\n",
              "\n",
              "    .dataframe thead th {\n",
              "        text-align: right;\n",
              "    }\n",
              "</style>\n",
              "<table border=\"1\" class=\"dataframe\">\n",
              "  <thead>\n",
              "    <tr style=\"text-align: right;\">\n",
              "      <th></th>\n",
              "      <th>street</th>\n",
              "      <th>endNode</th>\n",
              "      <th>speed</th>\n",
              "      <th>severity</th>\n",
              "      <th>type</th>\n",
              "      <th>highway</th>\n",
              "      <th>nThumbsUp</th>\n",
              "      <th>seconds</th>\n",
              "      <th>alertsCount</th>\n",
              "      <th>detectionDateTS</th>\n",
              "      <th>driversCount</th>\n",
              "      <th>geoWKT</th>\n",
              "      <th>updateDateTS</th>\n",
              "      <th>regularSpeed</th>\n",
              "      <th>length</th>\n",
              "      <th>delaySeconds</th>\n",
              "      <th>jamLevel</th>\n",
              "      <th>city</th>\n",
              "      <th>causeType</th>\n",
              "    </tr>\n",
              "  </thead>\n",
              "  <tbody>\n",
              "    <tr>\n",
              "      <th>0</th>\n",
              "      <td>Bandley Dr</td>\n",
              "      <td>NaN</td>\n",
              "      <td>11.66</td>\n",
              "      <td>5</td>\n",
              "      <td>MEDIUM</td>\n",
              "      <td>False</td>\n",
              "      <td>0</td>\n",
              "      <td>730</td>\n",
              "      <td>0</td>\n",
              "      <td>2021-07-14 03:49:47 UTC</td>\n",
              "      <td>2</td>\n",
              "      <td>LineString(-104.724902 38.711838, -104.72504 3...</td>\n",
              "      <td>2021-07-14 04:01:21 UTC</td>\n",
              "      <td>41.55</td>\n",
              "      <td>2368</td>\n",
              "      <td>492</td>\n",
              "      <td>3</td>\n",
              "      <td>Fountain, CO</td>\n",
              "      <td>NaN</td>\n",
              "    </tr>\n",
              "    <tr>\n",
              "      <th>1</th>\n",
              "      <td>E Cheyenne Mountain Blvd</td>\n",
              "      <td>Venetucci Blvd</td>\n",
              "      <td>11.70</td>\n",
              "      <td>5</td>\n",
              "      <td>Small</td>\n",
              "      <td>False</td>\n",
              "      <td>0</td>\n",
              "      <td>364</td>\n",
              "      <td>0</td>\n",
              "      <td>2020-10-22 21:25:55 UTC</td>\n",
              "      <td>13</td>\n",
              "      <td>LineString(-104.810878 38.785546, -104.810095 ...</td>\n",
              "      <td>2020-10-22 22:27:51 UTC</td>\n",
              "      <td>31.49</td>\n",
              "      <td>1185</td>\n",
              "      <td>237</td>\n",
              "      <td>3</td>\n",
              "      <td>Colorado Springs, CO</td>\n",
              "      <td>NaN</td>\n",
              "    </tr>\n",
              "    <tr>\n",
              "      <th>2</th>\n",
              "      <td>Gleneagle Dr</td>\n",
              "      <td>Struthers Rd</td>\n",
              "      <td>2.57</td>\n",
              "      <td>5</td>\n",
              "      <td>Large</td>\n",
              "      <td>False</td>\n",
              "      <td>0</td>\n",
              "      <td>1422</td>\n",
              "      <td>0</td>\n",
              "      <td>2020-02-15 23:15:27 UTC</td>\n",
              "      <td>35</td>\n",
              "      <td>LineString(-104.824452 39.036361, -104.825348 ...</td>\n",
              "      <td>2020-02-16 00:33:40 UTC</td>\n",
              "      <td>42.67</td>\n",
              "      <td>1016</td>\n",
              "      <td>1308</td>\n",
              "      <td>4</td>\n",
              "      <td>Gleneagle, CO</td>\n",
              "      <td>NaN</td>\n",
              "    </tr>\n",
              "    <tr>\n",
              "      <th>3</th>\n",
              "      <td>S Gate Blvd</td>\n",
              "      <td>S Gate Blvd</td>\n",
              "      <td>13.95</td>\n",
              "      <td>5</td>\n",
              "      <td>Medium</td>\n",
              "      <td>False</td>\n",
              "      <td>0</td>\n",
              "      <td>832</td>\n",
              "      <td>2</td>\n",
              "      <td>2020-02-16 04:32:03 UTC</td>\n",
              "      <td>126</td>\n",
              "      <td>LineString(-104.835098 38.975527, -104.834935 ...</td>\n",
              "      <td>2020-02-16 05:49:34 UTC</td>\n",
              "      <td>59.11</td>\n",
              "      <td>3227</td>\n",
              "      <td>619</td>\n",
              "      <td>3</td>\n",
              "      <td>USAF Academy, CO</td>\n",
              "      <td>NaN</td>\n",
              "    </tr>\n",
              "    <tr>\n",
              "      <th>4</th>\n",
              "      <td>McLaughlin Rd</td>\n",
              "      <td>Old Meridian Rd</td>\n",
              "      <td>4.03</td>\n",
              "      <td>5</td>\n",
              "      <td>Medium</td>\n",
              "      <td>False</td>\n",
              "      <td>0</td>\n",
              "      <td>500</td>\n",
              "      <td>3</td>\n",
              "      <td>2019-10-29 14:17:43 UTC</td>\n",
              "      <td>8</td>\n",
              "      <td>LineString(-104.605978 38.938856, -104.607087 ...</td>\n",
              "      <td>2019-10-29 14:38:56 UTC</td>\n",
              "      <td>44.46</td>\n",
              "      <td>561</td>\n",
              "      <td>458</td>\n",
              "      <td>4</td>\n",
              "      <td>Falcon, CO</td>\n",
              "      <td>NaN</td>\n",
              "    </tr>\n",
              "  </tbody>\n",
              "</table>\n",
              "</div>"
            ],
            "text/plain": [
              "                     street          endNode  ...                  city  causeType\n",
              "0                Bandley Dr              NaN  ...          Fountain, CO        NaN\n",
              "1  E Cheyenne Mountain Blvd   Venetucci Blvd  ...  Colorado Springs, CO        NaN\n",
              "2              Gleneagle Dr     Struthers Rd  ...         Gleneagle, CO        NaN\n",
              "3               S Gate Blvd      S Gate Blvd  ...      USAF Academy, CO        NaN\n",
              "4             McLaughlin Rd  Old Meridian Rd  ...            Falcon, CO        NaN\n",
              "\n",
              "[5 rows x 19 columns]"
            ]
          },
          "metadata": {},
          "execution_count": 14
        }
      ],
      "source": [
        "waze_df.head(5)"
      ]
    },
    {
      "cell_type": "code",
      "execution_count": 15,
      "metadata": {
        "id": "QBRQRdm8hIrR",
        "colab": {
          "base_uri": "https://localhost:8080/"
        },
        "outputId": "0555d505-9262-41de-8f55-ac661743f63c"
      },
      "outputs": [
        {
          "output_type": "execute_result",
          "data": {
            "text/plain": [
              "street               399\n",
              "endNode            13522\n",
              "speed                  0\n",
              "severity               0\n",
              "type                   0\n",
              "highway                0\n",
              "nThumbsUp              0\n",
              "seconds                0\n",
              "alertsCount            0\n",
              "detectionDateTS        0\n",
              "driversCount           0\n",
              "geoWKT                 0\n",
              "updateDateTS           0\n",
              "regularSpeed           0\n",
              "length                 0\n",
              "delaySeconds           0\n",
              "jamLevel               0\n",
              "city               39870\n",
              "causeType          91448\n",
              "dtype: int64"
            ]
          },
          "metadata": {},
          "execution_count": 15
        }
      ],
      "source": [
        "# check the null value\n",
        "waze_df.isnull().sum()"
      ]
    },
    {
      "cell_type": "markdown",
      "source": [
        "In the subsequent model expand, these hourly traffic data will actually be very useful, but because we fill in a large amount of 0 jam level data. For these data, we can only fill in fixed variables that do not change over time. The hourly traffic data under other missing time data cannot be estimated. So here, I chose to drop these features."
      ],
      "metadata": {
        "id": "2jvGKw7urU0U"
      }
    },
    {
      "cell_type": "code",
      "execution_count": 16,
      "metadata": {
        "id": "daiX-zUZhIrR"
      },
      "outputs": [],
      "source": [
        "# drop some unuseful columns which contains null value \n",
        "waze_df1 = waze_df.drop(columns=['length','endNode', 'city', 'speed', 'severity', 'type', 'nThumbsUp', 'seconds',\n",
        "                                 'alertsCount', 'driversCount', 'geoWKT',\n",
        "                                  'updateDateTS','delaySeconds','causeType', 'geoWKT'])"
      ]
    },
    {
      "cell_type": "code",
      "execution_count": 17,
      "metadata": {
        "colab": {
          "base_uri": "https://localhost:8080/",
          "height": 424
        },
        "id": "3bRbPS66hIrS",
        "outputId": "38d1f940-db19-4c92-ed88-fbc8226bf1d5"
      },
      "outputs": [
        {
          "output_type": "execute_result",
          "data": {
            "text/html": [
              "<div>\n",
              "<style scoped>\n",
              "    .dataframe tbody tr th:only-of-type {\n",
              "        vertical-align: middle;\n",
              "    }\n",
              "\n",
              "    .dataframe tbody tr th {\n",
              "        vertical-align: top;\n",
              "    }\n",
              "\n",
              "    .dataframe thead th {\n",
              "        text-align: right;\n",
              "    }\n",
              "</style>\n",
              "<table border=\"1\" class=\"dataframe\">\n",
              "  <thead>\n",
              "    <tr style=\"text-align: right;\">\n",
              "      <th></th>\n",
              "      <th>street</th>\n",
              "      <th>highway</th>\n",
              "      <th>detectionDateTS</th>\n",
              "      <th>regularSpeed</th>\n",
              "      <th>jamLevel</th>\n",
              "    </tr>\n",
              "  </thead>\n",
              "  <tbody>\n",
              "    <tr>\n",
              "      <th>0</th>\n",
              "      <td>Bandley Dr</td>\n",
              "      <td>False</td>\n",
              "      <td>2021-07-14 03:49:47 UTC</td>\n",
              "      <td>41.55</td>\n",
              "      <td>3</td>\n",
              "    </tr>\n",
              "    <tr>\n",
              "      <th>1</th>\n",
              "      <td>E Cheyenne Mountain Blvd</td>\n",
              "      <td>False</td>\n",
              "      <td>2020-10-22 21:25:55 UTC</td>\n",
              "      <td>31.49</td>\n",
              "      <td>3</td>\n",
              "    </tr>\n",
              "    <tr>\n",
              "      <th>2</th>\n",
              "      <td>Gleneagle Dr</td>\n",
              "      <td>False</td>\n",
              "      <td>2020-02-15 23:15:27 UTC</td>\n",
              "      <td>42.67</td>\n",
              "      <td>4</td>\n",
              "    </tr>\n",
              "    <tr>\n",
              "      <th>3</th>\n",
              "      <td>S Gate Blvd</td>\n",
              "      <td>False</td>\n",
              "      <td>2020-02-16 04:32:03 UTC</td>\n",
              "      <td>59.11</td>\n",
              "      <td>3</td>\n",
              "    </tr>\n",
              "    <tr>\n",
              "      <th>4</th>\n",
              "      <td>McLaughlin Rd</td>\n",
              "      <td>False</td>\n",
              "      <td>2019-10-29 14:17:43 UTC</td>\n",
              "      <td>44.46</td>\n",
              "      <td>4</td>\n",
              "    </tr>\n",
              "    <tr>\n",
              "      <th>...</th>\n",
              "      <td>...</td>\n",
              "      <td>...</td>\n",
              "      <td>...</td>\n",
              "      <td>...</td>\n",
              "      <td>...</td>\n",
              "    </tr>\n",
              "    <tr>\n",
              "      <th>105748</th>\n",
              "      <td>Garden of the Gods Rd</td>\n",
              "      <td>True</td>\n",
              "      <td>2021-07-13 18:55:20 UTC</td>\n",
              "      <td>29.66</td>\n",
              "      <td>4</td>\n",
              "    </tr>\n",
              "    <tr>\n",
              "      <th>105749</th>\n",
              "      <td>Garden of the Gods Rd</td>\n",
              "      <td>True</td>\n",
              "      <td>2021-04-05 23:29:38 UTC</td>\n",
              "      <td>47.98</td>\n",
              "      <td>4</td>\n",
              "    </tr>\n",
              "    <tr>\n",
              "      <th>105750</th>\n",
              "      <td>Garden of the Gods Rd</td>\n",
              "      <td>False</td>\n",
              "      <td>2019-06-10 23:23:46 UTC</td>\n",
              "      <td>35.18</td>\n",
              "      <td>3</td>\n",
              "    </tr>\n",
              "    <tr>\n",
              "      <th>105751</th>\n",
              "      <td>Garden of the Gods Rd</td>\n",
              "      <td>False</td>\n",
              "      <td>2019-11-21 21:33:00 UTC</td>\n",
              "      <td>37.63</td>\n",
              "      <td>4</td>\n",
              "    </tr>\n",
              "    <tr>\n",
              "      <th>105752</th>\n",
              "      <td>Garden of the Gods Rd</td>\n",
              "      <td>False</td>\n",
              "      <td>2019-11-20 21:29:05 UTC</td>\n",
              "      <td>43.61</td>\n",
              "      <td>4</td>\n",
              "    </tr>\n",
              "  </tbody>\n",
              "</table>\n",
              "<p>105753 rows × 5 columns</p>\n",
              "</div>"
            ],
            "text/plain": [
              "                          street  highway  ... regularSpeed  jamLevel\n",
              "0                     Bandley Dr    False  ...        41.55         3\n",
              "1       E Cheyenne Mountain Blvd    False  ...        31.49         3\n",
              "2                   Gleneagle Dr    False  ...        42.67         4\n",
              "3                    S Gate Blvd    False  ...        59.11         3\n",
              "4                  McLaughlin Rd    False  ...        44.46         4\n",
              "...                          ...      ...  ...          ...       ...\n",
              "105748     Garden of the Gods Rd     True  ...        29.66         4\n",
              "105749     Garden of the Gods Rd     True  ...        47.98         4\n",
              "105750     Garden of the Gods Rd    False  ...        35.18         3\n",
              "105751     Garden of the Gods Rd    False  ...        37.63         4\n",
              "105752     Garden of the Gods Rd    False  ...        43.61         4\n",
              "\n",
              "[105753 rows x 5 columns]"
            ]
          },
          "metadata": {},
          "execution_count": 17
        }
      ],
      "source": [
        "waze_df1"
      ]
    },
    {
      "cell_type": "code",
      "execution_count": 18,
      "metadata": {
        "id": "Ta2N6OtchIrS"
      },
      "outputs": [],
      "source": [
        "waze_df1['detectionDateTS'] = waze_df1['detectionDateTS'].astype(str)"
      ]
    },
    {
      "cell_type": "code",
      "execution_count": 19,
      "metadata": {
        "id": "Ej0i3JQLhIrS"
      },
      "outputs": [],
      "source": [
        "import time\n",
        "def changeTime_toMST(value):\n",
        "    x = value\n",
        "    x = x.replace('UTC', '')\n",
        "    x = x[0:19]\n",
        "\n",
        "    utc = datetime.strptime(x, '%Y-%m-%d %H:%M:%S')\n",
        "    utc = utc.replace(tzinfo=from_zone)\n",
        "    # print('utc')\n",
        "    # print(utc)\n",
        "    mtc = utc.astimezone(mst_zone)\n",
        "    mtc = str(mtc)\n",
        "    mtc = mtc[:13]\n",
        "    mtc = datetime.strptime(mtc, '%Y-%m-%d %H')\n",
        "    # print('mtc1')\n",
        "    # mtc = str(mtc)\n",
        "    mtc = str(mtc)\n",
        "    mtc = mtc.replace(\" \", \"\")\n",
        "    mtc = mtc.replace(\":\", \"\")\n",
        "    mtc = mtc.replace(\"-\", \"\")\n",
        "    result = mtc[:10]\n",
        "    \n",
        "    return result"
      ]
    },
    {
      "cell_type": "code",
      "execution_count": 20,
      "metadata": {
        "id": "YDFccaORhIrS"
      },
      "outputs": [],
      "source": [
        "waze_df1['time'] = waze_df1['detectionDateTS'].apply(lambda x: changeTime_toMST(x))"
      ]
    },
    {
      "cell_type": "code",
      "execution_count": 21,
      "metadata": {
        "id": "irjRvLCnPnB6"
      },
      "outputs": [],
      "source": [
        "Stree_Near_Gate = ['to SH-115 N', 'SH-115', 'Magrath Ave','Barkeley Ave', 'Specker Ave',\n",
        "'Bandley Dr', 'Chiles Ave', 'Nelson Blvd', 'Titus Boulevard',\n",
        "'Wetzel Ave', 'Gleneagle Dr', 'Titus Blvd','Mesa Ridge Pkwy',\n",
        " 'Fountain Mesa Rd','to Magrath Ave / B St', 'Charter Oak Ranch Rd',\n",
        " 'Exit 132B: Fort Carson Gate 20','Bradley Rd','Westmeadow Dr',\n",
        "'Wilderness Rd','Rock Creek Canyon Rd','Broadmoor Bluffs Dr','Norad Rd',\n",
        "'JL Heights Ranch Rd','US-85', 'I-25 N', 'I-25 S', 'SH-115', 'S Academy Blvd']"
      ]
    },
    {
      "cell_type": "code",
      "execution_count": 22,
      "metadata": {
        "id": "MNS7elHaP3l8"
      },
      "outputs": [],
      "source": [
        "def if_gate(road_name):\n",
        "  if road_name in Stree_Near_Gate:\n",
        "    return 1 \n",
        "  else:\n",
        "    return 0"
      ]
    },
    {
      "cell_type": "code",
      "execution_count": 23,
      "metadata": {
        "id": "ci6KRXroP3l9"
      },
      "outputs": [],
      "source": [
        "waze_df1['if_gate'] = waze_df1['street'].apply(lambda x: if_gate(x))"
      ]
    },
    {
      "cell_type": "code",
      "execution_count": 24,
      "metadata": {
        "id": "7N5WoBmTP3l9"
      },
      "outputs": [],
      "source": [
        "waze_df_gate = waze_df1[waze_df1['if_gate'] == 1]"
      ]
    },
    {
      "cell_type": "code",
      "execution_count": 25,
      "metadata": {
        "colab": {
          "base_uri": "https://localhost:8080/",
          "height": 143
        },
        "id": "Z6WZcm-YP3l9",
        "outputId": "24ea9c75-0880-492d-9996-3b33b3b43bf2"
      },
      "outputs": [
        {
          "output_type": "execute_result",
          "data": {
            "text/html": [
              "<div>\n",
              "<style scoped>\n",
              "    .dataframe tbody tr th:only-of-type {\n",
              "        vertical-align: middle;\n",
              "    }\n",
              "\n",
              "    .dataframe tbody tr th {\n",
              "        vertical-align: top;\n",
              "    }\n",
              "\n",
              "    .dataframe thead th {\n",
              "        text-align: right;\n",
              "    }\n",
              "</style>\n",
              "<table border=\"1\" class=\"dataframe\">\n",
              "  <thead>\n",
              "    <tr style=\"text-align: right;\">\n",
              "      <th></th>\n",
              "      <th>street</th>\n",
              "      <th>highway</th>\n",
              "      <th>detectionDateTS</th>\n",
              "      <th>regularSpeed</th>\n",
              "      <th>jamLevel</th>\n",
              "      <th>time</th>\n",
              "      <th>if_gate</th>\n",
              "    </tr>\n",
              "  </thead>\n",
              "  <tbody>\n",
              "    <tr>\n",
              "      <th>0</th>\n",
              "      <td>Bandley Dr</td>\n",
              "      <td>False</td>\n",
              "      <td>2021-07-14 03:49:47 UTC</td>\n",
              "      <td>41.55</td>\n",
              "      <td>3</td>\n",
              "      <td>2021071320</td>\n",
              "      <td>1</td>\n",
              "    </tr>\n",
              "    <tr>\n",
              "      <th>2</th>\n",
              "      <td>Gleneagle Dr</td>\n",
              "      <td>False</td>\n",
              "      <td>2020-02-15 23:15:27 UTC</td>\n",
              "      <td>42.67</td>\n",
              "      <td>4</td>\n",
              "      <td>2020021516</td>\n",
              "      <td>1</td>\n",
              "    </tr>\n",
              "    <tr>\n",
              "      <th>8</th>\n",
              "      <td>Titus Blvd</td>\n",
              "      <td>False</td>\n",
              "      <td>2021-05-18 18:59:22 UTC</td>\n",
              "      <td>25.37</td>\n",
              "      <td>4</td>\n",
              "      <td>2021051811</td>\n",
              "      <td>1</td>\n",
              "    </tr>\n",
              "  </tbody>\n",
              "</table>\n",
              "</div>"
            ],
            "text/plain": [
              "         street  highway  ...        time  if_gate\n",
              "0    Bandley Dr    False  ...  2021071320        1\n",
              "2  Gleneagle Dr    False  ...  2020021516        1\n",
              "8    Titus Blvd    False  ...  2021051811        1\n",
              "\n",
              "[3 rows x 7 columns]"
            ]
          },
          "metadata": {},
          "execution_count": 25
        }
      ],
      "source": [
        "waze_df_gate.head(3)"
      ]
    },
    {
      "cell_type": "code",
      "execution_count": 26,
      "metadata": {
        "colab": {
          "base_uri": "https://localhost:8080/",
          "height": 35
        },
        "id": "0buGspNfrEPP",
        "outputId": "a60b689c-74d3-49fa-b063-9e454c7cdd77"
      },
      "outputs": [
        {
          "output_type": "execute_result",
          "data": {
            "application/vnd.google.colaboratory.intrinsic+json": {
              "type": "string"
            },
            "text/plain": [
              "'2019042206'"
            ]
          },
          "metadata": {},
          "execution_count": 26
        }
      ],
      "source": [
        "np.min(waze_df_gate['time'])"
      ]
    },
    {
      "cell_type": "code",
      "execution_count": 27,
      "metadata": {
        "colab": {
          "base_uri": "https://localhost:8080/",
          "height": 35
        },
        "id": "Em8LtwTStRpZ",
        "outputId": "c1cca70d-bd1b-4c59-99cd-67f42b3dc438"
      },
      "outputs": [
        {
          "output_type": "execute_result",
          "data": {
            "application/vnd.google.colaboratory.intrinsic+json": {
              "type": "string"
            },
            "text/plain": [
              "'2021102606'"
            ]
          },
          "metadata": {},
          "execution_count": 27
        }
      ],
      "source": [
        "np.max(waze_df_gate['time'])"
      ]
    },
    {
      "cell_type": "code",
      "execution_count": 28,
      "metadata": {
        "id": "RViaARRohIrS"
      },
      "outputs": [],
      "source": [
        "# len(waze_df1['street'].unique())"
      ]
    },
    {
      "cell_type": "code",
      "execution_count": 29,
      "metadata": {
        "id": "6XHMTM5Qq5vl"
      },
      "outputs": [],
      "source": [
        "waze_df_gate = waze_df_gate.dropna(how='all')"
      ]
    },
    {
      "cell_type": "code",
      "execution_count": 30,
      "metadata": {
        "id": "TkxGe9y8q7lv"
      },
      "outputs": [],
      "source": [
        "# waze_df_gate"
      ]
    },
    {
      "cell_type": "markdown",
      "metadata": {
        "id": "-SuuvL8KQBDV"
      },
      "source": [
        "### \bFill Out Missing Data"
      ]
    },
    {
      "cell_type": "markdown",
      "source": [
        "-- A special note that needs to be put forward here is that because only congestion Irregularities data in Waze can be applied to the current model, we actually make an assumption that other times are no congestion, based on this, for each road Data is filled in other time periods when no consumption is recorded, and the entire subsequent model is also built under this large assumption."
      ],
      "metadata": {
        "id": "1jck6tGpmj2O"
      }
    },
    {
      "cell_type": "code",
      "execution_count": 31,
      "metadata": {
        "colab": {
          "base_uri": "https://localhost:8080/"
        },
        "id": "_tikBLjqQOCZ",
        "outputId": "5ca324f4-3da6-4b61-bd09-fd618d572345"
      },
      "outputs": [
        {
          "output_type": "execute_result",
          "data": {
            "text/plain": [
              "27"
            ]
          },
          "metadata": {},
          "execution_count": 31
        }
      ],
      "source": [
        "len(waze_df_gate['street'].unique())"
      ]
    },
    {
      "cell_type": "code",
      "execution_count": 32,
      "metadata": {
        "id": "ogf5jkkPzjMb"
      },
      "outputs": [],
      "source": [
        "hour_lst = []\n",
        "\n",
        "for p in range(1, 25):\n",
        "  if p in range(1, 10):\n",
        "    hour_lst.append('0' + str(p))\n",
        "  else:\n",
        "    hour_lst.append(str(p))\n",
        "\n",
        "day_lst = []\n",
        "\n",
        "for m in range(1, 31):\n",
        "  if m in range(1, 10):\n",
        "    day_lst.append('0' + str(m))\n",
        "  elif m in range(10, 31):\n",
        "    day_lst.append(str(m))\n",
        "\n",
        "month_lst = []\n",
        "\n",
        "for j in range(1, 13):\n",
        "  if j in range(1, 10):\n",
        "    month_lst.append('0' + str(j))\n",
        "  else:\n",
        "    month_lst.append(str(j))"
      ]
    },
    {
      "cell_type": "code",
      "execution_count": 33,
      "metadata": {
        "id": "HoDQnkrlDHAk"
      },
      "outputs": [],
      "source": [
        "feb_day_lst = []\n",
        "\n",
        "for m in range(1, 29):\n",
        "  if m in range(1, 10):\n",
        "    feb_day_lst.append('0' + str(m))\n",
        "  elif m in range(10, 29):\n",
        "    feb_day_lst.append(str(m))"
      ]
    },
    {
      "cell_type": "code",
      "execution_count": 34,
      "metadata": {
        "id": "D0ldwWOofcVB"
      },
      "outputs": [],
      "source": [
        "time_lst = []\n",
        "for i in range(2019, 2022):\n",
        "  for j in month_lst:\n",
        "    if j != '02':\n",
        "      for m in day_lst:\n",
        "        for p in hour_lst:\n",
        "          k = str(i) + str(j) + str(m) + str(p)\n",
        "          time_lst.append(k)\n",
        "    elif j == '02':\n",
        "      # print(j)\n",
        "      for m in feb_day_lst:\n",
        "        for p in hour_lst:\n",
        "          k = str(i) + str(j) + str(m) + str(p)\n",
        "          # print(k)\n",
        "          time_lst.append(k)"
      ]
    },
    {
      "cell_type": "code",
      "execution_count": 35,
      "metadata": {
        "colab": {
          "base_uri": "https://localhost:8080/"
        },
        "id": "iatUxs4VzTdr",
        "outputId": "53d21b48-2d9a-4442-a908-64102aba5c4e"
      },
      "outputs": [
        {
          "output_type": "execute_result",
          "data": {
            "text/plain": [
              "25776"
            ]
          },
          "metadata": {},
          "execution_count": 35
        }
      ],
      "source": [
        "len(time_lst)"
      ]
    },
    {
      "cell_type": "code",
      "execution_count": 36,
      "metadata": {
        "id": "Zk45e1WKur64"
      },
      "outputs": [],
      "source": [
        "df_dic = pd.pivot_table(waze_df_gate,index=['street'], values=['regularSpeed'], aggfunc= ['mean'])"
      ]
    },
    {
      "cell_type": "code",
      "execution_count": 37,
      "metadata": {
        "id": "zVQyfeJAur8z"
      },
      "outputs": [],
      "source": [
        "street_lst = df_dic.index.tolist()"
      ]
    },
    {
      "cell_type": "code",
      "execution_count": 38,
      "metadata": {
        "id": "qMa7Zjrvur_P"
      },
      "outputs": [],
      "source": [
        "speed_lst = df_dic['mean']['regularSpeed'].tolist()"
      ]
    },
    {
      "cell_type": "code",
      "execution_count": 39,
      "metadata": {
        "id": "isD60L0PusBc"
      },
      "outputs": [],
      "source": [
        "street_name_lst = []\n",
        "time_all_lst = []\n",
        "\n",
        "for i in time_lst:\n",
        "  for j in street_lst:\n",
        "    street_name_lst.append(j)\n",
        "    time_all_lst.append(i)"
      ]
    },
    {
      "cell_type": "code",
      "execution_count": 40,
      "metadata": {
        "id": "KNXRzajGusDx"
      },
      "outputs": [],
      "source": [
        "# high_way_lst = []\n",
        "speed_all_lst = []\n",
        "jam_all_lst = []\n",
        "\n",
        "for i in time_lst:\n",
        "  for j in speed_lst:\n",
        "    speed_all_lst.append(j)\n",
        "    jam_all_lst.append('0')"
      ]
    },
    {
      "cell_type": "code",
      "execution_count": 41,
      "metadata": {
        "colab": {
          "base_uri": "https://localhost:8080/"
        },
        "id": "CxXsnjLQusGW",
        "outputId": "b9b9c958-7151-4d26-a59c-26ee2b3a0d7c"
      },
      "outputs": [
        {
          "output_type": "execute_result",
          "data": {
            "text/plain": [
              "695952"
            ]
          },
          "metadata": {},
          "execution_count": 41
        }
      ],
      "source": [
        "len(time_all_lst)"
      ]
    },
    {
      "cell_type": "code",
      "execution_count": 42,
      "metadata": {
        "id": "cGhtAZCoyDlV"
      },
      "outputs": [],
      "source": [
        "waze_df_gate_new = waze_df_gate.drop(columns=['highway', 'detectionDateTS', 'if_gate'])"
      ]
    },
    {
      "cell_type": "code",
      "execution_count": 43,
      "metadata": {
        "id": "hq0jymXBxVv2"
      },
      "outputs": [],
      "source": [
        "df_missing_gate = pd.DataFrame({'street':street_name_lst,'regularSpeed':speed_all_lst, 'time':time_all_lst, 'jamLevel':jam_all_lst})"
      ]
    },
    {
      "cell_type": "code",
      "execution_count": 44,
      "metadata": {
        "colab": {
          "base_uri": "https://localhost:8080/",
          "height": 112
        },
        "id": "qMcAgFwGx14g",
        "outputId": "eb70df6d-54ec-4d91-a8ce-d62ede10820f"
      },
      "outputs": [
        {
          "output_type": "execute_result",
          "data": {
            "text/html": [
              "<div>\n",
              "<style scoped>\n",
              "    .dataframe tbody tr th:only-of-type {\n",
              "        vertical-align: middle;\n",
              "    }\n",
              "\n",
              "    .dataframe tbody tr th {\n",
              "        vertical-align: top;\n",
              "    }\n",
              "\n",
              "    .dataframe thead th {\n",
              "        text-align: right;\n",
              "    }\n",
              "</style>\n",
              "<table border=\"1\" class=\"dataframe\">\n",
              "  <thead>\n",
              "    <tr style=\"text-align: right;\">\n",
              "      <th></th>\n",
              "      <th>street</th>\n",
              "      <th>regularSpeed</th>\n",
              "      <th>time</th>\n",
              "      <th>jamLevel</th>\n",
              "    </tr>\n",
              "  </thead>\n",
              "  <tbody>\n",
              "    <tr>\n",
              "      <th>0</th>\n",
              "      <td>Bandley Dr</td>\n",
              "      <td>55.409027</td>\n",
              "      <td>2019010101</td>\n",
              "      <td>0</td>\n",
              "    </tr>\n",
              "    <tr>\n",
              "      <th>1</th>\n",
              "      <td>Barkeley Ave</td>\n",
              "      <td>41.976031</td>\n",
              "      <td>2019010101</td>\n",
              "      <td>0</td>\n",
              "    </tr>\n",
              "  </tbody>\n",
              "</table>\n",
              "</div>"
            ],
            "text/plain": [
              "         street  regularSpeed        time jamLevel\n",
              "0    Bandley Dr     55.409027  2019010101        0\n",
              "1  Barkeley Ave     41.976031  2019010101        0"
            ]
          },
          "metadata": {},
          "execution_count": 44
        }
      ],
      "source": [
        "df_missing_gate.head(2)"
      ]
    },
    {
      "cell_type": "code",
      "execution_count": 45,
      "metadata": {
        "id": "hcuHo88AyPPP"
      },
      "outputs": [],
      "source": [
        "set_diff_df = df_missing_gate.append(waze_df_gate_new)"
      ]
    },
    {
      "cell_type": "code",
      "execution_count": 46,
      "metadata": {
        "id": "VyNXEjr4ytfM"
      },
      "outputs": [],
      "source": [
        "set_diff_df = set_diff_df.drop_duplicates(subset=['street', 'time'],keep=False)"
      ]
    },
    {
      "cell_type": "code",
      "execution_count": 47,
      "metadata": {
        "id": "ENwJTbi0y0cP"
      },
      "outputs": [],
      "source": [
        "final_miss_df = set_diff_df.append(waze_df_gate_new)"
      ]
    },
    {
      "cell_type": "code",
      "execution_count": 48,
      "metadata": {
        "colab": {
          "base_uri": "https://localhost:8080/",
          "height": 424
        },
        "id": "XWGyIeJhy6Mb",
        "outputId": "bc6dc5bf-ed3a-4efd-d88d-52f0a6bbe754"
      },
      "outputs": [
        {
          "output_type": "execute_result",
          "data": {
            "text/html": [
              "<div>\n",
              "<style scoped>\n",
              "    .dataframe tbody tr th:only-of-type {\n",
              "        vertical-align: middle;\n",
              "    }\n",
              "\n",
              "    .dataframe tbody tr th {\n",
              "        vertical-align: top;\n",
              "    }\n",
              "\n",
              "    .dataframe thead th {\n",
              "        text-align: right;\n",
              "    }\n",
              "</style>\n",
              "<table border=\"1\" class=\"dataframe\">\n",
              "  <thead>\n",
              "    <tr style=\"text-align: right;\">\n",
              "      <th></th>\n",
              "      <th>street</th>\n",
              "      <th>regularSpeed</th>\n",
              "      <th>time</th>\n",
              "      <th>jamLevel</th>\n",
              "    </tr>\n",
              "  </thead>\n",
              "  <tbody>\n",
              "    <tr>\n",
              "      <th>0</th>\n",
              "      <td>Bandley Dr</td>\n",
              "      <td>55.409027</td>\n",
              "      <td>2019010101</td>\n",
              "      <td>0</td>\n",
              "    </tr>\n",
              "    <tr>\n",
              "      <th>1</th>\n",
              "      <td>Barkeley Ave</td>\n",
              "      <td>41.976031</td>\n",
              "      <td>2019010101</td>\n",
              "      <td>0</td>\n",
              "    </tr>\n",
              "    <tr>\n",
              "      <th>2</th>\n",
              "      <td>Bradley Rd</td>\n",
              "      <td>52.867364</td>\n",
              "      <td>2019010101</td>\n",
              "      <td>0</td>\n",
              "    </tr>\n",
              "    <tr>\n",
              "      <th>3</th>\n",
              "      <td>Broadmoor Bluffs Dr</td>\n",
              "      <td>42.610000</td>\n",
              "      <td>2019010101</td>\n",
              "      <td>0</td>\n",
              "    </tr>\n",
              "    <tr>\n",
              "      <th>4</th>\n",
              "      <td>Charter Oak Ranch Rd</td>\n",
              "      <td>46.606993</td>\n",
              "      <td>2019010101</td>\n",
              "      <td>0</td>\n",
              "    </tr>\n",
              "    <tr>\n",
              "      <th>...</th>\n",
              "      <td>...</td>\n",
              "      <td>...</td>\n",
              "      <td>...</td>\n",
              "      <td>...</td>\n",
              "    </tr>\n",
              "    <tr>\n",
              "      <th>101375</th>\n",
              "      <td>S Academy Blvd</td>\n",
              "      <td>55.340000</td>\n",
              "      <td>2020021907</td>\n",
              "      <td>4</td>\n",
              "    </tr>\n",
              "    <tr>\n",
              "      <th>101376</th>\n",
              "      <td>S Academy Blvd</td>\n",
              "      <td>71.890000</td>\n",
              "      <td>2021012708</td>\n",
              "      <td>4</td>\n",
              "    </tr>\n",
              "    <tr>\n",
              "      <th>101377</th>\n",
              "      <td>S Academy Blvd</td>\n",
              "      <td>66.720000</td>\n",
              "      <td>2021051010</td>\n",
              "      <td>4</td>\n",
              "    </tr>\n",
              "    <tr>\n",
              "      <th>101378</th>\n",
              "      <td>S Academy Blvd</td>\n",
              "      <td>79.140000</td>\n",
              "      <td>2021092004</td>\n",
              "      <td>4</td>\n",
              "    </tr>\n",
              "    <tr>\n",
              "      <th>101379</th>\n",
              "      <td>S Academy Blvd</td>\n",
              "      <td>56.570000</td>\n",
              "      <td>2020031310</td>\n",
              "      <td>3</td>\n",
              "    </tr>\n",
              "  </tbody>\n",
              "</table>\n",
              "<p>741501 rows × 4 columns</p>\n",
              "</div>"
            ],
            "text/plain": [
              "                      street  regularSpeed        time jamLevel\n",
              "0                 Bandley Dr     55.409027  2019010101        0\n",
              "1               Barkeley Ave     41.976031  2019010101        0\n",
              "2                 Bradley Rd     52.867364  2019010101        0\n",
              "3        Broadmoor Bluffs Dr     42.610000  2019010101        0\n",
              "4       Charter Oak Ranch Rd     46.606993  2019010101        0\n",
              "...                      ...           ...         ...      ...\n",
              "101375        S Academy Blvd     55.340000  2020021907        4\n",
              "101376        S Academy Blvd     71.890000  2021012708        4\n",
              "101377        S Academy Blvd     66.720000  2021051010        4\n",
              "101378        S Academy Blvd     79.140000  2021092004        4\n",
              "101379        S Academy Blvd     56.570000  2020031310        3\n",
              "\n",
              "[741501 rows x 4 columns]"
            ]
          },
          "metadata": {},
          "execution_count": 48
        }
      ],
      "source": [
        "final_miss_df"
      ]
    },
    {
      "cell_type": "markdown",
      "metadata": {
        "id": "zamHq_WOOlE1"
      },
      "source": [
        "### Data Merge (Weather and Waze)"
      ]
    },
    {
      "cell_type": "markdown",
      "source": [
        "When we have completed the data filling, we merge the waze data and weather data."
      ],
      "metadata": {
        "id": "T1GTB8mdsB38"
      }
    },
    {
      "cell_type": "code",
      "execution_count": 49,
      "metadata": {
        "id": "JWDKmLSXhIrT"
      },
      "outputs": [],
      "source": [
        "df_total = pd.merge(final_miss_df, weather_df2, how='left', on='time')"
      ]
    },
    {
      "cell_type": "code",
      "execution_count": 50,
      "metadata": {
        "colab": {
          "base_uri": "https://localhost:8080/",
          "height": 573
        },
        "id": "vhKhci8vhIrT",
        "outputId": "f7ae9028-52d7-48b4-f121-c2d4b19ae5b3"
      },
      "outputs": [
        {
          "output_type": "execute_result",
          "data": {
            "text/html": [
              "<div>\n",
              "<style scoped>\n",
              "    .dataframe tbody tr th:only-of-type {\n",
              "        vertical-align: middle;\n",
              "    }\n",
              "\n",
              "    .dataframe tbody tr th {\n",
              "        vertical-align: top;\n",
              "    }\n",
              "\n",
              "    .dataframe thead th {\n",
              "        text-align: right;\n",
              "    }\n",
              "</style>\n",
              "<table border=\"1\" class=\"dataframe\">\n",
              "  <thead>\n",
              "    <tr style=\"text-align: right;\">\n",
              "      <th></th>\n",
              "      <th>street</th>\n",
              "      <th>regularSpeed</th>\n",
              "      <th>time</th>\n",
              "      <th>jamLevel</th>\n",
              "      <th>dt</th>\n",
              "      <th>dt_iso</th>\n",
              "      <th>timezone</th>\n",
              "      <th>city_name</th>\n",
              "      <th>temp</th>\n",
              "      <th>feels_like</th>\n",
              "      <th>temp_min</th>\n",
              "      <th>temp_max</th>\n",
              "      <th>pressure</th>\n",
              "      <th>humidity</th>\n",
              "      <th>wind_speed</th>\n",
              "      <th>wind_deg</th>\n",
              "      <th>clouds_all</th>\n",
              "      <th>weather_id</th>\n",
              "      <th>weather_main</th>\n",
              "      <th>weather_description</th>\n",
              "      <th>weather_icon</th>\n",
              "    </tr>\n",
              "  </thead>\n",
              "  <tbody>\n",
              "    <tr>\n",
              "      <th>0</th>\n",
              "      <td>Bandley Dr</td>\n",
              "      <td>55.409027</td>\n",
              "      <td>2019010101</td>\n",
              "      <td>0</td>\n",
              "      <td>1.546330e+09</td>\n",
              "      <td>2019-01-01 08:00:00 +0000 UTC</td>\n",
              "      <td>-25200.0</td>\n",
              "      <td>Colorado Springs</td>\n",
              "      <td>258.3</td>\n",
              "      <td>258.3</td>\n",
              "      <td>256.38</td>\n",
              "      <td>260.33</td>\n",
              "      <td>1022.0</td>\n",
              "      <td>73.0</td>\n",
              "      <td>0.89</td>\n",
              "      <td>43.0</td>\n",
              "      <td>90.0</td>\n",
              "      <td>804.0</td>\n",
              "      <td>Clouds</td>\n",
              "      <td>overcast clouds</td>\n",
              "      <td>04n</td>\n",
              "    </tr>\n",
              "    <tr>\n",
              "      <th>1</th>\n",
              "      <td>Barkeley Ave</td>\n",
              "      <td>41.976031</td>\n",
              "      <td>2019010101</td>\n",
              "      <td>0</td>\n",
              "      <td>1.546330e+09</td>\n",
              "      <td>2019-01-01 08:00:00 +0000 UTC</td>\n",
              "      <td>-25200.0</td>\n",
              "      <td>Colorado Springs</td>\n",
              "      <td>258.3</td>\n",
              "      <td>258.3</td>\n",
              "      <td>256.38</td>\n",
              "      <td>260.33</td>\n",
              "      <td>1022.0</td>\n",
              "      <td>73.0</td>\n",
              "      <td>0.89</td>\n",
              "      <td>43.0</td>\n",
              "      <td>90.0</td>\n",
              "      <td>804.0</td>\n",
              "      <td>Clouds</td>\n",
              "      <td>overcast clouds</td>\n",
              "      <td>04n</td>\n",
              "    </tr>\n",
              "    <tr>\n",
              "      <th>2</th>\n",
              "      <td>Bradley Rd</td>\n",
              "      <td>52.867364</td>\n",
              "      <td>2019010101</td>\n",
              "      <td>0</td>\n",
              "      <td>1.546330e+09</td>\n",
              "      <td>2019-01-01 08:00:00 +0000 UTC</td>\n",
              "      <td>-25200.0</td>\n",
              "      <td>Colorado Springs</td>\n",
              "      <td>258.3</td>\n",
              "      <td>258.3</td>\n",
              "      <td>256.38</td>\n",
              "      <td>260.33</td>\n",
              "      <td>1022.0</td>\n",
              "      <td>73.0</td>\n",
              "      <td>0.89</td>\n",
              "      <td>43.0</td>\n",
              "      <td>90.0</td>\n",
              "      <td>804.0</td>\n",
              "      <td>Clouds</td>\n",
              "      <td>overcast clouds</td>\n",
              "      <td>04n</td>\n",
              "    </tr>\n",
              "    <tr>\n",
              "      <th>3</th>\n",
              "      <td>Broadmoor Bluffs Dr</td>\n",
              "      <td>42.610000</td>\n",
              "      <td>2019010101</td>\n",
              "      <td>0</td>\n",
              "      <td>1.546330e+09</td>\n",
              "      <td>2019-01-01 08:00:00 +0000 UTC</td>\n",
              "      <td>-25200.0</td>\n",
              "      <td>Colorado Springs</td>\n",
              "      <td>258.3</td>\n",
              "      <td>258.3</td>\n",
              "      <td>256.38</td>\n",
              "      <td>260.33</td>\n",
              "      <td>1022.0</td>\n",
              "      <td>73.0</td>\n",
              "      <td>0.89</td>\n",
              "      <td>43.0</td>\n",
              "      <td>90.0</td>\n",
              "      <td>804.0</td>\n",
              "      <td>Clouds</td>\n",
              "      <td>overcast clouds</td>\n",
              "      <td>04n</td>\n",
              "    </tr>\n",
              "    <tr>\n",
              "      <th>4</th>\n",
              "      <td>Charter Oak Ranch Rd</td>\n",
              "      <td>46.606993</td>\n",
              "      <td>2019010101</td>\n",
              "      <td>0</td>\n",
              "      <td>1.546330e+09</td>\n",
              "      <td>2019-01-01 08:00:00 +0000 UTC</td>\n",
              "      <td>-25200.0</td>\n",
              "      <td>Colorado Springs</td>\n",
              "      <td>258.3</td>\n",
              "      <td>258.3</td>\n",
              "      <td>256.38</td>\n",
              "      <td>260.33</td>\n",
              "      <td>1022.0</td>\n",
              "      <td>73.0</td>\n",
              "      <td>0.89</td>\n",
              "      <td>43.0</td>\n",
              "      <td>90.0</td>\n",
              "      <td>804.0</td>\n",
              "      <td>Clouds</td>\n",
              "      <td>overcast clouds</td>\n",
              "      <td>04n</td>\n",
              "    </tr>\n",
              "  </tbody>\n",
              "</table>\n",
              "</div>"
            ],
            "text/plain": [
              "                 street  regularSpeed  ... weather_description weather_icon\n",
              "0            Bandley Dr     55.409027  ...     overcast clouds          04n\n",
              "1          Barkeley Ave     41.976031  ...     overcast clouds          04n\n",
              "2            Bradley Rd     52.867364  ...     overcast clouds          04n\n",
              "3   Broadmoor Bluffs Dr     42.610000  ...     overcast clouds          04n\n",
              "4  Charter Oak Ranch Rd     46.606993  ...     overcast clouds          04n\n",
              "\n",
              "[5 rows x 21 columns]"
            ]
          },
          "metadata": {},
          "execution_count": 50
        }
      ],
      "source": [
        "df_total.head(5)"
      ]
    },
    {
      "cell_type": "markdown",
      "source": [
        "Here I define some functions to get more time information. We distinguish the seasons, morning, noon, afternoon, and evening by specific date and time."
      ],
      "metadata": {
        "id": "hccRdxx7sGLF"
      }
    },
    {
      "cell_type": "code",
      "execution_count": 51,
      "metadata": {
        "id": "OsmrhgtthIrU"
      },
      "outputs": [],
      "source": [
        "# weekday \n",
        "def weekDay(doy):\n",
        "    doy = str(doy)[:8]\n",
        "    temp = pd.Timestamp(doy)\n",
        "    \n",
        "    return temp.day_name()\n",
        "    \n",
        "#\"day of year\" ranges for the northern hemisphere\n",
        "spring = range(80, 172)\n",
        "summer = range(172, 264)\n",
        "fall = range(264, 355)\n",
        "# winter = everything else\n",
        "\n",
        "def seasonTrans(doy):\n",
        "    doy = str(doy)[:8]\n",
        "    doy = pd.Timestamp(doy)\n",
        "    doy = doy.dayofyear\n",
        "    if doy in spring:\n",
        "        season = 'spring'\n",
        "    elif doy in summer:\n",
        "        season = 'summer'\n",
        "    elif doy in fall:\n",
        "        season = 'fall'\n",
        "    else:\n",
        "        season = 'winter'\n",
        "    return season\n",
        "\n",
        "#\"dayTimeInterval\" ranges\n",
        "earlyMorning = range(4, 8)\n",
        "Morning = range(8, 12)\n",
        "Noon = range(12, 14)\n",
        "AfterNoon = range(14, 19)\n",
        "Night = range(19, 24)\n",
        "# MidNight = everything else\n",
        "\n",
        "def dayTimeInterval(doy):\n",
        "  doy = str(doy)[8:]\n",
        "  doy = int(doy)\n",
        "  if doy in earlyMorning:\n",
        "      interval = 'earlyMorning'\n",
        "  elif doy in Morning:\n",
        "      interval = 'Morning'\n",
        "  elif doy in Noon:\n",
        "      interval = 'Noon'\n",
        "  elif doy in AfterNoon:\n",
        "      interval = 'AfterNoon'\n",
        "  elif doy in Night:\n",
        "      interval = 'Night'\n",
        "  else:\n",
        "      interval = 'MidNight'\n",
        "  return interval\n",
        "\n",
        "def dayTimeHour(doy):\n",
        "  doy = str(doy)[8:]\n",
        "  doy = int(doy)\n",
        "  return doy"
      ]
    },
    {
      "cell_type": "code",
      "execution_count": 52,
      "metadata": {
        "id": "1nK2cmXgRXQD"
      },
      "outputs": [],
      "source": [
        "df_total['dayTimeInterval'] = df_total['time'].apply(lambda x: dayTimeInterval(x))"
      ]
    },
    {
      "cell_type": "code",
      "execution_count": 53,
      "metadata": {
        "id": "Euku4tjbflOb"
      },
      "outputs": [],
      "source": [
        "df_total['HourTime'] = df_total['time'].apply(lambda x: dayTimeHour(x))"
      ]
    },
    {
      "cell_type": "code",
      "execution_count": 54,
      "metadata": {
        "id": "nilQ7YQFQepv"
      },
      "outputs": [],
      "source": [
        "# df_total"
      ]
    },
    {
      "cell_type": "code",
      "execution_count": 55,
      "metadata": {
        "id": "fBdVORGehIrU"
      },
      "outputs": [],
      "source": [
        "df_total['season'] = df_total['time'].apply(lambda x: seasonTrans(x))\n",
        "df_total['weekDay'] = df_total['time'].apply(lambda x: weekDay(x))"
      ]
    },
    {
      "cell_type": "code",
      "execution_count": 56,
      "metadata": {
        "colab": {
          "base_uri": "https://localhost:8080/",
          "height": 573
        },
        "id": "ax1zFYqqhIrU",
        "outputId": "a57d3905-955a-4260-8667-88a4e8f00f54"
      },
      "outputs": [
        {
          "output_type": "execute_result",
          "data": {
            "text/html": [
              "<div>\n",
              "<style scoped>\n",
              "    .dataframe tbody tr th:only-of-type {\n",
              "        vertical-align: middle;\n",
              "    }\n",
              "\n",
              "    .dataframe tbody tr th {\n",
              "        vertical-align: top;\n",
              "    }\n",
              "\n",
              "    .dataframe thead th {\n",
              "        text-align: right;\n",
              "    }\n",
              "</style>\n",
              "<table border=\"1\" class=\"dataframe\">\n",
              "  <thead>\n",
              "    <tr style=\"text-align: right;\">\n",
              "      <th></th>\n",
              "      <th>street</th>\n",
              "      <th>regularSpeed</th>\n",
              "      <th>time</th>\n",
              "      <th>jamLevel</th>\n",
              "      <th>dt</th>\n",
              "      <th>dt_iso</th>\n",
              "      <th>timezone</th>\n",
              "      <th>city_name</th>\n",
              "      <th>temp</th>\n",
              "      <th>feels_like</th>\n",
              "      <th>temp_min</th>\n",
              "      <th>temp_max</th>\n",
              "      <th>pressure</th>\n",
              "      <th>humidity</th>\n",
              "      <th>wind_speed</th>\n",
              "      <th>wind_deg</th>\n",
              "      <th>clouds_all</th>\n",
              "      <th>weather_id</th>\n",
              "      <th>weather_main</th>\n",
              "      <th>weather_description</th>\n",
              "      <th>weather_icon</th>\n",
              "      <th>dayTimeInterval</th>\n",
              "      <th>HourTime</th>\n",
              "      <th>season</th>\n",
              "      <th>weekDay</th>\n",
              "    </tr>\n",
              "  </thead>\n",
              "  <tbody>\n",
              "    <tr>\n",
              "      <th>0</th>\n",
              "      <td>Bandley Dr</td>\n",
              "      <td>55.409027</td>\n",
              "      <td>2019010101</td>\n",
              "      <td>0</td>\n",
              "      <td>1.546330e+09</td>\n",
              "      <td>2019-01-01 08:00:00 +0000 UTC</td>\n",
              "      <td>-25200.0</td>\n",
              "      <td>Colorado Springs</td>\n",
              "      <td>258.3</td>\n",
              "      <td>258.3</td>\n",
              "      <td>256.38</td>\n",
              "      <td>260.33</td>\n",
              "      <td>1022.0</td>\n",
              "      <td>73.0</td>\n",
              "      <td>0.89</td>\n",
              "      <td>43.0</td>\n",
              "      <td>90.0</td>\n",
              "      <td>804.0</td>\n",
              "      <td>Clouds</td>\n",
              "      <td>overcast clouds</td>\n",
              "      <td>04n</td>\n",
              "      <td>MidNight</td>\n",
              "      <td>1</td>\n",
              "      <td>winter</td>\n",
              "      <td>Tuesday</td>\n",
              "    </tr>\n",
              "    <tr>\n",
              "      <th>1</th>\n",
              "      <td>Barkeley Ave</td>\n",
              "      <td>41.976031</td>\n",
              "      <td>2019010101</td>\n",
              "      <td>0</td>\n",
              "      <td>1.546330e+09</td>\n",
              "      <td>2019-01-01 08:00:00 +0000 UTC</td>\n",
              "      <td>-25200.0</td>\n",
              "      <td>Colorado Springs</td>\n",
              "      <td>258.3</td>\n",
              "      <td>258.3</td>\n",
              "      <td>256.38</td>\n",
              "      <td>260.33</td>\n",
              "      <td>1022.0</td>\n",
              "      <td>73.0</td>\n",
              "      <td>0.89</td>\n",
              "      <td>43.0</td>\n",
              "      <td>90.0</td>\n",
              "      <td>804.0</td>\n",
              "      <td>Clouds</td>\n",
              "      <td>overcast clouds</td>\n",
              "      <td>04n</td>\n",
              "      <td>MidNight</td>\n",
              "      <td>1</td>\n",
              "      <td>winter</td>\n",
              "      <td>Tuesday</td>\n",
              "    </tr>\n",
              "    <tr>\n",
              "      <th>2</th>\n",
              "      <td>Bradley Rd</td>\n",
              "      <td>52.867364</td>\n",
              "      <td>2019010101</td>\n",
              "      <td>0</td>\n",
              "      <td>1.546330e+09</td>\n",
              "      <td>2019-01-01 08:00:00 +0000 UTC</td>\n",
              "      <td>-25200.0</td>\n",
              "      <td>Colorado Springs</td>\n",
              "      <td>258.3</td>\n",
              "      <td>258.3</td>\n",
              "      <td>256.38</td>\n",
              "      <td>260.33</td>\n",
              "      <td>1022.0</td>\n",
              "      <td>73.0</td>\n",
              "      <td>0.89</td>\n",
              "      <td>43.0</td>\n",
              "      <td>90.0</td>\n",
              "      <td>804.0</td>\n",
              "      <td>Clouds</td>\n",
              "      <td>overcast clouds</td>\n",
              "      <td>04n</td>\n",
              "      <td>MidNight</td>\n",
              "      <td>1</td>\n",
              "      <td>winter</td>\n",
              "      <td>Tuesday</td>\n",
              "    </tr>\n",
              "    <tr>\n",
              "      <th>3</th>\n",
              "      <td>Broadmoor Bluffs Dr</td>\n",
              "      <td>42.610000</td>\n",
              "      <td>2019010101</td>\n",
              "      <td>0</td>\n",
              "      <td>1.546330e+09</td>\n",
              "      <td>2019-01-01 08:00:00 +0000 UTC</td>\n",
              "      <td>-25200.0</td>\n",
              "      <td>Colorado Springs</td>\n",
              "      <td>258.3</td>\n",
              "      <td>258.3</td>\n",
              "      <td>256.38</td>\n",
              "      <td>260.33</td>\n",
              "      <td>1022.0</td>\n",
              "      <td>73.0</td>\n",
              "      <td>0.89</td>\n",
              "      <td>43.0</td>\n",
              "      <td>90.0</td>\n",
              "      <td>804.0</td>\n",
              "      <td>Clouds</td>\n",
              "      <td>overcast clouds</td>\n",
              "      <td>04n</td>\n",
              "      <td>MidNight</td>\n",
              "      <td>1</td>\n",
              "      <td>winter</td>\n",
              "      <td>Tuesday</td>\n",
              "    </tr>\n",
              "    <tr>\n",
              "      <th>4</th>\n",
              "      <td>Charter Oak Ranch Rd</td>\n",
              "      <td>46.606993</td>\n",
              "      <td>2019010101</td>\n",
              "      <td>0</td>\n",
              "      <td>1.546330e+09</td>\n",
              "      <td>2019-01-01 08:00:00 +0000 UTC</td>\n",
              "      <td>-25200.0</td>\n",
              "      <td>Colorado Springs</td>\n",
              "      <td>258.3</td>\n",
              "      <td>258.3</td>\n",
              "      <td>256.38</td>\n",
              "      <td>260.33</td>\n",
              "      <td>1022.0</td>\n",
              "      <td>73.0</td>\n",
              "      <td>0.89</td>\n",
              "      <td>43.0</td>\n",
              "      <td>90.0</td>\n",
              "      <td>804.0</td>\n",
              "      <td>Clouds</td>\n",
              "      <td>overcast clouds</td>\n",
              "      <td>04n</td>\n",
              "      <td>MidNight</td>\n",
              "      <td>1</td>\n",
              "      <td>winter</td>\n",
              "      <td>Tuesday</td>\n",
              "    </tr>\n",
              "  </tbody>\n",
              "</table>\n",
              "</div>"
            ],
            "text/plain": [
              "                 street  regularSpeed        time  ... HourTime  season  weekDay\n",
              "0            Bandley Dr     55.409027  2019010101  ...        1  winter  Tuesday\n",
              "1          Barkeley Ave     41.976031  2019010101  ...        1  winter  Tuesday\n",
              "2            Bradley Rd     52.867364  2019010101  ...        1  winter  Tuesday\n",
              "3   Broadmoor Bluffs Dr     42.610000  2019010101  ...        1  winter  Tuesday\n",
              "4  Charter Oak Ranch Rd     46.606993  2019010101  ...        1  winter  Tuesday\n",
              "\n",
              "[5 rows x 25 columns]"
            ]
          },
          "metadata": {},
          "execution_count": 56
        }
      ],
      "source": [
        "df_total.head(5)"
      ]
    },
    {
      "cell_type": "code",
      "execution_count": 57,
      "metadata": {
        "id": "vwQhNkmHqwFY"
      },
      "outputs": [],
      "source": [
        "## drop the null rows again \n",
        "df_total = df_total.dropna(how='all')"
      ]
    },
    {
      "cell_type": "markdown",
      "metadata": {
        "id": "4EpmoPeCpnYs"
      },
      "source": [
        "#### Add Next Hour as Label"
      ]
    },
    {
      "cell_type": "markdown",
      "source": [
        "Since the target of our prediction is the congestion of \"next hour\", here we once again move forward and complement the data on the timeline to create a Y label that we can use."
      ],
      "metadata": {
        "id": "diNh9Wq3tRFr"
      }
    },
    {
      "cell_type": "code",
      "execution_count": 58,
      "metadata": {
        "id": "bUM6Eyjltjas"
      },
      "outputs": [],
      "source": [
        "total_next_lst = []\n",
        "\n",
        "for s in Stree_Near_Gate:\n",
        "  df_road = df_total[df_total['street'] == s]\n",
        "  df_road = df_road.sort_values(by=\"time\" , ascending=True) \n",
        "  df_road = df_road.reset_index()\n",
        "  df_road = df_road.dropna(how='all')\n",
        "  df_road['NextJamLevel'] = 0\n",
        "\n",
        "  for j in range(len(df_road) - 1):\n",
        "    df_road.loc[j:j]['NextJamLevel'] = df_road.loc[j+1]['jamLevel']\n",
        "  \n",
        "  total_next_lst.append(df_road)"
      ]
    },
    {
      "cell_type": "code",
      "execution_count": 59,
      "metadata": {
        "id": "1oV8VGcIuLWv"
      },
      "outputs": [],
      "source": [
        "final_output = pd.concat(total_next_lst)"
      ]
    },
    {
      "cell_type": "code",
      "execution_count": 60,
      "metadata": {
        "colab": {
          "base_uri": "https://localhost:8080/",
          "height": 964
        },
        "id": "do_UpsPRucWr",
        "outputId": "9ef38b74-4ce4-4f13-b8e5-dffd62b60104"
      },
      "outputs": [
        {
          "output_type": "execute_result",
          "data": {
            "text/html": [
              "<div>\n",
              "<style scoped>\n",
              "    .dataframe tbody tr th:only-of-type {\n",
              "        vertical-align: middle;\n",
              "    }\n",
              "\n",
              "    .dataframe tbody tr th {\n",
              "        vertical-align: top;\n",
              "    }\n",
              "\n",
              "    .dataframe thead th {\n",
              "        text-align: right;\n",
              "    }\n",
              "</style>\n",
              "<table border=\"1\" class=\"dataframe\">\n",
              "  <thead>\n",
              "    <tr style=\"text-align: right;\">\n",
              "      <th></th>\n",
              "      <th>index</th>\n",
              "      <th>street</th>\n",
              "      <th>regularSpeed</th>\n",
              "      <th>time</th>\n",
              "      <th>jamLevel</th>\n",
              "      <th>dt</th>\n",
              "      <th>dt_iso</th>\n",
              "      <th>timezone</th>\n",
              "      <th>city_name</th>\n",
              "      <th>temp</th>\n",
              "      <th>feels_like</th>\n",
              "      <th>temp_min</th>\n",
              "      <th>temp_max</th>\n",
              "      <th>pressure</th>\n",
              "      <th>humidity</th>\n",
              "      <th>wind_speed</th>\n",
              "      <th>wind_deg</th>\n",
              "      <th>clouds_all</th>\n",
              "      <th>weather_id</th>\n",
              "      <th>weather_main</th>\n",
              "      <th>weather_description</th>\n",
              "      <th>weather_icon</th>\n",
              "      <th>dayTimeInterval</th>\n",
              "      <th>HourTime</th>\n",
              "      <th>season</th>\n",
              "      <th>weekDay</th>\n",
              "      <th>NextJamLevel</th>\n",
              "    </tr>\n",
              "  </thead>\n",
              "  <tbody>\n",
              "    <tr>\n",
              "      <th>0</th>\n",
              "      <td>26</td>\n",
              "      <td>to SH-115 N</td>\n",
              "      <td>66.920000</td>\n",
              "      <td>2019010101</td>\n",
              "      <td>0</td>\n",
              "      <td>1.546330e+09</td>\n",
              "      <td>2019-01-01 08:00:00 +0000 UTC</td>\n",
              "      <td>-25200.0</td>\n",
              "      <td>Colorado Springs</td>\n",
              "      <td>258.30</td>\n",
              "      <td>258.30</td>\n",
              "      <td>256.38</td>\n",
              "      <td>260.33</td>\n",
              "      <td>1022.0</td>\n",
              "      <td>73.0</td>\n",
              "      <td>0.89</td>\n",
              "      <td>43.0</td>\n",
              "      <td>90.0</td>\n",
              "      <td>804.0</td>\n",
              "      <td>Clouds</td>\n",
              "      <td>overcast clouds</td>\n",
              "      <td>04n</td>\n",
              "      <td>MidNight</td>\n",
              "      <td>1</td>\n",
              "      <td>winter</td>\n",
              "      <td>Tuesday</td>\n",
              "      <td>0</td>\n",
              "    </tr>\n",
              "    <tr>\n",
              "      <th>1</th>\n",
              "      <td>53</td>\n",
              "      <td>to SH-115 N</td>\n",
              "      <td>66.920000</td>\n",
              "      <td>2019010102</td>\n",
              "      <td>0</td>\n",
              "      <td>1.546333e+09</td>\n",
              "      <td>2019-01-01 09:00:00 +0000 UTC</td>\n",
              "      <td>-25200.0</td>\n",
              "      <td>Colorado Springs</td>\n",
              "      <td>258.31</td>\n",
              "      <td>254.88</td>\n",
              "      <td>256.87</td>\n",
              "      <td>260.33</td>\n",
              "      <td>1023.0</td>\n",
              "      <td>75.0</td>\n",
              "      <td>1.34</td>\n",
              "      <td>43.0</td>\n",
              "      <td>90.0</td>\n",
              "      <td>600.0</td>\n",
              "      <td>Snow</td>\n",
              "      <td>light snow</td>\n",
              "      <td>13n</td>\n",
              "      <td>MidNight</td>\n",
              "      <td>2</td>\n",
              "      <td>winter</td>\n",
              "      <td>Tuesday</td>\n",
              "      <td>0</td>\n",
              "    </tr>\n",
              "    <tr>\n",
              "      <th>2</th>\n",
              "      <td>80</td>\n",
              "      <td>to SH-115 N</td>\n",
              "      <td>66.920000</td>\n",
              "      <td>2019010103</td>\n",
              "      <td>0</td>\n",
              "      <td>1.546337e+09</td>\n",
              "      <td>2019-01-01 10:00:00 +0000 UTC</td>\n",
              "      <td>-25200.0</td>\n",
              "      <td>Colorado Springs</td>\n",
              "      <td>258.29</td>\n",
              "      <td>254.85</td>\n",
              "      <td>257.23</td>\n",
              "      <td>259.77</td>\n",
              "      <td>1022.0</td>\n",
              "      <td>77.0</td>\n",
              "      <td>1.34</td>\n",
              "      <td>43.0</td>\n",
              "      <td>90.0</td>\n",
              "      <td>600.0</td>\n",
              "      <td>Snow</td>\n",
              "      <td>light snow</td>\n",
              "      <td>13n</td>\n",
              "      <td>MidNight</td>\n",
              "      <td>3</td>\n",
              "      <td>winter</td>\n",
              "      <td>Tuesday</td>\n",
              "      <td>0</td>\n",
              "    </tr>\n",
              "    <tr>\n",
              "      <th>3</th>\n",
              "      <td>107</td>\n",
              "      <td>to SH-115 N</td>\n",
              "      <td>66.920000</td>\n",
              "      <td>2019010104</td>\n",
              "      <td>0</td>\n",
              "      <td>1.546340e+09</td>\n",
              "      <td>2019-01-01 11:00:00 +0000 UTC</td>\n",
              "      <td>-25200.0</td>\n",
              "      <td>Colorado Springs</td>\n",
              "      <td>258.27</td>\n",
              "      <td>258.27</td>\n",
              "      <td>257.23</td>\n",
              "      <td>259.21</td>\n",
              "      <td>1022.0</td>\n",
              "      <td>79.0</td>\n",
              "      <td>0.00</td>\n",
              "      <td>0.0</td>\n",
              "      <td>90.0</td>\n",
              "      <td>600.0</td>\n",
              "      <td>Snow</td>\n",
              "      <td>light snow</td>\n",
              "      <td>13n</td>\n",
              "      <td>earlyMorning</td>\n",
              "      <td>4</td>\n",
              "      <td>winter</td>\n",
              "      <td>Tuesday</td>\n",
              "      <td>0</td>\n",
              "    </tr>\n",
              "    <tr>\n",
              "      <th>4</th>\n",
              "      <td>134</td>\n",
              "      <td>to SH-115 N</td>\n",
              "      <td>66.920000</td>\n",
              "      <td>2019010105</td>\n",
              "      <td>0</td>\n",
              "      <td>1.546344e+09</td>\n",
              "      <td>2019-01-01 12:00:00 +0000 UTC</td>\n",
              "      <td>-25200.0</td>\n",
              "      <td>Colorado Springs</td>\n",
              "      <td>258.20</td>\n",
              "      <td>258.20</td>\n",
              "      <td>257.23</td>\n",
              "      <td>259.06</td>\n",
              "      <td>1021.0</td>\n",
              "      <td>79.0</td>\n",
              "      <td>0.00</td>\n",
              "      <td>0.0</td>\n",
              "      <td>75.0</td>\n",
              "      <td>600.0</td>\n",
              "      <td>Snow</td>\n",
              "      <td>light snow</td>\n",
              "      <td>13n</td>\n",
              "      <td>earlyMorning</td>\n",
              "      <td>5</td>\n",
              "      <td>winter</td>\n",
              "      <td>Tuesday</td>\n",
              "      <td>0</td>\n",
              "    </tr>\n",
              "    <tr>\n",
              "      <th>...</th>\n",
              "      <td>...</td>\n",
              "      <td>...</td>\n",
              "      <td>...</td>\n",
              "      <td>...</td>\n",
              "      <td>...</td>\n",
              "      <td>...</td>\n",
              "      <td>...</td>\n",
              "      <td>...</td>\n",
              "      <td>...</td>\n",
              "      <td>...</td>\n",
              "      <td>...</td>\n",
              "      <td>...</td>\n",
              "      <td>...</td>\n",
              "      <td>...</td>\n",
              "      <td>...</td>\n",
              "      <td>...</td>\n",
              "      <td>...</td>\n",
              "      <td>...</td>\n",
              "      <td>...</td>\n",
              "      <td>...</td>\n",
              "      <td>...</td>\n",
              "      <td>...</td>\n",
              "      <td>...</td>\n",
              "      <td>...</td>\n",
              "      <td>...</td>\n",
              "      <td>...</td>\n",
              "      <td>...</td>\n",
              "    </tr>\n",
              "    <tr>\n",
              "      <th>29272</th>\n",
              "      <td>717892</td>\n",
              "      <td>S Academy Blvd</td>\n",
              "      <td>62.133654</td>\n",
              "      <td>2021123020</td>\n",
              "      <td>0</td>\n",
              "      <td>NaN</td>\n",
              "      <td>NaN</td>\n",
              "      <td>NaN</td>\n",
              "      <td>NaN</td>\n",
              "      <td>NaN</td>\n",
              "      <td>NaN</td>\n",
              "      <td>NaN</td>\n",
              "      <td>NaN</td>\n",
              "      <td>NaN</td>\n",
              "      <td>NaN</td>\n",
              "      <td>NaN</td>\n",
              "      <td>NaN</td>\n",
              "      <td>NaN</td>\n",
              "      <td>NaN</td>\n",
              "      <td>NaN</td>\n",
              "      <td>NaN</td>\n",
              "      <td>NaN</td>\n",
              "      <td>Night</td>\n",
              "      <td>20</td>\n",
              "      <td>winter</td>\n",
              "      <td>Thursday</td>\n",
              "      <td>0</td>\n",
              "    </tr>\n",
              "    <tr>\n",
              "      <th>29273</th>\n",
              "      <td>717919</td>\n",
              "      <td>S Academy Blvd</td>\n",
              "      <td>62.133654</td>\n",
              "      <td>2021123021</td>\n",
              "      <td>0</td>\n",
              "      <td>NaN</td>\n",
              "      <td>NaN</td>\n",
              "      <td>NaN</td>\n",
              "      <td>NaN</td>\n",
              "      <td>NaN</td>\n",
              "      <td>NaN</td>\n",
              "      <td>NaN</td>\n",
              "      <td>NaN</td>\n",
              "      <td>NaN</td>\n",
              "      <td>NaN</td>\n",
              "      <td>NaN</td>\n",
              "      <td>NaN</td>\n",
              "      <td>NaN</td>\n",
              "      <td>NaN</td>\n",
              "      <td>NaN</td>\n",
              "      <td>NaN</td>\n",
              "      <td>NaN</td>\n",
              "      <td>Night</td>\n",
              "      <td>21</td>\n",
              "      <td>winter</td>\n",
              "      <td>Thursday</td>\n",
              "      <td>0</td>\n",
              "    </tr>\n",
              "    <tr>\n",
              "      <th>29274</th>\n",
              "      <td>717946</td>\n",
              "      <td>S Academy Blvd</td>\n",
              "      <td>62.133654</td>\n",
              "      <td>2021123022</td>\n",
              "      <td>0</td>\n",
              "      <td>NaN</td>\n",
              "      <td>NaN</td>\n",
              "      <td>NaN</td>\n",
              "      <td>NaN</td>\n",
              "      <td>NaN</td>\n",
              "      <td>NaN</td>\n",
              "      <td>NaN</td>\n",
              "      <td>NaN</td>\n",
              "      <td>NaN</td>\n",
              "      <td>NaN</td>\n",
              "      <td>NaN</td>\n",
              "      <td>NaN</td>\n",
              "      <td>NaN</td>\n",
              "      <td>NaN</td>\n",
              "      <td>NaN</td>\n",
              "      <td>NaN</td>\n",
              "      <td>NaN</td>\n",
              "      <td>Night</td>\n",
              "      <td>22</td>\n",
              "      <td>winter</td>\n",
              "      <td>Thursday</td>\n",
              "      <td>0</td>\n",
              "    </tr>\n",
              "    <tr>\n",
              "      <th>29275</th>\n",
              "      <td>717973</td>\n",
              "      <td>S Academy Blvd</td>\n",
              "      <td>62.133654</td>\n",
              "      <td>2021123023</td>\n",
              "      <td>0</td>\n",
              "      <td>NaN</td>\n",
              "      <td>NaN</td>\n",
              "      <td>NaN</td>\n",
              "      <td>NaN</td>\n",
              "      <td>NaN</td>\n",
              "      <td>NaN</td>\n",
              "      <td>NaN</td>\n",
              "      <td>NaN</td>\n",
              "      <td>NaN</td>\n",
              "      <td>NaN</td>\n",
              "      <td>NaN</td>\n",
              "      <td>NaN</td>\n",
              "      <td>NaN</td>\n",
              "      <td>NaN</td>\n",
              "      <td>NaN</td>\n",
              "      <td>NaN</td>\n",
              "      <td>NaN</td>\n",
              "      <td>Night</td>\n",
              "      <td>23</td>\n",
              "      <td>winter</td>\n",
              "      <td>Thursday</td>\n",
              "      <td>0</td>\n",
              "    </tr>\n",
              "    <tr>\n",
              "      <th>29276</th>\n",
              "      <td>718000</td>\n",
              "      <td>S Academy Blvd</td>\n",
              "      <td>62.133654</td>\n",
              "      <td>2021123024</td>\n",
              "      <td>0</td>\n",
              "      <td>NaN</td>\n",
              "      <td>NaN</td>\n",
              "      <td>NaN</td>\n",
              "      <td>NaN</td>\n",
              "      <td>NaN</td>\n",
              "      <td>NaN</td>\n",
              "      <td>NaN</td>\n",
              "      <td>NaN</td>\n",
              "      <td>NaN</td>\n",
              "      <td>NaN</td>\n",
              "      <td>NaN</td>\n",
              "      <td>NaN</td>\n",
              "      <td>NaN</td>\n",
              "      <td>NaN</td>\n",
              "      <td>NaN</td>\n",
              "      <td>NaN</td>\n",
              "      <td>NaN</td>\n",
              "      <td>MidNight</td>\n",
              "      <td>24</td>\n",
              "      <td>winter</td>\n",
              "      <td>Thursday</td>\n",
              "      <td>0</td>\n",
              "    </tr>\n",
              "  </tbody>\n",
              "</table>\n",
              "<p>802422 rows × 27 columns</p>\n",
              "</div>"
            ],
            "text/plain": [
              "        index          street  regularSpeed  ...  season   weekDay  NextJamLevel\n",
              "0          26     to SH-115 N     66.920000  ...  winter   Tuesday             0\n",
              "1          53     to SH-115 N     66.920000  ...  winter   Tuesday             0\n",
              "2          80     to SH-115 N     66.920000  ...  winter   Tuesday             0\n",
              "3         107     to SH-115 N     66.920000  ...  winter   Tuesday             0\n",
              "4         134     to SH-115 N     66.920000  ...  winter   Tuesday             0\n",
              "...       ...             ...           ...  ...     ...       ...           ...\n",
              "29272  717892  S Academy Blvd     62.133654  ...  winter  Thursday             0\n",
              "29273  717919  S Academy Blvd     62.133654  ...  winter  Thursday             0\n",
              "29274  717946  S Academy Blvd     62.133654  ...  winter  Thursday             0\n",
              "29275  717973  S Academy Blvd     62.133654  ...  winter  Thursday             0\n",
              "29276  718000  S Academy Blvd     62.133654  ...  winter  Thursday             0\n",
              "\n",
              "[802422 rows x 27 columns]"
            ]
          },
          "metadata": {},
          "execution_count": 60
        }
      ],
      "source": [
        "final_output"
      ]
    },
    {
      "cell_type": "markdown",
      "metadata": {
        "id": "McYseXm0hIrU"
      },
      "source": [
        "### Data Prepration for Model"
      ]
    },
    {
      "cell_type": "code",
      "execution_count": 61,
      "metadata": {
        "id": "7p3FpwvqhIrU"
      },
      "outputs": [],
      "source": [
        "# remove all null\n",
        "df_eda = final_output.dropna(axis=0,how='any')"
      ]
    },
    {
      "cell_type": "code",
      "execution_count": 62,
      "metadata": {
        "id": "oNusSKVbhIrU"
      },
      "outputs": [],
      "source": [
        "# delete unuseful columns \n",
        "df_eda = df_eda.drop(columns = ['dt', 'dt_iso', 'timezone', 'city_name', 'index'])"
      ]
    },
    {
      "cell_type": "code",
      "execution_count": 63,
      "metadata": {
        "id": "MDkOzX5NhIrV"
      },
      "outputs": [],
      "source": [
        "### EDA part "
      ]
    },
    {
      "cell_type": "code",
      "execution_count": 64,
      "metadata": {
        "colab": {
          "base_uri": "https://localhost:8080/",
          "height": 167
        },
        "id": "nNoP3nQ9hIrV",
        "outputId": "9759c1e0-3a3a-4fec-b64d-e8f6c8f7b08d"
      },
      "outputs": [
        {
          "output_type": "execute_result",
          "data": {
            "text/html": [
              "<div>\n",
              "<style scoped>\n",
              "    .dataframe tbody tr th:only-of-type {\n",
              "        vertical-align: middle;\n",
              "    }\n",
              "\n",
              "    .dataframe tbody tr th {\n",
              "        vertical-align: top;\n",
              "    }\n",
              "\n",
              "    .dataframe thead th {\n",
              "        text-align: right;\n",
              "    }\n",
              "</style>\n",
              "<table border=\"1\" class=\"dataframe\">\n",
              "  <thead>\n",
              "    <tr style=\"text-align: right;\">\n",
              "      <th></th>\n",
              "      <th>street</th>\n",
              "      <th>regularSpeed</th>\n",
              "      <th>time</th>\n",
              "      <th>jamLevel</th>\n",
              "      <th>temp</th>\n",
              "      <th>feels_like</th>\n",
              "      <th>temp_min</th>\n",
              "      <th>temp_max</th>\n",
              "      <th>pressure</th>\n",
              "      <th>humidity</th>\n",
              "      <th>wind_speed</th>\n",
              "      <th>wind_deg</th>\n",
              "      <th>clouds_all</th>\n",
              "      <th>weather_id</th>\n",
              "      <th>weather_main</th>\n",
              "      <th>weather_description</th>\n",
              "      <th>weather_icon</th>\n",
              "      <th>dayTimeInterval</th>\n",
              "      <th>HourTime</th>\n",
              "      <th>season</th>\n",
              "      <th>weekDay</th>\n",
              "      <th>NextJamLevel</th>\n",
              "    </tr>\n",
              "  </thead>\n",
              "  <tbody>\n",
              "    <tr>\n",
              "      <th>0</th>\n",
              "      <td>to SH-115 N</td>\n",
              "      <td>66.92</td>\n",
              "      <td>2019010101</td>\n",
              "      <td>0</td>\n",
              "      <td>258.30</td>\n",
              "      <td>258.30</td>\n",
              "      <td>256.38</td>\n",
              "      <td>260.33</td>\n",
              "      <td>1022.0</td>\n",
              "      <td>73.0</td>\n",
              "      <td>0.89</td>\n",
              "      <td>43.0</td>\n",
              "      <td>90.0</td>\n",
              "      <td>804.0</td>\n",
              "      <td>Clouds</td>\n",
              "      <td>overcast clouds</td>\n",
              "      <td>04n</td>\n",
              "      <td>MidNight</td>\n",
              "      <td>1</td>\n",
              "      <td>winter</td>\n",
              "      <td>Tuesday</td>\n",
              "      <td>0</td>\n",
              "    </tr>\n",
              "    <tr>\n",
              "      <th>1</th>\n",
              "      <td>to SH-115 N</td>\n",
              "      <td>66.92</td>\n",
              "      <td>2019010102</td>\n",
              "      <td>0</td>\n",
              "      <td>258.31</td>\n",
              "      <td>254.88</td>\n",
              "      <td>256.87</td>\n",
              "      <td>260.33</td>\n",
              "      <td>1023.0</td>\n",
              "      <td>75.0</td>\n",
              "      <td>1.34</td>\n",
              "      <td>43.0</td>\n",
              "      <td>90.0</td>\n",
              "      <td>600.0</td>\n",
              "      <td>Snow</td>\n",
              "      <td>light snow</td>\n",
              "      <td>13n</td>\n",
              "      <td>MidNight</td>\n",
              "      <td>2</td>\n",
              "      <td>winter</td>\n",
              "      <td>Tuesday</td>\n",
              "      <td>0</td>\n",
              "    </tr>\n",
              "  </tbody>\n",
              "</table>\n",
              "</div>"
            ],
            "text/plain": [
              "        street  regularSpeed        time  ...  season  weekDay  NextJamLevel\n",
              "0  to SH-115 N         66.92  2019010101  ...  winter  Tuesday             0\n",
              "1  to SH-115 N         66.92  2019010102  ...  winter  Tuesday             0\n",
              "\n",
              "[2 rows x 22 columns]"
            ]
          },
          "metadata": {},
          "execution_count": 64
        }
      ],
      "source": [
        "df_eda.head(2)"
      ]
    },
    {
      "cell_type": "code",
      "execution_count": 65,
      "metadata": {
        "colab": {
          "base_uri": "https://localhost:8080/"
        },
        "id": "NIKyrjfMAgmZ",
        "outputId": "545f053e-23ca-4877-cf6d-33fd68aaa1a4"
      },
      "outputs": [
        {
          "output_type": "execute_result",
          "data": {
            "text/plain": [
              "(732870, 22)"
            ]
          },
          "metadata": {},
          "execution_count": 65
        }
      ],
      "source": [
        "df_eda.shape"
      ]
    },
    {
      "cell_type": "code",
      "execution_count": 66,
      "metadata": {
        "id": "GEiKnrtMbM9C"
      },
      "outputs": [],
      "source": [
        "# df_eda['street'].unique()"
      ]
    },
    {
      "cell_type": "code",
      "execution_count": 67,
      "metadata": {
        "colab": {
          "base_uri": "https://localhost:8080/"
        },
        "id": "gUiuDwyyDoQA",
        "outputId": "d5bfd437-ead2-480e-fd68-276211c69d2c"
      },
      "outputs": [
        {
          "output_type": "execute_result",
          "data": {
            "text/plain": [
              "street                  object\n",
              "regularSpeed           float64\n",
              "time                    object\n",
              "jamLevel                object\n",
              "temp                   float64\n",
              "feels_like             float64\n",
              "temp_min               float64\n",
              "temp_max               float64\n",
              "pressure               float64\n",
              "humidity               float64\n",
              "wind_speed             float64\n",
              "wind_deg               float64\n",
              "clouds_all             float64\n",
              "weather_id             float64\n",
              "weather_main            object\n",
              "weather_description     object\n",
              "weather_icon            object\n",
              "dayTimeInterval         object\n",
              "HourTime                 int64\n",
              "season                  object\n",
              "weekDay                 object\n",
              "NextJamLevel             int64\n",
              "dtype: object"
            ]
          },
          "metadata": {},
          "execution_count": 67
        }
      ],
      "source": [
        "df_eda.dtypes"
      ]
    },
    {
      "cell_type": "code",
      "execution_count": 68,
      "metadata": {
        "id": "6Zo8YZmuD79G"
      },
      "outputs": [],
      "source": [
        "df_eda['jamLevel'] = df_eda['jamLevel'].astype(int)"
      ]
    },
    {
      "cell_type": "markdown",
      "metadata": {
        "id": "IxQpHePK7xxu"
      },
      "source": [
        "## Exploratory Data Analysis"
      ]
    },
    {
      "cell_type": "markdown",
      "metadata": {
        "id": "zxtn2DgCPbVF"
      },
      "source": [
        "### 1. Jam Level Distribution"
      ]
    },
    {
      "cell_type": "markdown",
      "source": [
        "From this figure, we can very well see that because we fill a large amount of data with 0Jam Level, it will actually cause a data imbalance. 0 Jam Lavel's case number is about 13 times the total number of other cases."
      ],
      "metadata": {
        "id": "p_O6sV25v_Z0"
      }
    },
    {
      "cell_type": "code",
      "execution_count": 69,
      "metadata": {
        "colab": {
          "base_uri": "https://localhost:8080/",
          "height": 407
        },
        "id": "YrjSN6-p7zdZ",
        "outputId": "dce3d273-9388-4f71-bfd1-dc7a29f19f81"
      },
      "outputs": [
        {
          "output_type": "display_data",
          "data": {
            "image/png": "[encoded data removed]",
            "text/plain": [
              "<Figure size 576x432 with 1 Axes>"
            ]
          },
          "metadata": {
            "needs_background": "light"
          }
        }
      ],
      "source": [
        "# Get the distribution of the number cases of different jamLevel\n",
        "x = df_eda['jamLevel'].value_counts()\n",
        "x = x.sort_index()\n",
        "\n",
        "# plot\n",
        "plt.figure(figsize=(8,6))\n",
        "ax= sns.barplot(x.index, x.values, alpha=0.8)\n",
        "plt.title(\"Jam Level Distribution\")\n",
        "plt.ylabel('Number of Data Points', fontsize=12)\n",
        "plt.xlabel('Jam Level', fontsize=12)\n",
        "\n",
        "# adding the text labels\n",
        "rects = ax.patches\n",
        "labels = x.values\n",
        "for rect, label in zip(rects, labels):\n",
        "    height = rect.get_height()\n",
        "    ax.text(rect.get_x() + rect.get_width()/2, height + 5, label, ha='center', va='bottom')\n",
        "\n",
        "plt.show()"
      ]
    },
    {
      "cell_type": "markdown",
      "metadata": {
        "id": "FOfSISnJPqVQ"
      },
      "source": [
        "### TimeLine for DataSet"
      ]
    },
    {
      "cell_type": "code",
      "execution_count": 70,
      "metadata": {
        "id": "6Qr4Ex_NRw-r"
      },
      "outputs": [],
      "source": [
        "timeline = df_eda.groupby('time').count().reset_index()\n",
        "timeline = timeline.sort_values('time', ascending = True)"
      ]
    },
    {
      "cell_type": "markdown",
      "metadata": {
        "id": "YWs-7R8OYneA"
      },
      "source": [
        "#### TimeFrame for Dataset"
      ]
    },
    {
      "cell_type": "markdown",
      "source": [
        "It can be seen from the timeline of the overall data that after completing the data. Our data set is relatively uniform in time distribution."
      ],
      "metadata": {
        "id": "mfJJMx8duCz4"
      }
    },
    {
      "cell_type": "code",
      "execution_count": 71,
      "metadata": {
        "colab": {
          "base_uri": "https://localhost:8080/",
          "height": 532
        },
        "id": "2VErTiGmUS12",
        "outputId": "efbff5cf-8a7b-4fcc-a931-64bc3799da25"
      },
      "outputs": [
        {
          "output_type": "display_data",
          "data": {
            "image/png": "[encoded data removed]",
            "text/plain": [
              "<Figure size 1440x720 with 1 Axes>"
            ]
          },
          "metadata": {
            "needs_background": "light"
          }
        }
      ],
      "source": [
        "import matplotlib.pyplot as plt\n",
        "import matplotlib.ticker as ticker\n",
        "from matplotlib.pyplot import figure\n",
        "\n",
        "x = timeline['time']\n",
        "y = timeline['street']\n",
        "\n",
        "tick_spacing = 3000\n",
        "\n",
        "fig, ax = plt.subplots(1,1, figsize = (20,10))\n",
        "\n",
        "ax.plot(x,y)\n",
        "ax.xaxis.set_major_locator(ticker.MultipleLocator(tick_spacing))\n",
        "plt.show()"
      ]
    },
    {
      "cell_type": "markdown",
      "metadata": {
        "id": "hmEq2WNXPqlm"
      },
      "source": [
        "#### dayTimeInterval\n",
        "- earlyMorning = range(4, 8)\n",
        "- Morning = range(8, 12)\n",
        "- Noon = range(12, 14)\n",
        "- AfterNoon = range(14, 19)\n",
        "- Night = range(19, 24)\n",
        "- MidNight = range(24, 4)"
      ]
    },
    {
      "cell_type": "code",
      "execution_count": 72,
      "metadata": {
        "id": "WTb2YWrdoSmM"
      },
      "outputs": [],
      "source": [
        "df_jam_eda = df_eda[df_eda['jamLevel'] > 0]"
      ]
    },
    {
      "cell_type": "code",
      "execution_count": 73,
      "metadata": {
        "colab": {
          "base_uri": "https://localhost:8080/",
          "height": 407
        },
        "id": "kzLRTJjYZz4b",
        "outputId": "8b914aa1-86c6-4e9a-d2f1-4f325d08b226"
      },
      "outputs": [
        {
          "output_type": "display_data",
          "data": {
            "image/png": "[encoded data removed]",
            "text/plain": [
              "<Figure size 576x432 with 1 Axes>"
            ]
          },
          "metadata": {
            "needs_background": "light"
          }
        }
      ],
      "source": [
        "x = df_jam_eda['dayTimeInterval'].value_counts()\n",
        "order = ['earlyMorning', 'Morning', 'Noon', 'AfterNoon', 'Night', 'MidNight']\n",
        "x = x[order]\n",
        "\n",
        "# plot\n",
        "plt.figure(figsize=(8,6))\n",
        "ax= sns.barplot(x.index, x.values, alpha=0.8)\n",
        "plt.title(\"Jam Condition Distribution\")\n",
        "plt.ylabel('Number of Data Points', fontsize=12)\n",
        "plt.xlabel('Time Interval', fontsize=12)\n",
        "\n",
        "# adding the text labels\n",
        "rects = ax.patches\n",
        "labels = x.values\n",
        "for rect, label in zip(rects, labels):\n",
        "    height = rect.get_height()\n",
        "    ax.text(rect.get_x() + rect.get_width()/2, height + 5, label, ha='center', va='bottom')\n",
        "\n",
        "plt.show()"
      ]
    },
    {
      "cell_type": "markdown",
      "metadata": {
        "id": "ATpgpRsagCJC"
      },
      "source": [
        "#### Hourly Jam Condition"
      ]
    },
    {
      "cell_type": "code",
      "execution_count": 74,
      "metadata": {
        "colab": {
          "base_uri": "https://localhost:8080/",
          "height": 397
        },
        "id": "waPfNCR6gCJC",
        "outputId": "f758c024-d8de-4014-e820-80971bbfb338"
      },
      "outputs": [
        {
          "output_type": "display_data",
          "data": {
            "image/png": "[encoded data removed]",
            "text/plain": [
              "<Figure size 1296x432 with 1 Axes>"
            ]
          },
          "metadata": {
            "needs_background": "light"
          }
        }
      ],
      "source": [
        "x = df_jam_eda['HourTime'].value_counts()\n",
        "x = x.sort_index()\n",
        "\n",
        "# plot\n",
        "plt.figure(figsize=(18,6))\n",
        "ax= sns.barplot(x.index, x.values, alpha=0.8)\n",
        "plt.title(\"Jam Condition Distribution\")\n",
        "plt.ylabel('Number of Data Points', fontsize=12)\n",
        "plt.xlabel('Hourly', fontsize=12)\n",
        "\n",
        "# adding the text labels\n",
        "rects = ax.patches\n",
        "labels = x.values\n",
        "for rect, label in zip(rects, labels):\n",
        "    height = rect.get_height()\n",
        "    ax.text(rect.get_x() + rect.get_width()/2, height + 5, label, ha='center', va='bottom')\n",
        "\n",
        "plt.show()\n",
        "\n",
        "# convert from UTC to local time "
      ]
    },
    {
      "cell_type": "code",
      "execution_count": 75,
      "metadata": {
        "id": "PCeRG5cYgCJD"
      },
      "outputs": [],
      "source": [
        "df_eda_jam4 = df_eda[df_eda['jamLevel'] == 4]"
      ]
    },
    {
      "cell_type": "code",
      "execution_count": 76,
      "metadata": {
        "colab": {
          "base_uri": "https://localhost:8080/",
          "height": 397
        },
        "id": "45OktIBTgCJD",
        "outputId": "ff029419-129b-4ab0-9455-1bda2040803b"
      },
      "outputs": [
        {
          "output_type": "display_data",
          "data": {
            "image/png": "[encoded data removed]",
            "text/plain": [
              "<Figure size 1296x432 with 1 Axes>"
            ]
          },
          "metadata": {
            "needs_background": "light"
          }
        }
      ],
      "source": [
        "x = df_eda_jam4['HourTime'].value_counts()\n",
        "x = x.sort_index()\n",
        "\n",
        "# plot\n",
        "plt.figure(figsize=(18,6))\n",
        "ax= sns.barplot(x.index, x.values, alpha=0.8)\n",
        "plt.title(\"Jam Condition Distribution\")\n",
        "plt.ylabel('Number of Data Points', fontsize=12)\n",
        "plt.xlabel('Hourly', fontsize=12)\n",
        "\n",
        "# adding the text labels\n",
        "rects = ax.patches\n",
        "labels = x.values\n",
        "for rect, label in zip(rects, labels):\n",
        "    height = rect.get_height()\n",
        "    ax.text(rect.get_x() + rect.get_width()/2, height + 5, label, ha='center', va='bottom')\n",
        "\n",
        "plt.show()"
      ]
    },
    {
      "cell_type": "markdown",
      "metadata": {
        "id": "jfQGoKxFatGn"
      },
      "source": [
        "#### WeekDay"
      ]
    },
    {
      "cell_type": "code",
      "execution_count": 77,
      "metadata": {
        "colab": {
          "base_uri": "https://localhost:8080/",
          "height": 407
        },
        "id": "cB9tj9utase3",
        "outputId": "a3d9bcad-1e12-4068-c746-2af53ff8bdc1"
      },
      "outputs": [
        {
          "output_type": "display_data",
          "data": {
            "image/png": "[encoded data removed]",
            "text/plain": [
              "<Figure size 576x432 with 1 Axes>"
            ]
          },
          "metadata": {
            "needs_background": "light"
          }
        }
      ],
      "source": [
        "x = df_jam_eda['weekDay'].value_counts()\n",
        "order = ['Monday', 'Tuesday', 'Wednesday', 'Thursday', 'Friday', 'Saturday', 'Sunday']\n",
        "x = x[order]\n",
        "# print(type(x))\n",
        "\n",
        "# plot\n",
        "plt.figure(figsize=(8,6))\n",
        "ax= sns.barplot(x.index, x.values, alpha=0.8)\n",
        "plt.title(\"Jam Condition Distribution\")\n",
        "plt.ylabel('Number of Data Points', fontsize=12)\n",
        "plt.xlabel('weekDay', fontsize=12)\n",
        "\n",
        "# adding the text labels\n",
        "rects = ax.patches\n",
        "labels = x.values\n",
        "for rect, label in zip(rects, labels):\n",
        "    height = rect.get_height()\n",
        "    ax.text(rect.get_x() + rect.get_width()/2, height + 5, label, ha='center', va='bottom')\n",
        "\n",
        "plt.show()"
      ]
    },
    {
      "cell_type": "markdown",
      "metadata": {
        "id": "ehQMuPEWPqoS"
      },
      "source": [
        "#### Season"
      ]
    },
    {
      "cell_type": "code",
      "execution_count": 78,
      "metadata": {
        "colab": {
          "base_uri": "https://localhost:8080/"
        },
        "id": "onLjIBAGoFS_",
        "outputId": "6af47246-59d4-4eb1-e969-b942e0221a35"
      },
      "outputs": [
        {
          "output_type": "stream",
          "name": "stdout",
          "text": [
            "the time period from: 2019042206 to 2021102606\n"
          ]
        }
      ],
      "source": [
        "print('the time period from:', np.min(df_jam_eda['time']) ,'to', np.max(df_jam_eda['time']))\n",
        "df_jam_eda['time'] = df_jam_eda['time'].astype(int)\n",
        "## df_jam_eda"
      ]
    },
    {
      "cell_type": "code",
      "execution_count": 79,
      "metadata": {
        "id": "TRZPU0LKoaK6"
      },
      "outputs": [],
      "source": [
        "df_jam_eda_2019 = df_jam_eda[df_jam_eda['time'] < 2020010100]\n",
        "df_jam_eda_2020 = df_jam_eda[df_jam_eda['time'] > 2020010100]\n",
        "df_jam_eda_2020 = df_jam_eda_2020[df_jam_eda_2020['time'] < 2021010100]\n",
        "df_jam_eda_2021 = df_jam_eda[df_jam_eda['time'] > 2021010100]"
      ]
    },
    {
      "cell_type": "code",
      "execution_count": 80,
      "metadata": {
        "colab": {
          "base_uri": "https://localhost:8080/"
        },
        "id": "xVVMFjrPpQIB",
        "outputId": "18394627-e812-40d7-859c-8c9a7b27f754"
      },
      "outputs": [
        {
          "output_type": "stream",
          "name": "stdout",
          "text": [
            "the time period for df_jam_eda_2019 from: 2019042206 to 2019122917\n",
            "the time period for df_jam_eda_2020 from: 2020010214 to 2020123017\n",
            "the time period for df_jam_eda_2021 from: 2021010208 to 2021102606\n"
          ]
        }
      ],
      "source": [
        "print('the time period for df_jam_eda_2019 from:', np.min(df_jam_eda_2019['time']) ,'to', np.max(df_jam_eda_2019['time']))\n",
        "print('the time period for df_jam_eda_2020 from:', np.min(df_jam_eda_2020['time']) ,'to', np.max(df_jam_eda_2020['time']))\n",
        "print('the time period for df_jam_eda_2021 from:', np.min(df_jam_eda_2021['time']) ,'to', np.max(df_jam_eda_2021['time']))"
      ]
    },
    {
      "cell_type": "code",
      "execution_count": 81,
      "metadata": {
        "colab": {
          "base_uri": "https://localhost:8080/",
          "height": 1000
        },
        "id": "s-JWKJ3KbGmp",
        "outputId": "7c9b2ecc-d501-4496-e3de-968346384cf3"
      },
      "outputs": [
        {
          "output_type": "display_data",
          "data": {
            "image/png": "[encoded data removed]",
            "text/plain": [
              "<Figure size 576x432 with 1 Axes>"
            ]
          },
          "metadata": {
            "needs_background": "light"
          }
        },
        {
          "output_type": "display_data",
          "data": {
            "image/png": "[encoded data removed]",
            "text/plain": [
              "<Figure size 576x432 with 1 Axes>"
            ]
          },
          "metadata": {
            "needs_background": "light"
          }
        },
        {
          "output_type": "display_data",
          "data": {
            "image/png": "[encoded data removed]",
            "text/plain": [
              "<Figure size 576x432 with 1 Axes>"
            ]
          },
          "metadata": {
            "needs_background": "light"
          }
        },
        {
          "output_type": "display_data",
          "data": {
            "image/png": "[encoded data removed]",
            "text/plain": [
              "<Figure size 576x432 with 1 Axes>"
            ]
          },
          "metadata": {
            "needs_background": "light"
          }
        }
      ],
      "source": [
        "# year - 2019\n",
        "\n",
        "x = df_jam_eda_2019['season'].value_counts()\n",
        "order = ['spring', 'summer', 'fall', 'winter']\n",
        "x = x[order]\n",
        "\n",
        "# plot\n",
        "plt.figure(figsize=(8,6))\n",
        "ax= sns.barplot(x.index, x.values, alpha=0.8)\n",
        "plt.title(\"Jam Condition Distribution - year 2019\")\n",
        "plt.ylabel('Number of Data Points', fontsize=12)\n",
        "plt.xlabel('weekDay', fontsize=12)\n",
        "\n",
        "# adding the text labels\n",
        "rects = ax.patches\n",
        "labels = x.values\n",
        "for rect, label in zip(rects, labels):\n",
        "    height = rect.get_height()\n",
        "    ax.text(rect.get_x() + rect.get_width()/2, height + 5, label, ha='center', va='bottom')\n",
        "\n",
        "plt.show()\n",
        "\n",
        "# year - 2020\n",
        "\n",
        "x = df_jam_eda_2020['season'].value_counts()\n",
        "order = ['spring', 'summer', 'fall', 'winter']\n",
        "x = x[order]\n",
        "\n",
        "# plot\n",
        "plt.figure(figsize=(8,6))\n",
        "ax= sns.barplot(x.index, x.values, alpha=0.8)\n",
        "plt.title(\"Jam Condition Distribution - year 2020\")\n",
        "plt.ylabel('Number of Data Points', fontsize=12)\n",
        "plt.xlabel('weekDay', fontsize=12)\n",
        "\n",
        "# adding the text labels\n",
        "rects = ax.patches\n",
        "labels = x.values\n",
        "for rect, label in zip(rects, labels):\n",
        "    height = rect.get_height()\n",
        "    ax.text(rect.get_x() + rect.get_width()/2, height + 5, label, ha='center', va='bottom')\n",
        "\n",
        "plt.show()\n",
        "\n",
        "# year - 2021\n",
        "\n",
        "x = df_jam_eda_2021['season'].value_counts()\n",
        "order = ['spring', 'summer', 'fall', 'winter']\n",
        "x = x[order]\n",
        "\n",
        "# plot\n",
        "plt.figure(figsize=(8,6))\n",
        "ax= sns.barplot(x.index, x.values, alpha=0.8)\n",
        "plt.title(\"Jam Condition Distribution - year 2021\")\n",
        "plt.ylabel('Number of Data Points', fontsize=12)\n",
        "plt.xlabel('weekDay', fontsize=12)\n",
        "\n",
        "# adding the text labels\n",
        "rects = ax.patches\n",
        "labels = x.values\n",
        "for rect, label in zip(rects, labels):\n",
        "    height = rect.get_height()\n",
        "    ax.text(rect.get_x() + rect.get_width()/2, height + 5, label, ha='center', va='bottom')\n",
        "\n",
        "plt.show()\n",
        "\n",
        "# year - total\n",
        "\n",
        "x = df_jam_eda['season'].value_counts()\n",
        "order = ['spring', 'summer', 'fall', 'winter']\n",
        "x = x[order]\n",
        "\n",
        "# plot\n",
        "plt.figure(figsize=(8,6))\n",
        "ax= sns.barplot(x.index, x.values, alpha=0.8)\n",
        "plt.title(\"Jam Condition Distribution - 3 years\")\n",
        "plt.ylabel('Number of Data Points', fontsize=12)\n",
        "plt.xlabel('weekDay', fontsize=12)\n",
        "\n",
        "# adding the text labels\n",
        "rects = ax.patches\n",
        "labels = x.values\n",
        "for rect, label in zip(rects, labels):\n",
        "    height = rect.get_height()\n",
        "    ax.text(rect.get_x() + rect.get_width()/2, height + 5, label, ha='center', va='bottom')\n",
        "\n",
        "plt.show()"
      ]
    },
    {
      "cell_type": "markdown",
      "metadata": {
        "id": "W6lfrq3J8IXR"
      },
      "source": [
        "### Regular Speed - Jam Level"
      ]
    },
    {
      "cell_type": "code",
      "execution_count": 82,
      "metadata": {
        "colab": {
          "base_uri": "https://localhost:8080/"
        },
        "id": "zqMKBM4l9TNw",
        "outputId": "f97c6a90-b78a-4b23-c816-6021bb8a30c5"
      },
      "outputs": [
        {
          "output_type": "execute_result",
          "data": {
            "text/plain": [
              "jamLevel\n",
              "0     56.332281\n",
              "1    114.662057\n",
              "2    105.264721\n",
              "3     96.666983\n",
              "4     97.117076\n",
              "Name: regularSpeed, dtype: float64"
            ]
          },
          "metadata": {},
          "execution_count": 82
        }
      ],
      "source": [
        "df_eda.groupby('jamLevel')['regularSpeed'].mean()"
      ]
    },
    {
      "cell_type": "code",
      "execution_count": 83,
      "metadata": {
        "colab": {
          "base_uri": "https://localhost:8080/",
          "height": 282
        },
        "id": "OJKd2oOOE1YJ",
        "outputId": "7a0f75d9-1a57-4a90-9171-39a4bddb2389"
      },
      "outputs": [
        {
          "output_type": "execute_result",
          "data": {
            "text/plain": [
              "[<matplotlib.lines.Line2D at 0x7f5a7b488890>]"
            ]
          },
          "metadata": {},
          "execution_count": 83
        },
        {
          "output_type": "display_data",
          "data": {
            "image/png": "[encoded data removed]",
            "text/plain": [
              "<Figure size 432x288 with 1 Axes>"
            ]
          },
          "metadata": {
            "needs_background": "light"
          }
        }
      ],
      "source": [
        "x = df_eda.groupby('jamLevel')['regularSpeed'].mean()\n",
        "y = [0, 1, 2, 3, 4]\n",
        "\n",
        "plt.plot(x, y)"
      ]
    },
    {
      "cell_type": "markdown",
      "metadata": {
        "id": "SAG55we0MaS1"
      },
      "source": [
        "### Correlation: Weather - Jam Level"
      ]
    },
    {
      "cell_type": "code",
      "execution_count": 84,
      "metadata": {
        "id": "BGpswJHiO7lE"
      },
      "outputs": [],
      "source": [
        "data_jamDummy = pd.get_dummies(df_eda[\"jamLevel\"])\n",
        "df_eda_jamDummy  = df_eda.join(data_jamDummy)"
      ]
    },
    {
      "cell_type": "code",
      "execution_count": 85,
      "metadata": {
        "colab": {
          "base_uri": "https://localhost:8080/",
          "height": 313
        },
        "id": "Qi2RlWbDPODL",
        "outputId": "833f0609-af39-4a37-daaa-0800c25b26e2"
      },
      "outputs": [
        {
          "output_type": "execute_result",
          "data": {
            "text/html": [
              "<div>\n",
              "<style scoped>\n",
              "    .dataframe tbody tr th:only-of-type {\n",
              "        vertical-align: middle;\n",
              "    }\n",
              "\n",
              "    .dataframe tbody tr th {\n",
              "        vertical-align: top;\n",
              "    }\n",
              "\n",
              "    .dataframe thead th {\n",
              "        text-align: right;\n",
              "    }\n",
              "</style>\n",
              "<table border=\"1\" class=\"dataframe\">\n",
              "  <thead>\n",
              "    <tr style=\"text-align: right;\">\n",
              "      <th></th>\n",
              "      <th>street</th>\n",
              "      <th>regularSpeed</th>\n",
              "      <th>time</th>\n",
              "      <th>jamLevel</th>\n",
              "      <th>temp</th>\n",
              "      <th>feels_like</th>\n",
              "      <th>temp_min</th>\n",
              "      <th>temp_max</th>\n",
              "      <th>pressure</th>\n",
              "      <th>humidity</th>\n",
              "      <th>wind_speed</th>\n",
              "      <th>wind_deg</th>\n",
              "      <th>clouds_all</th>\n",
              "      <th>weather_id</th>\n",
              "      <th>weather_main</th>\n",
              "      <th>weather_description</th>\n",
              "      <th>weather_icon</th>\n",
              "      <th>dayTimeInterval</th>\n",
              "      <th>HourTime</th>\n",
              "      <th>season</th>\n",
              "      <th>weekDay</th>\n",
              "      <th>NextJamLevel</th>\n",
              "      <th>0</th>\n",
              "      <th>1</th>\n",
              "      <th>2</th>\n",
              "      <th>3</th>\n",
              "      <th>4</th>\n",
              "    </tr>\n",
              "  </thead>\n",
              "  <tbody>\n",
              "    <tr>\n",
              "      <th>0</th>\n",
              "      <td>to SH-115 N</td>\n",
              "      <td>66.92</td>\n",
              "      <td>2019010101</td>\n",
              "      <td>0</td>\n",
              "      <td>258.3</td>\n",
              "      <td>258.3</td>\n",
              "      <td>256.38</td>\n",
              "      <td>260.33</td>\n",
              "      <td>1022.0</td>\n",
              "      <td>73.0</td>\n",
              "      <td>0.89</td>\n",
              "      <td>43.0</td>\n",
              "      <td>90.0</td>\n",
              "      <td>804.0</td>\n",
              "      <td>Clouds</td>\n",
              "      <td>overcast clouds</td>\n",
              "      <td>04n</td>\n",
              "      <td>MidNight</td>\n",
              "      <td>1</td>\n",
              "      <td>winter</td>\n",
              "      <td>Tuesday</td>\n",
              "      <td>0</td>\n",
              "      <td>1</td>\n",
              "      <td>0</td>\n",
              "      <td>0</td>\n",
              "      <td>0</td>\n",
              "      <td>0</td>\n",
              "    </tr>\n",
              "    <tr>\n",
              "      <th>0</th>\n",
              "      <td>to SH-115 N</td>\n",
              "      <td>66.92</td>\n",
              "      <td>2019010101</td>\n",
              "      <td>0</td>\n",
              "      <td>258.3</td>\n",
              "      <td>258.3</td>\n",
              "      <td>256.38</td>\n",
              "      <td>260.33</td>\n",
              "      <td>1022.0</td>\n",
              "      <td>73.0</td>\n",
              "      <td>0.89</td>\n",
              "      <td>43.0</td>\n",
              "      <td>90.0</td>\n",
              "      <td>804.0</td>\n",
              "      <td>Clouds</td>\n",
              "      <td>overcast clouds</td>\n",
              "      <td>04n</td>\n",
              "      <td>MidNight</td>\n",
              "      <td>1</td>\n",
              "      <td>winter</td>\n",
              "      <td>Tuesday</td>\n",
              "      <td>0</td>\n",
              "      <td>1</td>\n",
              "      <td>0</td>\n",
              "      <td>0</td>\n",
              "      <td>0</td>\n",
              "      <td>0</td>\n",
              "    </tr>\n",
              "    <tr>\n",
              "      <th>0</th>\n",
              "      <td>to SH-115 N</td>\n",
              "      <td>66.92</td>\n",
              "      <td>2019010101</td>\n",
              "      <td>0</td>\n",
              "      <td>258.3</td>\n",
              "      <td>258.3</td>\n",
              "      <td>256.38</td>\n",
              "      <td>260.33</td>\n",
              "      <td>1022.0</td>\n",
              "      <td>73.0</td>\n",
              "      <td>0.89</td>\n",
              "      <td>43.0</td>\n",
              "      <td>90.0</td>\n",
              "      <td>804.0</td>\n",
              "      <td>Clouds</td>\n",
              "      <td>overcast clouds</td>\n",
              "      <td>04n</td>\n",
              "      <td>MidNight</td>\n",
              "      <td>1</td>\n",
              "      <td>winter</td>\n",
              "      <td>Tuesday</td>\n",
              "      <td>0</td>\n",
              "      <td>1</td>\n",
              "      <td>0</td>\n",
              "      <td>0</td>\n",
              "      <td>0</td>\n",
              "      <td>0</td>\n",
              "    </tr>\n",
              "    <tr>\n",
              "      <th>0</th>\n",
              "      <td>to SH-115 N</td>\n",
              "      <td>66.92</td>\n",
              "      <td>2019010101</td>\n",
              "      <td>0</td>\n",
              "      <td>258.3</td>\n",
              "      <td>258.3</td>\n",
              "      <td>256.38</td>\n",
              "      <td>260.33</td>\n",
              "      <td>1022.0</td>\n",
              "      <td>73.0</td>\n",
              "      <td>0.89</td>\n",
              "      <td>43.0</td>\n",
              "      <td>90.0</td>\n",
              "      <td>804.0</td>\n",
              "      <td>Clouds</td>\n",
              "      <td>overcast clouds</td>\n",
              "      <td>04n</td>\n",
              "      <td>MidNight</td>\n",
              "      <td>1</td>\n",
              "      <td>winter</td>\n",
              "      <td>Tuesday</td>\n",
              "      <td>0</td>\n",
              "      <td>1</td>\n",
              "      <td>0</td>\n",
              "      <td>0</td>\n",
              "      <td>0</td>\n",
              "      <td>0</td>\n",
              "    </tr>\n",
              "    <tr>\n",
              "      <th>0</th>\n",
              "      <td>to SH-115 N</td>\n",
              "      <td>66.92</td>\n",
              "      <td>2019010101</td>\n",
              "      <td>0</td>\n",
              "      <td>258.3</td>\n",
              "      <td>258.3</td>\n",
              "      <td>256.38</td>\n",
              "      <td>260.33</td>\n",
              "      <td>1022.0</td>\n",
              "      <td>73.0</td>\n",
              "      <td>0.89</td>\n",
              "      <td>43.0</td>\n",
              "      <td>90.0</td>\n",
              "      <td>804.0</td>\n",
              "      <td>Clouds</td>\n",
              "      <td>overcast clouds</td>\n",
              "      <td>04n</td>\n",
              "      <td>MidNight</td>\n",
              "      <td>1</td>\n",
              "      <td>winter</td>\n",
              "      <td>Tuesday</td>\n",
              "      <td>0</td>\n",
              "      <td>1</td>\n",
              "      <td>0</td>\n",
              "      <td>0</td>\n",
              "      <td>0</td>\n",
              "      <td>0</td>\n",
              "    </tr>\n",
              "  </tbody>\n",
              "</table>\n",
              "</div>"
            ],
            "text/plain": [
              "        street  regularSpeed        time  jamLevel   temp  ...  0  1  2  3  4\n",
              "0  to SH-115 N         66.92  2019010101         0  258.3  ...  1  0  0  0  0\n",
              "0  to SH-115 N         66.92  2019010101         0  258.3  ...  1  0  0  0  0\n",
              "0  to SH-115 N         66.92  2019010101         0  258.3  ...  1  0  0  0  0\n",
              "0  to SH-115 N         66.92  2019010101         0  258.3  ...  1  0  0  0  0\n",
              "0  to SH-115 N         66.92  2019010101         0  258.3  ...  1  0  0  0  0\n",
              "\n",
              "[5 rows x 27 columns]"
            ]
          },
          "metadata": {},
          "execution_count": 85
        }
      ],
      "source": [
        "df_eda_jamDummy.head(5)"
      ]
    },
    {
      "cell_type": "code",
      "execution_count": 86,
      "metadata": {
        "id": "2u3xKvF8VrSN"
      },
      "outputs": [],
      "source": [
        "### weather_combination \n",
        "rain_lst = ['Drizzle', 'Rain', 'Thunderstorm']\n",
        "fog_lst = ['Fog', 'Haze', 'Mist', 'Smoke']\n",
        "\n",
        "def weather_com(weather_name):\n",
        "  if weather_name in rain_lst:\n",
        "    return 'Rain Condition'\n",
        "  elif weather_name in fog_lst:\n",
        "    return 'Fog Condition'\n",
        "  else:\n",
        "    return weather_name"
      ]
    },
    {
      "cell_type": "code",
      "execution_count": 87,
      "metadata": {
        "id": "HZOVDoI9XdPC"
      },
      "outputs": [],
      "source": [
        "df_eda_jamDummy['Weatcher_Combine'] = df_eda_jamDummy['weather_main'].apply(lambda x: weather_com(x))"
      ]
    },
    {
      "cell_type": "code",
      "execution_count": 88,
      "metadata": {
        "id": "wFdyfzdvrXRA"
      },
      "outputs": [],
      "source": [
        "# df_eda_jamDummy\n",
        "def if_jam(x):\n",
        "  if x > 0:\n",
        "    return 1 \n",
        "  else:\n",
        "    return 0 "
      ]
    },
    {
      "cell_type": "code",
      "execution_count": 89,
      "metadata": {
        "id": "yKX4Owc5rmI3"
      },
      "outputs": [],
      "source": [
        "df_eda_jamDummy['ifJam'] = df_eda_jamDummy['jamLevel'].apply(lambda x: if_jam(x))"
      ]
    },
    {
      "cell_type": "code",
      "execution_count": 90,
      "metadata": {
        "id": "t7ywtcILPXgx"
      },
      "outputs": [],
      "source": [
        "# df_eda_jamDummy.columns.tolist()\n",
        "func = lambda x: 100*x.count()/df.shape[0]"
      ]
    },
    {
      "cell_type": "code",
      "execution_count": 91,
      "metadata": {
        "id": "cYGqAjPcxs3R"
      },
      "outputs": [],
      "source": [
        "df_eda_jamDummy.columns = [             'street',        'regularSpeed',                'time',\n",
        "                  'jamLevel',                'temp',          'feels_like',\n",
        "                  'temp_min',            'temp_max',            'pressure',\n",
        "                  'humidity',          'wind_speed',            'wind_deg',\n",
        "                'clouds_all',          'weather_id',        'weather_main',\n",
        "       'weather_description',        'weather_icon',     'dayTimeInterval',\n",
        "                  'HourTime',              'season',             'weekDay',\n",
        "              'NextJamLevel',                     'No_Jam',                     1,\n",
        "                           2,                     3,                     4,\n",
        "          'Weather',               'Traffic_Jam']"
      ]
    },
    {
      "cell_type": "code",
      "execution_count": 92,
      "metadata": {
        "colab": {
          "base_uri": "https://localhost:8080/",
          "height": 332
        },
        "id": "F5rgmpuuOd-r",
        "outputId": "df420583-5536-42a6-a2d2-dbfda0b99862"
      },
      "outputs": [
        {
          "output_type": "execute_result",
          "data": {
            "text/html": [
              "<div>\n",
              "<style scoped>\n",
              "    .dataframe tbody tr th:only-of-type {\n",
              "        vertical-align: middle;\n",
              "    }\n",
              "\n",
              "    .dataframe tbody tr th {\n",
              "        vertical-align: top;\n",
              "    }\n",
              "\n",
              "    .dataframe thead tr th {\n",
              "        text-align: left;\n",
              "    }\n",
              "\n",
              "    .dataframe thead tr:last-of-type th {\n",
              "        text-align: right;\n",
              "    }\n",
              "</style>\n",
              "<table border=\"1\" class=\"dataframe\">\n",
              "  <thead>\n",
              "    <tr>\n",
              "      <th></th>\n",
              "      <th colspan=\"2\" halign=\"left\">sum</th>\n",
              "    </tr>\n",
              "    <tr>\n",
              "      <th></th>\n",
              "      <th>No_Jam</th>\n",
              "      <th>Traffic_Jam</th>\n",
              "    </tr>\n",
              "    <tr>\n",
              "      <th>Weather</th>\n",
              "      <th></th>\n",
              "      <th></th>\n",
              "    </tr>\n",
              "  </thead>\n",
              "  <tbody>\n",
              "    <tr>\n",
              "      <th>Clear</th>\n",
              "      <td>5960175.0</td>\n",
              "      <td>215658</td>\n",
              "    </tr>\n",
              "    <tr>\n",
              "      <th>Clouds</th>\n",
              "      <td>7275125.0</td>\n",
              "      <td>219665</td>\n",
              "    </tr>\n",
              "    <tr>\n",
              "      <th>Dust</th>\n",
              "      <td>1538.0</td>\n",
              "      <td>0</td>\n",
              "    </tr>\n",
              "    <tr>\n",
              "      <th>Fog Condition</th>\n",
              "      <td>1214536.0</td>\n",
              "      <td>114346</td>\n",
              "    </tr>\n",
              "    <tr>\n",
              "      <th>Rain Condition</th>\n",
              "      <td>1955064.0</td>\n",
              "      <td>149700</td>\n",
              "    </tr>\n",
              "    <tr>\n",
              "      <th>Snow</th>\n",
              "      <td>1273966.0</td>\n",
              "      <td>240850</td>\n",
              "    </tr>\n",
              "    <tr>\n",
              "      <th>Squall</th>\n",
              "      <td>15540.0</td>\n",
              "      <td>1395</td>\n",
              "    </tr>\n",
              "  </tbody>\n",
              "</table>\n",
              "</div>"
            ],
            "text/plain": [
              "                      sum            \n",
              "                   No_Jam Traffic_Jam\n",
              "Weather                              \n",
              "Clear           5960175.0      215658\n",
              "Clouds          7275125.0      219665\n",
              "Dust               1538.0           0\n",
              "Fog Condition   1214536.0      114346\n",
              "Rain Condition  1955064.0      149700\n",
              "Snow            1273966.0      240850\n",
              "Squall            15540.0        1395"
            ]
          },
          "metadata": {},
          "execution_count": 92
        }
      ],
      "source": [
        "pd.pivot_table(df_eda_jamDummy,index=['Weather'], values=['No_Jam', 'Traffic_Jam'], aggfunc= ['sum'])"
      ]
    },
    {
      "cell_type": "code",
      "execution_count": 93,
      "metadata": {
        "id": "WeLyynfMfoxH"
      },
      "outputs": [],
      "source": [
        "df_pivot_weather = pd.pivot_table(df_eda_jamDummy,index=['Weather'], values=['No_Jam', 'Traffic_Jam'], aggfunc= ['sum'])\n",
        "df_pivot_weather.columns = df_pivot_weather.columns.droplevel(0)\n",
        "df_pivot_weather = df_pivot_weather.reset_index()"
      ]
    },
    {
      "cell_type": "code",
      "execution_count": 94,
      "metadata": {
        "id": "X8eKZ9ARgwGO"
      },
      "outputs": [],
      "source": [
        "df_pivot_weather.set_index([\"Weather\"], inplace=True)\n",
        "# df_pivot_weather"
      ]
    },
    {
      "cell_type": "code",
      "execution_count": 95,
      "metadata": {
        "id": "SSeVaZebhSoW"
      },
      "outputs": [],
      "source": [
        "df_pivot_weather = df_pivot_weather.div(df_pivot_weather.sum(axis=1), axis=0)\n",
        "df_pivot_weather = df_pivot_weather.sort_values(by = 'Traffic_Jam', ascending = False)"
      ]
    },
    {
      "cell_type": "code",
      "execution_count": 96,
      "metadata": {
        "id": "JXGmkRYciPWJ"
      },
      "outputs": [],
      "source": [
        "data = df_pivot_weather.copy()\n",
        "data['No_Jam'] = data['No_Jam'].apply(lambda x: '%.0f%%' % (x*100))\n",
        "data['Traffic_Jam'] = data['Traffic_Jam'].apply(lambda x: '%.0f%%' % (x*100))                                                  "
      ]
    },
    {
      "cell_type": "code",
      "execution_count": 97,
      "metadata": {
        "colab": {
          "base_uri": "https://localhost:8080/",
          "height": 300
        },
        "id": "YCixQ3oEYsSS",
        "outputId": "089c0b59-0df4-4e4a-b37b-cc56949c7889"
      },
      "outputs": [
        {
          "output_type": "execute_result",
          "data": {
            "text/html": [
              "<div>\n",
              "<style scoped>\n",
              "    .dataframe tbody tr th:only-of-type {\n",
              "        vertical-align: middle;\n",
              "    }\n",
              "\n",
              "    .dataframe tbody tr th {\n",
              "        vertical-align: top;\n",
              "    }\n",
              "\n",
              "    .dataframe thead th {\n",
              "        text-align: right;\n",
              "    }\n",
              "</style>\n",
              "<table border=\"1\" class=\"dataframe\">\n",
              "  <thead>\n",
              "    <tr style=\"text-align: right;\">\n",
              "      <th></th>\n",
              "      <th>No_Jam</th>\n",
              "      <th>Traffic_Jam</th>\n",
              "    </tr>\n",
              "    <tr>\n",
              "      <th>Weather</th>\n",
              "      <th></th>\n",
              "      <th></th>\n",
              "    </tr>\n",
              "  </thead>\n",
              "  <tbody>\n",
              "    <tr>\n",
              "      <th>Snow</th>\n",
              "      <td>84%</td>\n",
              "      <td>16%</td>\n",
              "    </tr>\n",
              "    <tr>\n",
              "      <th>Fog Condition</th>\n",
              "      <td>91%</td>\n",
              "      <td>9%</td>\n",
              "    </tr>\n",
              "    <tr>\n",
              "      <th>Squall</th>\n",
              "      <td>92%</td>\n",
              "      <td>8%</td>\n",
              "    </tr>\n",
              "    <tr>\n",
              "      <th>Rain Condition</th>\n",
              "      <td>93%</td>\n",
              "      <td>7%</td>\n",
              "    </tr>\n",
              "    <tr>\n",
              "      <th>Clear</th>\n",
              "      <td>97%</td>\n",
              "      <td>3%</td>\n",
              "    </tr>\n",
              "    <tr>\n",
              "      <th>Clouds</th>\n",
              "      <td>97%</td>\n",
              "      <td>3%</td>\n",
              "    </tr>\n",
              "    <tr>\n",
              "      <th>Dust</th>\n",
              "      <td>100%</td>\n",
              "      <td>0%</td>\n",
              "    </tr>\n",
              "  </tbody>\n",
              "</table>\n",
              "</div>"
            ],
            "text/plain": [
              "               No_Jam Traffic_Jam\n",
              "Weather                          \n",
              "Snow              84%         16%\n",
              "Fog Condition     91%          9%\n",
              "Squall            92%          8%\n",
              "Rain Condition    93%          7%\n",
              "Clear             97%          3%\n",
              "Clouds            97%          3%\n",
              "Dust             100%          0%"
            ]
          },
          "metadata": {},
          "execution_count": 97
        }
      ],
      "source": [
        "data"
      ]
    },
    {
      "cell_type": "code",
      "execution_count": 98,
      "metadata": {
        "colab": {
          "base_uri": "https://localhost:8080/",
          "height": 407
        },
        "id": "Ggae5IruvtyM",
        "outputId": "9b0354b9-1a9e-47fd-bc10-95b752222135"
      },
      "outputs": [
        {
          "output_type": "display_data",
          "data": {
            "image/png": "[encoded data removed]",
            "text/plain": [
              "<Figure size 1008x432 with 1 Axes>"
            ]
          },
          "metadata": {
            "needs_background": "light"
          }
        }
      ],
      "source": [
        "x = df_eda['weather_main'].value_counts()\n",
        "x = x.sort_index()\n",
        "\n",
        "# plot\n",
        "plt.figure(figsize=(14,6))\n",
        "ax= sns.barplot(x.index, x.values, alpha=0.8)\n",
        "plt.title(\"Jam Condition Distribution\")\n",
        "plt.ylabel('Number of Data Points', fontsize=12)\n",
        "plt.xlabel('Weather Condition', fontsize=12)\n",
        "\n",
        "# adding the text labels\n",
        "rects = ax.patches\n",
        "labels = x.values\n",
        "for rect, label in zip(rects, labels):\n",
        "    height = rect.get_height()\n",
        "    ax.text(rect.get_x() + rect.get_width()/2, height + 5, label, ha='center', va='bottom')\n",
        "\n",
        "plt.show()"
      ]
    },
    {
      "cell_type": "markdown",
      "metadata": {
        "id": "O7z9cvovQ5z3"
      },
      "source": [
        "## HeatMap"
      ]
    },
    {
      "cell_type": "code",
      "execution_count": 99,
      "metadata": {
        "id": "b0i_oBJooTTD"
      },
      "outputs": [],
      "source": [
        "table = pd.pivot_table(df_jam_eda,index=['HourTime'],columns=['weekDay'],values=['jamLevel'],aggfunc=['count'],fill_value=0)"
      ]
    },
    {
      "cell_type": "code",
      "execution_count": 100,
      "metadata": {
        "id": "nhX-N-c_xCtj"
      },
      "outputs": [],
      "source": [
        "table.columns = ['Friday', 'Monday', 'Saturday', 'Sunday', 'Thursday', 'Tuesday', 'Wednesday']\n",
        "order = ['Monday', 'Tuesday', 'Wednesday', 'Thursday', 'Friday', 'Saturday', 'Sunday']\n",
        "table = table[order]"
      ]
    },
    {
      "cell_type": "code",
      "execution_count": 101,
      "metadata": {
        "colab": {
          "base_uri": "https://localhost:8080/",
          "height": 833
        },
        "id": "CFzDPkbCvNCo",
        "outputId": "ae1e6966-bf9e-45a7-8089-b47f40d08669"
      },
      "outputs": [
        {
          "output_type": "execute_result",
          "data": {
            "text/html": [
              "<div>\n",
              "<style scoped>\n",
              "    .dataframe tbody tr th:only-of-type {\n",
              "        vertical-align: middle;\n",
              "    }\n",
              "\n",
              "    .dataframe tbody tr th {\n",
              "        vertical-align: top;\n",
              "    }\n",
              "\n",
              "    .dataframe thead th {\n",
              "        text-align: right;\n",
              "    }\n",
              "</style>\n",
              "<table border=\"1\" class=\"dataframe\">\n",
              "  <thead>\n",
              "    <tr style=\"text-align: right;\">\n",
              "      <th></th>\n",
              "      <th>Monday</th>\n",
              "      <th>Tuesday</th>\n",
              "      <th>Wednesday</th>\n",
              "      <th>Thursday</th>\n",
              "      <th>Friday</th>\n",
              "      <th>Saturday</th>\n",
              "      <th>Sunday</th>\n",
              "    </tr>\n",
              "    <tr>\n",
              "      <th>HourTime</th>\n",
              "      <th></th>\n",
              "      <th></th>\n",
              "      <th></th>\n",
              "      <th></th>\n",
              "      <th></th>\n",
              "      <th></th>\n",
              "      <th></th>\n",
              "    </tr>\n",
              "  </thead>\n",
              "  <tbody>\n",
              "    <tr>\n",
              "      <th>0</th>\n",
              "      <td>170</td>\n",
              "      <td>292</td>\n",
              "      <td>22</td>\n",
              "      <td>59</td>\n",
              "      <td>161</td>\n",
              "      <td>20</td>\n",
              "      <td>0</td>\n",
              "    </tr>\n",
              "    <tr>\n",
              "      <th>1</th>\n",
              "      <td>231</td>\n",
              "      <td>146</td>\n",
              "      <td>5</td>\n",
              "      <td>28</td>\n",
              "      <td>136</td>\n",
              "      <td>8</td>\n",
              "      <td>70</td>\n",
              "    </tr>\n",
              "    <tr>\n",
              "      <th>2</th>\n",
              "      <td>183</td>\n",
              "      <td>116</td>\n",
              "      <td>15</td>\n",
              "      <td>15</td>\n",
              "      <td>115</td>\n",
              "      <td>0</td>\n",
              "      <td>20</td>\n",
              "    </tr>\n",
              "    <tr>\n",
              "      <th>3</th>\n",
              "      <td>155</td>\n",
              "      <td>110</td>\n",
              "      <td>12</td>\n",
              "      <td>0</td>\n",
              "      <td>246</td>\n",
              "      <td>4</td>\n",
              "      <td>138</td>\n",
              "    </tr>\n",
              "    <tr>\n",
              "      <th>4</th>\n",
              "      <td>270</td>\n",
              "      <td>260</td>\n",
              "      <td>66</td>\n",
              "      <td>199</td>\n",
              "      <td>168</td>\n",
              "      <td>3</td>\n",
              "      <td>58</td>\n",
              "    </tr>\n",
              "    <tr>\n",
              "      <th>5</th>\n",
              "      <td>546</td>\n",
              "      <td>607</td>\n",
              "      <td>159</td>\n",
              "      <td>152</td>\n",
              "      <td>435</td>\n",
              "      <td>13</td>\n",
              "      <td>112</td>\n",
              "    </tr>\n",
              "    <tr>\n",
              "      <th>6</th>\n",
              "      <td>964</td>\n",
              "      <td>793</td>\n",
              "      <td>600</td>\n",
              "      <td>453</td>\n",
              "      <td>673</td>\n",
              "      <td>12</td>\n",
              "      <td>66</td>\n",
              "    </tr>\n",
              "    <tr>\n",
              "      <th>7</th>\n",
              "      <td>584</td>\n",
              "      <td>627</td>\n",
              "      <td>372</td>\n",
              "      <td>316</td>\n",
              "      <td>655</td>\n",
              "      <td>13</td>\n",
              "      <td>96</td>\n",
              "    </tr>\n",
              "    <tr>\n",
              "      <th>8</th>\n",
              "      <td>430</td>\n",
              "      <td>422</td>\n",
              "      <td>735</td>\n",
              "      <td>286</td>\n",
              "      <td>436</td>\n",
              "      <td>302</td>\n",
              "      <td>147</td>\n",
              "    </tr>\n",
              "    <tr>\n",
              "      <th>9</th>\n",
              "      <td>693</td>\n",
              "      <td>264</td>\n",
              "      <td>120</td>\n",
              "      <td>261</td>\n",
              "      <td>480</td>\n",
              "      <td>110</td>\n",
              "      <td>136</td>\n",
              "    </tr>\n",
              "    <tr>\n",
              "      <th>10</th>\n",
              "      <td>331</td>\n",
              "      <td>262</td>\n",
              "      <td>111</td>\n",
              "      <td>262</td>\n",
              "      <td>562</td>\n",
              "      <td>294</td>\n",
              "      <td>213</td>\n",
              "    </tr>\n",
              "    <tr>\n",
              "      <th>11</th>\n",
              "      <td>506</td>\n",
              "      <td>297</td>\n",
              "      <td>396</td>\n",
              "      <td>298</td>\n",
              "      <td>550</td>\n",
              "      <td>498</td>\n",
              "      <td>175</td>\n",
              "    </tr>\n",
              "    <tr>\n",
              "      <th>12</th>\n",
              "      <td>233</td>\n",
              "      <td>436</td>\n",
              "      <td>37</td>\n",
              "      <td>707</td>\n",
              "      <td>1157</td>\n",
              "      <td>500</td>\n",
              "      <td>231</td>\n",
              "    </tr>\n",
              "    <tr>\n",
              "      <th>13</th>\n",
              "      <td>180</td>\n",
              "      <td>172</td>\n",
              "      <td>584</td>\n",
              "      <td>504</td>\n",
              "      <td>1448</td>\n",
              "      <td>387</td>\n",
              "      <td>656</td>\n",
              "    </tr>\n",
              "    <tr>\n",
              "      <th>14</th>\n",
              "      <td>474</td>\n",
              "      <td>713</td>\n",
              "      <td>1110</td>\n",
              "      <td>1042</td>\n",
              "      <td>967</td>\n",
              "      <td>456</td>\n",
              "      <td>277</td>\n",
              "    </tr>\n",
              "    <tr>\n",
              "      <th>15</th>\n",
              "      <td>681</td>\n",
              "      <td>768</td>\n",
              "      <td>1399</td>\n",
              "      <td>1063</td>\n",
              "      <td>1241</td>\n",
              "      <td>288</td>\n",
              "      <td>206</td>\n",
              "    </tr>\n",
              "    <tr>\n",
              "      <th>16</th>\n",
              "      <td>1417</td>\n",
              "      <td>953</td>\n",
              "      <td>715</td>\n",
              "      <td>784</td>\n",
              "      <td>764</td>\n",
              "      <td>487</td>\n",
              "      <td>313</td>\n",
              "    </tr>\n",
              "    <tr>\n",
              "      <th>17</th>\n",
              "      <td>523</td>\n",
              "      <td>694</td>\n",
              "      <td>554</td>\n",
              "      <td>573</td>\n",
              "      <td>253</td>\n",
              "      <td>641</td>\n",
              "      <td>330</td>\n",
              "    </tr>\n",
              "    <tr>\n",
              "      <th>18</th>\n",
              "      <td>455</td>\n",
              "      <td>264</td>\n",
              "      <td>209</td>\n",
              "      <td>285</td>\n",
              "      <td>150</td>\n",
              "      <td>284</td>\n",
              "      <td>253</td>\n",
              "    </tr>\n",
              "    <tr>\n",
              "      <th>19</th>\n",
              "      <td>794</td>\n",
              "      <td>172</td>\n",
              "      <td>77</td>\n",
              "      <td>279</td>\n",
              "      <td>261</td>\n",
              "      <td>643</td>\n",
              "      <td>328</td>\n",
              "    </tr>\n",
              "    <tr>\n",
              "      <th>20</th>\n",
              "      <td>430</td>\n",
              "      <td>82</td>\n",
              "      <td>43</td>\n",
              "      <td>137</td>\n",
              "      <td>78</td>\n",
              "      <td>202</td>\n",
              "      <td>328</td>\n",
              "    </tr>\n",
              "    <tr>\n",
              "      <th>21</th>\n",
              "      <td>504</td>\n",
              "      <td>31</td>\n",
              "      <td>94</td>\n",
              "      <td>339</td>\n",
              "      <td>96</td>\n",
              "      <td>262</td>\n",
              "      <td>305</td>\n",
              "    </tr>\n",
              "    <tr>\n",
              "      <th>22</th>\n",
              "      <td>444</td>\n",
              "      <td>46</td>\n",
              "      <td>139</td>\n",
              "      <td>265</td>\n",
              "      <td>7</td>\n",
              "      <td>132</td>\n",
              "      <td>149</td>\n",
              "    </tr>\n",
              "    <tr>\n",
              "      <th>23</th>\n",
              "      <td>278</td>\n",
              "      <td>18</td>\n",
              "      <td>63</td>\n",
              "      <td>214</td>\n",
              "      <td>4</td>\n",
              "      <td>204</td>\n",
              "      <td>306</td>\n",
              "    </tr>\n",
              "  </tbody>\n",
              "</table>\n",
              "</div>"
            ],
            "text/plain": [
              "          Monday  Tuesday  Wednesday  Thursday  Friday  Saturday  Sunday\n",
              "HourTime                                                                \n",
              "0            170      292         22        59     161        20       0\n",
              "1            231      146          5        28     136         8      70\n",
              "2            183      116         15        15     115         0      20\n",
              "3            155      110         12         0     246         4     138\n",
              "4            270      260         66       199     168         3      58\n",
              "5            546      607        159       152     435        13     112\n",
              "6            964      793        600       453     673        12      66\n",
              "7            584      627        372       316     655        13      96\n",
              "8            430      422        735       286     436       302     147\n",
              "9            693      264        120       261     480       110     136\n",
              "10           331      262        111       262     562       294     213\n",
              "11           506      297        396       298     550       498     175\n",
              "12           233      436         37       707    1157       500     231\n",
              "13           180      172        584       504    1448       387     656\n",
              "14           474      713       1110      1042     967       456     277\n",
              "15           681      768       1399      1063    1241       288     206\n",
              "16          1417      953        715       784     764       487     313\n",
              "17           523      694        554       573     253       641     330\n",
              "18           455      264        209       285     150       284     253\n",
              "19           794      172         77       279     261       643     328\n",
              "20           430       82         43       137      78       202     328\n",
              "21           504       31         94       339      96       262     305\n",
              "22           444       46        139       265       7       132     149\n",
              "23           278       18         63       214       4       204     306"
            ]
          },
          "metadata": {},
          "execution_count": 101
        }
      ],
      "source": [
        "table"
      ]
    },
    {
      "cell_type": "markdown",
      "metadata": {
        "id": "B2YBiXN4Emn7"
      },
      "source": [
        "### HeatMap - All Jam Level across a week"
      ]
    },
    {
      "cell_type": "code",
      "execution_count": 102,
      "metadata": {
        "colab": {
          "base_uri": "https://localhost:8080/",
          "height": 609
        },
        "id": "28wVquNaoTVg",
        "outputId": "f6659ea2-5ae5-4279-9646-85a323fbc322"
      },
      "outputs": [
        {
          "output_type": "execute_result",
          "data": {
            "text/plain": [
              "<matplotlib.axes._subplots.AxesSubplot at 0x7f5a7b2e6cd0>"
            ]
          },
          "metadata": {},
          "execution_count": 102
        },
        {
          "output_type": "display_data",
          "data": {
            "image/png": "[encoded data removed]",
            "text/plain": [
              "<Figure size 1080x720 with 2 Axes>"
            ]
          },
          "metadata": {
            "needs_background": "light"
          }
        }
      ],
      "source": [
        "sns.set_context({\"figure.figsize\":(15,10)})\n",
        "sns.heatmap(data=table, cmap=\"RdBu_r\", linewidths=0.1, center = 500) "
      ]
    },
    {
      "cell_type": "code",
      "execution_count": 103,
      "metadata": {
        "id": "3kY8ymXNoTaf"
      },
      "outputs": [],
      "source": [
        "# table_only_4_level\n",
        "table4 = pd.pivot_table(df_eda_jam4,index=['HourTime'],columns=['weekDay'],values=['jamLevel'],aggfunc=['count'],fill_value=0)"
      ]
    },
    {
      "cell_type": "markdown",
      "metadata": {
        "id": "Tx8eSc5tEsC7"
      },
      "source": [
        "### HeatMap - Highest Jam Level across a week"
      ]
    },
    {
      "cell_type": "code",
      "execution_count": 104,
      "metadata": {
        "colab": {
          "base_uri": "https://localhost:8080/",
          "height": 609
        },
        "id": "aILHIwXSzkYN",
        "outputId": "27a9fe3e-4120-40b8-a997-e719d89896f1"
      },
      "outputs": [
        {
          "output_type": "execute_result",
          "data": {
            "text/plain": [
              "<matplotlib.axes._subplots.AxesSubplot at 0x7f5a719e0e10>"
            ]
          },
          "metadata": {},
          "execution_count": 104
        },
        {
          "output_type": "display_data",
          "data": {
            "image/png": "[encoded data removed]",
            "text/plain": [
              "<Figure size 1080x720 with 2 Axes>"
            ]
          },
          "metadata": {
            "needs_background": "light"
          }
        }
      ],
      "source": [
        "table4.columns = ['Friday', 'Monday', 'Saturday', 'Sunday', 'Thursday', 'Tuesday', 'Wednesday']\n",
        "order = ['Monday', 'Tuesday', 'Wednesday', 'Thursday', 'Friday', 'Saturday', 'Sunday']\n",
        "table4 = table4[order]\n",
        "\n",
        "sns.set_context({\"figure.figsize\":(15,10)})\n",
        "sns.heatmap(data=table4, cmap=\"RdBu_r\", linewidths=0.1, center = 200) "
      ]
    },
    {
      "cell_type": "markdown",
      "metadata": {
        "id": "m2BxYxbpEu7m"
      },
      "source": [
        "### HeatMap - Jam Level with other features"
      ]
    },
    {
      "cell_type": "code",
      "execution_count": 105,
      "metadata": {
        "colab": {
          "base_uri": "https://localhost:8080/",
          "height": 671
        },
        "id": "BLI0gav1M3Xb",
        "outputId": "d5a690f6-31b1-461f-d5e2-de193b060d80"
      },
      "outputs": [
        {
          "output_type": "execute_result",
          "data": {
            "text/plain": [
              "<matplotlib.axes._subplots.AxesSubplot at 0x7f5a7b285050>"
            ]
          },
          "metadata": {},
          "execution_count": 105
        },
        {
          "output_type": "display_data",
          "data": {
            "image/png": "[encoded data removed]",
            "text/plain": [
              "<Figure size 1080x720 with 2 Axes>"
            ]
          },
          "metadata": {
            "needs_background": "light"
          }
        }
      ],
      "source": [
        "# heatmap \n",
        "plt.figure(figsize=(15, 10))\n",
        "\n",
        "sns.heatmap(df_eda.corr(), annot=True)"
      ]
    },
    {
      "cell_type": "code",
      "execution_count": 106,
      "metadata": {
        "colab": {
          "base_uri": "https://localhost:8080/",
          "height": 746
        },
        "id": "ivUn6aPxD4pW",
        "outputId": "a448ae9b-e650-4490-da57-c61d7632a28e"
      },
      "outputs": [
        {
          "output_type": "display_data",
          "data": {
            "image/png": "[encoded data removed]",
            "text/plain": [
              "<Figure size 864x864 with 2 Axes>"
            ]
          },
          "metadata": {
            "needs_background": "light"
          }
        }
      ],
      "source": [
        "# !pip install heatmapz\n",
        "from heatmap import heatmap, corrplot\n",
        "\n",
        "data = df_eda\n",
        "plt.figure(figsize=(12, 12))\n",
        "corrplot(data.corr(), size_scale=300)"
      ]
    },
    {
      "cell_type": "markdown",
      "metadata": {
        "id": "vmFI-Mm4E3Fa"
      },
      "source": [
        "### HeatMap - Jam Level and Weather"
      ]
    },
    {
      "cell_type": "code",
      "execution_count": 107,
      "metadata": {
        "id": "XcqvqyO1zN0H"
      },
      "outputs": [],
      "source": [
        "# df_eda"
      ]
    },
    {
      "cell_type": "code",
      "execution_count": 108,
      "metadata": {
        "id": "FAOUqLdGFNsn"
      },
      "outputs": [],
      "source": [
        "df_tmp_wea1 = df_eda[['weather_main', 'jamLevel']]\n",
        "# df_tmp_wea1['Weatcher_Combine'] = df_tmp_wea1['weather_main'].apply(lambda x: weather_com(x))\n",
        "df_eda_wea_dummy = pd.get_dummies(df_tmp_wea1[\"weather_main\"])\n",
        "df_eda_wea_dummy['jamLevel'] = df_eda['jamLevel']"
      ]
    },
    {
      "cell_type": "code",
      "execution_count": 109,
      "metadata": {
        "id": "T_ENC_PBGoZC"
      },
      "outputs": [],
      "source": [
        "# df_tmp_wea1"
      ]
    },
    {
      "cell_type": "code",
      "execution_count": 110,
      "metadata": {
        "colab": {
          "base_uri": "https://localhost:8080/",
          "height": 747
        },
        "id": "znWS3YNvGSmg",
        "outputId": "ff1dde89-9acf-4a21-ff48-27fd775e0486"
      },
      "outputs": [
        {
          "output_type": "display_data",
          "data": {
            "image/png": "[encoded data removed]",
            "text/plain": [
              "<Figure size 864x864 with 2 Axes>"
            ]
          },
          "metadata": {
            "needs_background": "light"
          }
        }
      ],
      "source": [
        "data = df_eda_wea_dummy\n",
        "plt.figure(figsize=(12, 12))\n",
        "corrplot(data.corr(), size_scale=300)"
      ]
    },
    {
      "cell_type": "markdown",
      "source": [
        "By default, we use the Pearson correlation coefficient to calculate the correlation."
      ],
      "metadata": {
        "id": "Itt1OKFO6sLf"
      }
    },
    {
      "cell_type": "code",
      "execution_count": 111,
      "metadata": {
        "colab": {
          "base_uri": "https://localhost:8080/"
        },
        "id": "t8uzu1Lb6xWO",
        "outputId": "6769689e-68e6-4005-d613-cb28c07fb70c"
      },
      "outputs": [
        {
          "output_type": "execute_result",
          "data": {
            "text/plain": [
              "regularSpeed    0.434422\n",
              "jamLevel        1.000000\n",
              "temp            0.016120\n",
              "feels_like      0.014002\n",
              "temp_min        0.018064\n",
              "temp_max        0.012595\n",
              "pressure        0.013030\n",
              "humidity        0.001351\n",
              "wind_speed      0.001422\n",
              "wind_deg       -0.015832\n",
              "clouds_all      0.035864\n",
              "weather_id     -0.082746\n",
              "HourTime        0.023366\n",
              "NextJamLevel    0.936405\n",
              "Name: jamLevel, dtype: float64"
            ]
          },
          "metadata": {},
          "execution_count": 111
        }
      ],
      "source": [
        "df_cor = df_eda.corr()\n",
        "df_cor['jamLevel']"
      ]
    },
    {
      "cell_type": "code",
      "execution_count": 112,
      "metadata": {
        "id": "1TjfCUg99cjF"
      },
      "outputs": [],
      "source": [
        "df_tmp_wea_detail = df_eda[['weather_description', 'jamLevel']]\n",
        "# df_tmp_wea1['Weatcher_Combine'] = df_tmp_wea1['weather_main'].apply(lambda x: weather_com(x))\n",
        "df_eda_wea_detail_dummy = pd.get_dummies(df_tmp_wea_detail[\"weather_description\"])\n",
        "df_eda_wea_detail_dummy['jamLevel'] = df_tmp_wea_detail['jamLevel']"
      ]
    },
    {
      "cell_type": "code",
      "execution_count": 113,
      "metadata": {
        "id": "zYXd9GH_-nf8"
      },
      "outputs": [],
      "source": [
        "df_cor = df_eda_wea_detail_dummy.corr()\n",
        "# df_cor['jamLevel'].abs()"
      ]
    },
    {
      "cell_type": "code",
      "execution_count": 114,
      "metadata": {
        "colab": {
          "base_uri": "https://localhost:8080/"
        },
        "id": "9fMm3du8-wsD",
        "outputId": "3bc51a43-f394-43f1-94ba-3da704c6428f"
      },
      "outputs": [
        {
          "output_type": "execute_result",
          "data": {
            "text/plain": [
              "jamLevel                        1.000000\n",
              "snow                            0.071146\n",
              "thunderstorm                    0.060106\n",
              "broken clouds                  -0.036213\n",
              "light snow                      0.033876\n",
              "sky is clear                   -0.026877\n",
              "moderate rain                   0.026355\n",
              "overcast clouds                -0.026238\n",
              "heavy snow                      0.024487\n",
              "haze                            0.021761\n",
              "scattered clouds               -0.020656\n",
              "mist                            0.017812\n",
              "fog                             0.016807\n",
              "shower rain                     0.013121\n",
              "thunderstorm with light rain    0.011068\n",
              "heavy shower snow               0.008988\n",
              "proximity thunderstorm          0.006687\n",
              "light intensity shower rain     0.004799\n",
              "few clouds                     -0.004543\n",
              "light intensity drizzle        -0.004431\n",
              "thunderstorm with heavy rain    0.004302\n",
              "squalls                         0.003973\n",
              "heavy intensity rain           -0.003814\n",
              "thunderstorm with rain         -0.003708\n",
              "light shower sleet             -0.003199\n",
              "light rain                     -0.003032\n",
              "shower snow                    -0.002717\n",
              "heavy intensity drizzle        -0.002345\n",
              "dust                           -0.002345\n",
              "drizzle                        -0.002345\n",
              "heavy intensity shower rain    -0.001658\n",
              "very heavy rain                -0.001658\n",
              "shower sleet                   -0.001658\n",
              "light rain and snow            -0.000747\n",
              "sleet                          -0.000506\n",
              "smoke                           0.000401\n",
              "light shower snow               0.000238\n",
              "Name: jamLevel, dtype: float64"
            ]
          },
          "metadata": {},
          "execution_count": 114
        }
      ],
      "source": [
        "df_cor['jamLevel_abs'] = df_cor['jamLevel'].abs()\n",
        "df_cor.sort_values(by = 'jamLevel_abs', ascending = False)['jamLevel']"
      ]
    },
    {
      "cell_type": "code",
      "execution_count": 115,
      "metadata": {
        "id": "R6z-TnxLaCJV"
      },
      "outputs": [],
      "source": [
        "data_corr = df_cor.sort_values(by = 'jamLevel_abs', ascending = False)['jamLevel']"
      ]
    },
    {
      "cell_type": "code",
      "execution_count": 118,
      "metadata": {
        "colab": {
          "base_uri": "https://localhost:8080/"
        },
        "id": "JeOL1Y8yaJTt",
        "outputId": "ab983e70-132b-4b3a-b52e-b2549f49bb3b"
      },
      "outputs": [
        {
          "output_type": "execute_result",
          "data": {
            "text/plain": [
              "37"
            ]
          },
          "metadata": {},
          "execution_count": 118
        }
      ],
      "source": [
        "len(data_corr)"
      ]
    },
    {
      "cell_type": "markdown",
      "metadata": {
        "id": "xM8tU-GnMcw-"
      },
      "source": [
        "## Model"
      ]
    },
    {
      "cell_type": "code",
      "execution_count": 116,
      "metadata": {
        "colab": {
          "base_uri": "https://localhost:8080/"
        },
        "id": "v8MqW2BhjG-7",
        "outputId": "1f4a35b6-0761-42af-e42f-2e87025da076"
      },
      "outputs": [
        {
          "output_type": "execute_result",
          "data": {
            "text/plain": [
              "Index(['street', 'regularSpeed', 'time', 'jamLevel', 'temp', 'feels_like',\n",
              "       'temp_min', 'temp_max', 'pressure', 'humidity', 'wind_speed',\n",
              "       'wind_deg', 'clouds_all', 'weather_id', 'weather_main',\n",
              "       'weather_description', 'weather_icon', 'dayTimeInterval', 'HourTime',\n",
              "       'season', 'weekDay', 'NextJamLevel'],\n",
              "      dtype='object')"
            ]
          },
          "metadata": {},
          "execution_count": 116
        }
      ],
      "source": [
        "df_eda.columns"
      ]
    },
    {
      "cell_type": "code",
      "execution_count": 117,
      "metadata": {
        "colab": {
          "base_uri": "https://localhost:8080/"
        },
        "id": "qLtMOL8HhIrV",
        "outputId": "92df7688-d801-414b-d7b0-a0ec151de2dd"
      },
      "outputs": [
        {
          "output_type": "execute_result",
          "data": {
            "text/plain": [
              "array(['overcast clouds', 'light snow', 'mist', 'fog', 'scattered clouds',\n",
              "       'sky is clear', 'few clouds', 'snow', 'light rain',\n",
              "       'broken clouds', 'squalls', 'light intensity drizzle',\n",
              "       'moderate rain', 'light intensity shower rain',\n",
              "       'light shower snow', 'shower rain', 'heavy snow', 'haze',\n",
              "       'light shower sleet', 'heavy intensity drizzle', 'shower snow',\n",
              "       'heavy intensity rain', 'thunderstorm', 'proximity thunderstorm',\n",
              "       'thunderstorm with light rain', 'shower sleet', 'sleet',\n",
              "       'very heavy rain', 'heavy intensity shower rain',\n",
              "       'thunderstorm with rain', 'thunderstorm with heavy rain', 'smoke',\n",
              "       'drizzle', 'dust', 'heavy shower snow', 'light rain and snow'],\n",
              "      dtype=object)"
            ]
          },
          "metadata": {},
          "execution_count": 117
        }
      ],
      "source": [
        "# check the unique value \n",
        "df_model = df_eda.copy()\n",
        "df_model = df_model.drop(columns = 'time')\n",
        "df_model['weather_description'].unique()"
      ]
    },
    {
      "cell_type": "code",
      "execution_count": 118,
      "metadata": {
        "id": "S-g_7EYZjpoK"
      },
      "outputs": [],
      "source": [
        "df_model_1 = df_model.copy()"
      ]
    },
    {
      "cell_type": "markdown",
      "metadata": {
        "id": "ODETtcaEHLth"
      },
      "source": [
        "#### VIF Checking"
      ]
    },
    {
      "cell_type": "markdown",
      "source": [
        "In the entire process of Feature Engineering, there are mainly three steps. They are VIF checking, Encoding and Rescalling. The purpose is to better process the variables that the model can learn."
      ],
      "metadata": {
        "id": "UKfpNBgfugH1"
      }
    },
    {
      "cell_type": "markdown",
      "source": [
        "VIF Checking\n",
        "\n",
        "When performing linear regression analysis, it is easy to appear that the independent variables (explanatory variables) are related to each other. We call this phenomenon multicollinearity.\n",
        "\n",
        "Moderate multicollinearity is not a problem, but when serious collinearity occurs, the analysis result will be unstable, and the sign of the regression coefficient will be completely opposite to the actual situation. The independent variable that should be significant is not significant, but the insignificant independent variable is significant. In this case, it is necessary to eliminate the effect of multicollinearity.\n",
        "\n",
        "The so-called VIF method is not difficult to calculate. Among the linear regression methods, the most widely used method is the least squares method (OLS), but for each factor, we use the other N factors for regression interpretation. One of the statistical indicators for testing the explanatory power of the model is R^2 (the coefficient of determination of the sample). The size of R^2 determines the explanatory power of the explanatory variable to the dependent variable. In order to test the linear correlation between factors, we can use OLS to regress a single factor and an explanatory factor, and then if its R^2 is small, it means that this factor is less explained by other factors, and the linear correlation is low.\n",
        "\n",
        "　　Note: The reason why the covariance is not used to calculate the correlation is because the covariance is difficult to apply in the case of multiple linear correlation. Give the VIF calculation method:\n",
        "\n",
        "                      VIF = 1 / (1-R^2)\n",
        "\n",
        "It is easy to see from the above that the higher the VIF, the stronger the linear correlation between the explanatory variable and the dependent variable. The method of using VIF to test is mainly to regress a certain factor and other factors to obtain R^2, calculate VIF, remove the factor with high VIF, keep the factor with lower VIF, and so on, until a correlation is obtained Combinations of low-performing factors can enhance the explanatory power of the model.\n"
      ],
      "metadata": {
        "id": "dl_nl_6g4MTB"
      }
    },
    {
      "cell_type": "code",
      "execution_count": 119,
      "metadata": {
        "id": "k9gIIIyz_Pct"
      },
      "outputs": [],
      "source": [
        "import pandas as pd\n",
        "from statsmodels.stats.outliers_influence import variance_inflation_factor\n",
        "import numpy as np\n",
        "\n",
        "cols = ['regularSpeed', 'temp', 'feels_like', 'temp_min', 'temp_max', 'pressure',\n",
        "        'humidity','wind_speed','wind_deg','clouds_all','weather_id','HourTime'] \n",
        "\n",
        "df_vif = df_model_1.copy()\n",
        "def vif_check(data, col):\n",
        "    data = data.loc[:, col] \n",
        "    vif = [variance_inflation_factor(data.values, i) for i in range(data.shape[1])][1:] \n",
        "    return col, vif\n",
        "\n",
        "vif_dataframe = pd.DataFrame(vif_check(df_vif, cols))"
      ]
    },
    {
      "cell_type": "code",
      "execution_count": 120,
      "metadata": {
        "colab": {
          "base_uri": "https://localhost:8080/",
          "height": 112
        },
        "id": "6BaVn0YeFBnN",
        "outputId": "0ac2c8dd-9bae-4f93-c2d6-0158438ca5ad"
      },
      "outputs": [
        {
          "output_type": "execute_result",
          "data": {
            "text/html": [
              "<div>\n",
              "<style scoped>\n",
              "    .dataframe tbody tr th:only-of-type {\n",
              "        vertical-align: middle;\n",
              "    }\n",
              "\n",
              "    .dataframe tbody tr th {\n",
              "        vertical-align: top;\n",
              "    }\n",
              "\n",
              "    .dataframe thead th {\n",
              "        text-align: right;\n",
              "    }\n",
              "</style>\n",
              "<table border=\"1\" class=\"dataframe\">\n",
              "  <thead>\n",
              "    <tr style=\"text-align: right;\">\n",
              "      <th></th>\n",
              "      <th>0</th>\n",
              "      <th>1</th>\n",
              "      <th>2</th>\n",
              "      <th>3</th>\n",
              "      <th>4</th>\n",
              "      <th>5</th>\n",
              "      <th>6</th>\n",
              "      <th>7</th>\n",
              "      <th>8</th>\n",
              "      <th>9</th>\n",
              "      <th>10</th>\n",
              "      <th>11</th>\n",
              "    </tr>\n",
              "  </thead>\n",
              "  <tbody>\n",
              "    <tr>\n",
              "      <th>0</th>\n",
              "      <td>regularSpeed</td>\n",
              "      <td>temp</td>\n",
              "      <td>feels_like</td>\n",
              "      <td>temp_min</td>\n",
              "      <td>temp_max</td>\n",
              "      <td>pressure</td>\n",
              "      <td>humidity</td>\n",
              "      <td>wind_speed</td>\n",
              "      <td>wind_deg</td>\n",
              "      <td>clouds_all</td>\n",
              "      <td>weather_id</td>\n",
              "      <td>HourTime</td>\n",
              "    </tr>\n",
              "    <tr>\n",
              "      <th>1</th>\n",
              "      <td>249792</td>\n",
              "      <td>82417.9</td>\n",
              "      <td>66714.8</td>\n",
              "      <td>49860.6</td>\n",
              "      <td>1579.48</td>\n",
              "      <td>13.4432</td>\n",
              "      <td>3.16138</td>\n",
              "      <td>3.65978</td>\n",
              "      <td>3.34581</td>\n",
              "      <td>45.3664</td>\n",
              "      <td>4.78092</td>\n",
              "      <td>None</td>\n",
              "    </tr>\n",
              "  </tbody>\n",
              "</table>\n",
              "</div>"
            ],
            "text/plain": [
              "             0        1           2   ...          9           10        11\n",
              "0  regularSpeed     temp  feels_like  ...  clouds_all  weather_id  HourTime\n",
              "1        249792  82417.9     66714.8  ...     45.3664     4.78092      None\n",
              "\n",
              "[2 rows x 12 columns]"
            ]
          },
          "metadata": {},
          "execution_count": 120
        }
      ],
      "source": [
        "vif_dataframe"
      ]
    },
    {
      "cell_type": "code",
      "execution_count": 121,
      "metadata": {
        "id": "HkXSqNJmHcel"
      },
      "outputs": [],
      "source": [
        "### Some of columns are highly correlated, we need to delete these columns\n",
        "df_model_vif = df_model_1.drop(columns = ['temp_min', 'temp_max','feels_like'])"
      ]
    },
    {
      "cell_type": "code",
      "execution_count": 122,
      "metadata": {
        "colab": {
          "base_uri": "https://localhost:8080/",
          "height": 112
        },
        "id": "kadasCvXHqHj",
        "outputId": "c8c090e7-c275-4e1c-ccfb-c4784d63ccf5"
      },
      "outputs": [
        {
          "output_type": "execute_result",
          "data": {
            "text/html": [
              "<div>\n",
              "<style scoped>\n",
              "    .dataframe tbody tr th:only-of-type {\n",
              "        vertical-align: middle;\n",
              "    }\n",
              "\n",
              "    .dataframe tbody tr th {\n",
              "        vertical-align: top;\n",
              "    }\n",
              "\n",
              "    .dataframe thead th {\n",
              "        text-align: right;\n",
              "    }\n",
              "</style>\n",
              "<table border=\"1\" class=\"dataframe\">\n",
              "  <thead>\n",
              "    <tr style=\"text-align: right;\">\n",
              "      <th></th>\n",
              "      <th>0</th>\n",
              "      <th>1</th>\n",
              "      <th>2</th>\n",
              "      <th>3</th>\n",
              "      <th>4</th>\n",
              "      <th>5</th>\n",
              "      <th>6</th>\n",
              "      <th>7</th>\n",
              "      <th>8</th>\n",
              "    </tr>\n",
              "  </thead>\n",
              "  <tbody>\n",
              "    <tr>\n",
              "      <th>0</th>\n",
              "      <td>regularSpeed</td>\n",
              "      <td>temp</td>\n",
              "      <td>pressure</td>\n",
              "      <td>humidity</td>\n",
              "      <td>wind_speed</td>\n",
              "      <td>wind_deg</td>\n",
              "      <td>clouds_all</td>\n",
              "      <td>weather_id</td>\n",
              "      <td>HourTime</td>\n",
              "    </tr>\n",
              "    <tr>\n",
              "      <th>1</th>\n",
              "      <td>1092.92</td>\n",
              "      <td>1367.47</td>\n",
              "      <td>12.8517</td>\n",
              "      <td>2.0112</td>\n",
              "      <td>3.62423</td>\n",
              "      <td>3.14714</td>\n",
              "      <td>45.228</td>\n",
              "      <td>4.70552</td>\n",
              "      <td>None</td>\n",
              "    </tr>\n",
              "  </tbody>\n",
              "</table>\n",
              "</div>"
            ],
            "text/plain": [
              "              0        1         2  ...           6           7         8\n",
              "0  regularSpeed     temp  pressure  ...  clouds_all  weather_id  HourTime\n",
              "1       1092.92  1367.47   12.8517  ...      45.228     4.70552      None\n",
              "\n",
              "[2 rows x 9 columns]"
            ]
          },
          "metadata": {},
          "execution_count": 122
        }
      ],
      "source": [
        "cols = ['regularSpeed', 'temp', 'pressure',\n",
        "        'humidity','wind_speed','wind_deg','clouds_all','weather_id','HourTime'] \n",
        "\n",
        "vif_dataframe = pd.DataFrame(vif_check(df_model_vif, cols))\n",
        "\n",
        "vif_dataframe"
      ]
    },
    {
      "cell_type": "markdown",
      "source": [
        "As code above, we have detected considerable multicollinearity between temperatures through VIF detection, so we have removed three related variables. In addition, we still retain some variables with larger VIF values. This is also to ensure the effect of our model. Usually we think:\n",
        "\n",
        "1. Multicollinearity is common. If the VIF value is greater than 10, it means that the collinearity is very serious. This situation needs to be dealt with. If the VIF value is below 5, there is no need to deal with it. Between 5~10 depending on the situation.\n",
        "\n",
        "2. If the model is only used for prediction, as long as the fit is good, the problem of multicollinearity may not be dealt with. When a model with multicollinearity is used for prediction, it often does not affect the prediction results.\n"
      ],
      "metadata": {
        "id": "Ykj-Vlgj7SIQ"
      }
    },
    {
      "cell_type": "markdown",
      "source": [
        "#### Label_Encoder"
      ],
      "metadata": {
        "id": "woqUqOy27Xdk"
      }
    },
    {
      "cell_type": "markdown",
      "source": [
        "​​In Encoding, we mainly adopt two methods. One is Label Encoder, and the other is Target Encoder.\n",
        "\n",
        "Label encoding is to assign a value to each category in the category variable, thereby converting it into a numeric value. For example, there is a column [dog,cat,dog,mouse,cat], we convert it to [1,2,1,3,2]. Here is a strange phenomenon: the average value of dog and mouse is cat, so the most intuitive disadvantage of label encoding is that the assignment is difficult to explain and the applicable scenarios are narrower.\n",
        "\n",
        "The advantage of one hot encoding is that its value is only 0/1, and different types are stored in a vertical space. The disadvantage is that when the number of categories is large, the feature space becomes very large. But in actual use, because one hot encoding increases the dimensionality of the variables, it means deeper splits in the tree model. If the depth of the tree is limited to a value, the dog category may not be included in the model, which actually means that it is lost The dog information, and the second label encoding above does not have this problem, which also means that the fitting effect will be better.\n",
        "\n",
        "So in this case, we performed Label Encoding for most of the variables (variables that easily produce high-latitude features).\n"
      ],
      "metadata": {
        "id": "GFnJvryP8x-W"
      }
    },
    {
      "cell_type": "code",
      "execution_count": 123,
      "metadata": {
        "id": "RqY5kGDjhIrW"
      },
      "outputs": [],
      "source": [
        "le = LabelEncoder()\n",
        "\n",
        "loc_lst = df_model_1['street'].unique().tolist()\n",
        "le.fit(df_model_1['street'])\n",
        "df_model_1['street_encode'] = le.transform(df_model_1['street'])\n",
        "\n",
        "loc_lst = df_model_1['weather_icon'].unique().tolist()\n",
        "le.fit(df_model_1['weather_icon'])\n",
        "df_model_1['weather_icon_encode'] = le.transform(df_model_1['weather_icon'])\n",
        "\n",
        "loc_lst = df_model_1['weekDay'].unique().tolist()\n",
        "le.fit(df_model_1['weekDay'])\n",
        "df_model_1['weekDay_encode'] = le.transform(df_model_1['weekDay'])\n",
        "\n",
        "loc_lst = df_model_1['weather_description'].unique().tolist()\n",
        "le.fit(df_model_1['weather_description'])\n",
        "df_model_1['weather_description_encode'] = le.transform(df_model_1['weather_description'])\n",
        "\n",
        "loc_lst = df_model_1['season'].unique().tolist()\n",
        "le.fit(df_model_1['season'])\n",
        "df_model_1['season_encode'] = le.transform(df_model_1['season'])\n",
        "\n",
        "loc_lst = df_model_1['dayTimeInterval'].unique().tolist()\n",
        "le.fit(df_model_1['dayTimeInterval'])\n",
        "df_model_1['dayTimeIntervaln_encode'] = le.transform(df_model_1['dayTimeInterval'])"
      ]
    },
    {
      "cell_type": "markdown",
      "metadata": {
        "id": "8eZ-leZoMOsx"
      },
      "source": [
        "#### Target_Encoder"
      ]
    },
    {
      "cell_type": "markdown",
      "source": [
        "Feature encoding can be performed only based on the feature itself, or it can be performed in conjunction with target information. Target encoding is a way of feature encoding combined with target values. Formally speaking, target encoding is to replace the feature value with a given feature value, and the target value is a mixture of the prior probability and the posterior probability of the target value in the training data."
      ],
      "metadata": {
        "id": "ZUV6XR2i9dHz"
      }
    },
    {
      "cell_type": "code",
      "execution_count": 125,
      "metadata": {
        "colab": {
          "base_uri": "https://localhost:8080/",
          "height": 704
        },
        "id": "obXo3Ns2SgDr",
        "outputId": "e803d9cf-6f0b-4b32-9b85-4a16ad79c196"
      },
      "outputs": [
        {
          "output_type": "execute_result",
          "data": {
            "text/html": [
              "<div>\n",
              "<style scoped>\n",
              "    .dataframe tbody tr th:only-of-type {\n",
              "        vertical-align: middle;\n",
              "    }\n",
              "\n",
              "    .dataframe tbody tr th {\n",
              "        vertical-align: top;\n",
              "    }\n",
              "\n",
              "    .dataframe thead th {\n",
              "        text-align: right;\n",
              "    }\n",
              "</style>\n",
              "<table border=\"1\" class=\"dataframe\">\n",
              "  <thead>\n",
              "    <tr style=\"text-align: right;\">\n",
              "      <th></th>\n",
              "      <th>street</th>\n",
              "      <th>regularSpeed</th>\n",
              "      <th>jamLevel</th>\n",
              "      <th>temp</th>\n",
              "      <th>feels_like</th>\n",
              "      <th>temp_min</th>\n",
              "      <th>temp_max</th>\n",
              "      <th>pressure</th>\n",
              "      <th>humidity</th>\n",
              "      <th>wind_speed</th>\n",
              "      <th>wind_deg</th>\n",
              "      <th>clouds_all</th>\n",
              "      <th>weather_id</th>\n",
              "      <th>weather_main</th>\n",
              "      <th>weather_description</th>\n",
              "      <th>weather_icon</th>\n",
              "      <th>dayTimeInterval</th>\n",
              "      <th>HourTime</th>\n",
              "      <th>season</th>\n",
              "      <th>weekDay</th>\n",
              "      <th>NextJamLevel</th>\n",
              "      <th>street_encode</th>\n",
              "      <th>weather_icon_encode</th>\n",
              "      <th>weekDay_encode</th>\n",
              "      <th>weather_description_encode</th>\n",
              "      <th>season_encode</th>\n",
              "      <th>dayTimeIntervaln_encode</th>\n",
              "    </tr>\n",
              "  </thead>\n",
              "  <tbody>\n",
              "    <tr>\n",
              "      <th>0</th>\n",
              "      <td>to SH-115 N</td>\n",
              "      <td>66.920000</td>\n",
              "      <td>0</td>\n",
              "      <td>258.30</td>\n",
              "      <td>258.30</td>\n",
              "      <td>256.38</td>\n",
              "      <td>260.33</td>\n",
              "      <td>1022.0</td>\n",
              "      <td>73.0</td>\n",
              "      <td>0.89</td>\n",
              "      <td>43.0</td>\n",
              "      <td>90.0</td>\n",
              "      <td>804.0</td>\n",
              "      <td>Clouds</td>\n",
              "      <td>overcast clouds</td>\n",
              "      <td>04n</td>\n",
              "      <td>MidNight</td>\n",
              "      <td>1</td>\n",
              "      <td>winter</td>\n",
              "      <td>Tuesday</td>\n",
              "      <td>0</td>\n",
              "      <td>26</td>\n",
              "      <td>7</td>\n",
              "      <td>5</td>\n",
              "      <td>20</td>\n",
              "      <td>3</td>\n",
              "      <td>1</td>\n",
              "    </tr>\n",
              "    <tr>\n",
              "      <th>1</th>\n",
              "      <td>to SH-115 N</td>\n",
              "      <td>66.920000</td>\n",
              "      <td>0</td>\n",
              "      <td>258.31</td>\n",
              "      <td>254.88</td>\n",
              "      <td>256.87</td>\n",
              "      <td>260.33</td>\n",
              "      <td>1023.0</td>\n",
              "      <td>75.0</td>\n",
              "      <td>1.34</td>\n",
              "      <td>43.0</td>\n",
              "      <td>90.0</td>\n",
              "      <td>600.0</td>\n",
              "      <td>Snow</td>\n",
              "      <td>light snow</td>\n",
              "      <td>13n</td>\n",
              "      <td>MidNight</td>\n",
              "      <td>2</td>\n",
              "      <td>winter</td>\n",
              "      <td>Tuesday</td>\n",
              "      <td>0</td>\n",
              "      <td>26</td>\n",
              "      <td>15</td>\n",
              "      <td>5</td>\n",
              "      <td>17</td>\n",
              "      <td>3</td>\n",
              "      <td>1</td>\n",
              "    </tr>\n",
              "    <tr>\n",
              "      <th>2</th>\n",
              "      <td>to SH-115 N</td>\n",
              "      <td>66.920000</td>\n",
              "      <td>0</td>\n",
              "      <td>258.29</td>\n",
              "      <td>254.85</td>\n",
              "      <td>257.23</td>\n",
              "      <td>259.77</td>\n",
              "      <td>1022.0</td>\n",
              "      <td>77.0</td>\n",
              "      <td>1.34</td>\n",
              "      <td>43.0</td>\n",
              "      <td>90.0</td>\n",
              "      <td>600.0</td>\n",
              "      <td>Snow</td>\n",
              "      <td>light snow</td>\n",
              "      <td>13n</td>\n",
              "      <td>MidNight</td>\n",
              "      <td>3</td>\n",
              "      <td>winter</td>\n",
              "      <td>Tuesday</td>\n",
              "      <td>0</td>\n",
              "      <td>26</td>\n",
              "      <td>15</td>\n",
              "      <td>5</td>\n",
              "      <td>17</td>\n",
              "      <td>3</td>\n",
              "      <td>1</td>\n",
              "    </tr>\n",
              "    <tr>\n",
              "      <th>3</th>\n",
              "      <td>to SH-115 N</td>\n",
              "      <td>66.920000</td>\n",
              "      <td>0</td>\n",
              "      <td>258.27</td>\n",
              "      <td>258.27</td>\n",
              "      <td>257.23</td>\n",
              "      <td>259.21</td>\n",
              "      <td>1022.0</td>\n",
              "      <td>79.0</td>\n",
              "      <td>0.00</td>\n",
              "      <td>0.0</td>\n",
              "      <td>90.0</td>\n",
              "      <td>600.0</td>\n",
              "      <td>Snow</td>\n",
              "      <td>light snow</td>\n",
              "      <td>13n</td>\n",
              "      <td>earlyMorning</td>\n",
              "      <td>4</td>\n",
              "      <td>winter</td>\n",
              "      <td>Tuesday</td>\n",
              "      <td>0</td>\n",
              "      <td>26</td>\n",
              "      <td>15</td>\n",
              "      <td>5</td>\n",
              "      <td>17</td>\n",
              "      <td>3</td>\n",
              "      <td>5</td>\n",
              "    </tr>\n",
              "    <tr>\n",
              "      <th>4</th>\n",
              "      <td>to SH-115 N</td>\n",
              "      <td>66.920000</td>\n",
              "      <td>0</td>\n",
              "      <td>258.20</td>\n",
              "      <td>258.20</td>\n",
              "      <td>257.23</td>\n",
              "      <td>259.06</td>\n",
              "      <td>1021.0</td>\n",
              "      <td>79.0</td>\n",
              "      <td>0.00</td>\n",
              "      <td>0.0</td>\n",
              "      <td>75.0</td>\n",
              "      <td>600.0</td>\n",
              "      <td>Snow</td>\n",
              "      <td>light snow</td>\n",
              "      <td>13n</td>\n",
              "      <td>earlyMorning</td>\n",
              "      <td>5</td>\n",
              "      <td>winter</td>\n",
              "      <td>Tuesday</td>\n",
              "      <td>0</td>\n",
              "      <td>26</td>\n",
              "      <td>15</td>\n",
              "      <td>5</td>\n",
              "      <td>17</td>\n",
              "      <td>3</td>\n",
              "      <td>5</td>\n",
              "    </tr>\n",
              "    <tr>\n",
              "      <th>...</th>\n",
              "      <td>...</td>\n",
              "      <td>...</td>\n",
              "      <td>...</td>\n",
              "      <td>...</td>\n",
              "      <td>...</td>\n",
              "      <td>...</td>\n",
              "      <td>...</td>\n",
              "      <td>...</td>\n",
              "      <td>...</td>\n",
              "      <td>...</td>\n",
              "      <td>...</td>\n",
              "      <td>...</td>\n",
              "      <td>...</td>\n",
              "      <td>...</td>\n",
              "      <td>...</td>\n",
              "      <td>...</td>\n",
              "      <td>...</td>\n",
              "      <td>...</td>\n",
              "      <td>...</td>\n",
              "      <td>...</td>\n",
              "      <td>...</td>\n",
              "      <td>...</td>\n",
              "      <td>...</td>\n",
              "      <td>...</td>\n",
              "      <td>...</td>\n",
              "      <td>...</td>\n",
              "      <td>...</td>\n",
              "    </tr>\n",
              "    <tr>\n",
              "      <th>27800</th>\n",
              "      <td>S Academy Blvd</td>\n",
              "      <td>62.133654</td>\n",
              "      <td>0</td>\n",
              "      <td>291.65</td>\n",
              "      <td>290.29</td>\n",
              "      <td>290.22</td>\n",
              "      <td>293.50</td>\n",
              "      <td>1022.0</td>\n",
              "      <td>28.0</td>\n",
              "      <td>1.34</td>\n",
              "      <td>189.0</td>\n",
              "      <td>1.0</td>\n",
              "      <td>800.0</td>\n",
              "      <td>Clear</td>\n",
              "      <td>sky is clear</td>\n",
              "      <td>01d</td>\n",
              "      <td>Noon</td>\n",
              "      <td>12</td>\n",
              "      <td>fall</td>\n",
              "      <td>Friday</td>\n",
              "      <td>0</td>\n",
              "      <td>17</td>\n",
              "      <td>0</td>\n",
              "      <td>0</td>\n",
              "      <td>26</td>\n",
              "      <td>0</td>\n",
              "      <td>4</td>\n",
              "    </tr>\n",
              "    <tr>\n",
              "      <th>27801</th>\n",
              "      <td>S Academy Blvd</td>\n",
              "      <td>62.133654</td>\n",
              "      <td>0</td>\n",
              "      <td>292.22</td>\n",
              "      <td>290.89</td>\n",
              "      <td>289.91</td>\n",
              "      <td>294.61</td>\n",
              "      <td>1020.0</td>\n",
              "      <td>27.0</td>\n",
              "      <td>1.34</td>\n",
              "      <td>114.0</td>\n",
              "      <td>1.0</td>\n",
              "      <td>800.0</td>\n",
              "      <td>Clear</td>\n",
              "      <td>sky is clear</td>\n",
              "      <td>01d</td>\n",
              "      <td>Noon</td>\n",
              "      <td>13</td>\n",
              "      <td>fall</td>\n",
              "      <td>Friday</td>\n",
              "      <td>0</td>\n",
              "      <td>17</td>\n",
              "      <td>0</td>\n",
              "      <td>0</td>\n",
              "      <td>26</td>\n",
              "      <td>0</td>\n",
              "      <td>4</td>\n",
              "    </tr>\n",
              "    <tr>\n",
              "      <th>27802</th>\n",
              "      <td>S Academy Blvd</td>\n",
              "      <td>62.133654</td>\n",
              "      <td>0</td>\n",
              "      <td>292.25</td>\n",
              "      <td>290.89</td>\n",
              "      <td>289.91</td>\n",
              "      <td>294.95</td>\n",
              "      <td>1020.0</td>\n",
              "      <td>26.0</td>\n",
              "      <td>0.89</td>\n",
              "      <td>124.0</td>\n",
              "      <td>1.0</td>\n",
              "      <td>800.0</td>\n",
              "      <td>Clear</td>\n",
              "      <td>sky is clear</td>\n",
              "      <td>01d</td>\n",
              "      <td>AfterNoon</td>\n",
              "      <td>14</td>\n",
              "      <td>fall</td>\n",
              "      <td>Friday</td>\n",
              "      <td>0</td>\n",
              "      <td>17</td>\n",
              "      <td>0</td>\n",
              "      <td>0</td>\n",
              "      <td>26</td>\n",
              "      <td>0</td>\n",
              "      <td>0</td>\n",
              "    </tr>\n",
              "    <tr>\n",
              "      <th>27803</th>\n",
              "      <td>S Academy Blvd</td>\n",
              "      <td>62.133654</td>\n",
              "      <td>0</td>\n",
              "      <td>291.34</td>\n",
              "      <td>289.89</td>\n",
              "      <td>288.70</td>\n",
              "      <td>294.39</td>\n",
              "      <td>1019.0</td>\n",
              "      <td>26.0</td>\n",
              "      <td>0.89</td>\n",
              "      <td>148.0</td>\n",
              "      <td>1.0</td>\n",
              "      <td>800.0</td>\n",
              "      <td>Clear</td>\n",
              "      <td>sky is clear</td>\n",
              "      <td>01d</td>\n",
              "      <td>AfterNoon</td>\n",
              "      <td>15</td>\n",
              "      <td>fall</td>\n",
              "      <td>Friday</td>\n",
              "      <td>0</td>\n",
              "      <td>17</td>\n",
              "      <td>0</td>\n",
              "      <td>0</td>\n",
              "      <td>26</td>\n",
              "      <td>0</td>\n",
              "      <td>0</td>\n",
              "    </tr>\n",
              "    <tr>\n",
              "      <th>27804</th>\n",
              "      <td>S Academy Blvd</td>\n",
              "      <td>62.133654</td>\n",
              "      <td>0</td>\n",
              "      <td>289.76</td>\n",
              "      <td>288.21</td>\n",
              "      <td>288.14</td>\n",
              "      <td>291.83</td>\n",
              "      <td>1019.0</td>\n",
              "      <td>28.0</td>\n",
              "      <td>0.45</td>\n",
              "      <td>239.0</td>\n",
              "      <td>1.0</td>\n",
              "      <td>800.0</td>\n",
              "      <td>Clear</td>\n",
              "      <td>sky is clear</td>\n",
              "      <td>01d</td>\n",
              "      <td>AfterNoon</td>\n",
              "      <td>16</td>\n",
              "      <td>fall</td>\n",
              "      <td>Friday</td>\n",
              "      <td>0</td>\n",
              "      <td>17</td>\n",
              "      <td>0</td>\n",
              "      <td>0</td>\n",
              "      <td>26</td>\n",
              "      <td>0</td>\n",
              "      <td>0</td>\n",
              "    </tr>\n",
              "  </tbody>\n",
              "</table>\n",
              "<p>732870 rows × 27 columns</p>\n",
              "</div>"
            ],
            "text/plain": [
              "               street  regularSpeed  ...  season_encode  dayTimeIntervaln_encode\n",
              "0         to SH-115 N     66.920000  ...              3                        1\n",
              "1         to SH-115 N     66.920000  ...              3                        1\n",
              "2         to SH-115 N     66.920000  ...              3                        1\n",
              "3         to SH-115 N     66.920000  ...              3                        5\n",
              "4         to SH-115 N     66.920000  ...              3                        5\n",
              "...               ...           ...  ...            ...                      ...\n",
              "27800  S Academy Blvd     62.133654  ...              0                        4\n",
              "27801  S Academy Blvd     62.133654  ...              0                        4\n",
              "27802  S Academy Blvd     62.133654  ...              0                        0\n",
              "27803  S Academy Blvd     62.133654  ...              0                        0\n",
              "27804  S Academy Blvd     62.133654  ...              0                        0\n",
              "\n",
              "[732870 rows x 27 columns]"
            ]
          },
          "metadata": {},
          "execution_count": 125
        }
      ],
      "source": [
        "df_model_1"
      ]
    },
    {
      "cell_type": "code",
      "execution_count": 126,
      "metadata": {
        "id": "_esGyoJOMRcz"
      },
      "outputs": [],
      "source": [
        "import category_encoders as ce\n",
        "\n",
        "encoder = ce.TargetEncoder(cols='weather_main')\n",
        "df_model_1['weather_target'] = encoder.fit_transform(df_model_1['weather_main'],df_model_1['NextJamLevel'])"
      ]
    },
    {
      "cell_type": "code",
      "execution_count": 127,
      "metadata": {
        "id": "de6CZKduxN7G"
      },
      "outputs": [],
      "source": [
        "encoder = ce.TargetEncoder(cols='weather_description')\n",
        "df_model_1['weather_desc_target'] = encoder.fit_transform(df_model_1['weather_description'],df_model_1['NextJamLevel'])"
      ]
    },
    {
      "cell_type": "code",
      "execution_count": 128,
      "metadata": {
        "colab": {
          "base_uri": "https://localhost:8080/"
        },
        "id": "Tg9bxwqEviqi",
        "outputId": "3649085d-d6c3-4937-d1e3-717090d2f051"
      },
      "outputs": [
        {
          "output_type": "execute_result",
          "data": {
            "text/plain": [
              "732870"
            ]
          },
          "metadata": {},
          "execution_count": 128
        }
      ],
      "source": [
        "len(df_model_1)"
      ]
    },
    {
      "cell_type": "markdown",
      "metadata": {
        "id": "1_nrOXiiS54D"
      },
      "source": [
        "#### One-Hot"
      ]
    },
    {
      "cell_type": "markdown",
      "source": [
        "We can still choose the one-hot method, if they want to use this encoding method in subsequent teams."
      ],
      "metadata": {
        "id": "1u9CEhnl9g3e"
      }
    },
    {
      "cell_type": "code",
      "execution_count": 129,
      "metadata": {
        "id": "dRrXa0b9HM2l"
      },
      "outputs": [],
      "source": [
        "# # ### one-hot \n",
        "# df_onehot = pd.get_dummies(df_model_1['weather_description'], prefix='oneHot') \n",
        "# # df_model_2 = pd.concat([df_onehot[])\n",
        "# df_model_2 = pd.concat([df_onehot, df_model_1], axis=1)\n"
      ]
    },
    {
      "cell_type": "code",
      "execution_count": 130,
      "metadata": {
        "id": "O8XVhBhpIQr2"
      },
      "outputs": [],
      "source": [
        "# df_model_2"
      ]
    },
    {
      "cell_type": "code",
      "execution_count": 131,
      "metadata": {
        "id": "v14ExXpGhIrW"
      },
      "outputs": [],
      "source": [
        "df_model_2 = df_model_1.copy()"
      ]
    },
    {
      "cell_type": "code",
      "execution_count": 132,
      "metadata": {
        "id": "VqUnGeFHhIrW"
      },
      "outputs": [],
      "source": [
        "df_model_3 = df_model_2.drop(columns = ['street', 'weather_main', 'weather_description', 'temp_min', 'temp_max','feels_like',\n",
        "                                        'weather_icon','season','weekDay', 'dayTimeInterval', 'temp_min', 'temp_max'\n",
        "                                        ,'weather_id'])"
      ]
    },
    {
      "cell_type": "code",
      "execution_count": 133,
      "metadata": {
        "id": "9RPlC93mhIrX"
      },
      "outputs": [],
      "source": [
        "### ready for model "
      ]
    },
    {
      "cell_type": "code",
      "execution_count": 134,
      "metadata": {
        "colab": {
          "base_uri": "https://localhost:8080/"
        },
        "id": "b0NqLenli2w3",
        "outputId": "b1f0f7bc-4fa4-4911-e00c-235ffc8634fe"
      },
      "outputs": [
        {
          "output_type": "execute_result",
          "data": {
            "text/plain": [
              "Index(['regularSpeed', 'jamLevel', 'temp', 'pressure', 'humidity',\n",
              "       'wind_speed', 'wind_deg', 'clouds_all', 'HourTime', 'NextJamLevel',\n",
              "       'street_encode', 'weather_icon_encode', 'weekDay_encode',\n",
              "       'weather_description_encode', 'season_encode',\n",
              "       'dayTimeIntervaln_encode', 'weather_target', 'weather_desc_target'],\n",
              "      dtype='object')"
            ]
          },
          "metadata": {},
          "execution_count": 134
        }
      ],
      "source": [
        "df_model_3.columns"
      ]
    },
    {
      "cell_type": "code",
      "execution_count": 135,
      "metadata": {
        "colab": {
          "base_uri": "https://localhost:8080/"
        },
        "id": "61T8I2OZCFjW",
        "outputId": "fff4e9fc-5234-4bfe-fa31-dc5bf0ba80bf"
      },
      "outputs": [
        {
          "output_type": "execute_result",
          "data": {
            "text/plain": [
              "18"
            ]
          },
          "metadata": {},
          "execution_count": 135
        }
      ],
      "source": [
        "len(df_model_3.columns)"
      ]
    },
    {
      "cell_type": "markdown",
      "metadata": {
        "id": "5eK1EdunNjjl"
      },
      "source": [
        "#### Rescaling (Z-Score normalization)"
      ]
    },
    {
      "cell_type": "markdown",
      "source": [
        "Feature Scaling is a method of standardizing the orientation of different variables or features of data. It is more commonly used in data processing and is also called Data Normalization. The purpose is mainly to cancel the errors caused by the different dimensions, which are all linear changes, and they are all compressed in proportion to the vector x for translation. There are two main functions:\n",
        "\n",
        "Data co-chemotaxis processing: Turn the data into decimals in a fixed interval (0,1) or (-1,1), and map the data to a fixed range for processing, which is more convenient and faster;\n",
        "Dimensionless processing: change the dimensional expression into a dimensionless expression, which is convenient for comparing and weighting the parameters of different units or magnitudes.\n",
        "\n",
        "Here we use the Z-score normalization method (Z-score Normalization), which is based on the homogenous X_mean and standard deviation X_std of the original data X of the attribute A to standardize the data, which is suitable for the maximum value X_Max and X_Max of the attribute A The case where the minimum value X_Min is unknown, or there is outlier data that exceeds the value range.\n",
        "\n"
      ],
      "metadata": {
        "id": "pcW910ST9pvB"
      }
    },
    {
      "cell_type": "code",
      "execution_count": 136,
      "metadata": {
        "id": "vXRBNxPwJiaD"
      },
      "outputs": [],
      "source": [
        "from sklearn import preprocessing\n",
        "cols = ['regularSpeed', 'temp', 'pressure', 'humidity', 'wind_speed', 'wind_deg', 'clouds_all']\n",
        "\n",
        "z_scaler= preprocessing.StandardScaler()\n",
        "\n",
        "df = df_model_3\n",
        "for item in cols:\n",
        "  df[item] = z_scaler.fit_transform(np.array(df[item]).reshape(-1, 1))"
      ]
    },
    {
      "cell_type": "code",
      "execution_count": 137,
      "metadata": {
        "colab": {
          "base_uri": "https://localhost:8080/",
          "height": 444
        },
        "id": "Ka9y_pXfr95M",
        "outputId": "b2505bfc-7771-4f75-fd8a-61fb50902026"
      },
      "outputs": [
        {
          "output_type": "execute_result",
          "data": {
            "text/html": [
              "<div>\n",
              "<style scoped>\n",
              "    .dataframe tbody tr th:only-of-type {\n",
              "        vertical-align: middle;\n",
              "    }\n",
              "\n",
              "    .dataframe tbody tr th {\n",
              "        vertical-align: top;\n",
              "    }\n",
              "\n",
              "    .dataframe thead th {\n",
              "        text-align: right;\n",
              "    }\n",
              "</style>\n",
              "<table border=\"1\" class=\"dataframe\">\n",
              "  <thead>\n",
              "    <tr style=\"text-align: right;\">\n",
              "      <th></th>\n",
              "      <th>regularSpeed</th>\n",
              "      <th>jamLevel</th>\n",
              "      <th>temp</th>\n",
              "      <th>pressure</th>\n",
              "      <th>humidity</th>\n",
              "      <th>wind_speed</th>\n",
              "      <th>wind_deg</th>\n",
              "      <th>clouds_all</th>\n",
              "      <th>HourTime</th>\n",
              "      <th>NextJamLevel</th>\n",
              "      <th>street_encode</th>\n",
              "      <th>weather_icon_encode</th>\n",
              "      <th>weekDay_encode</th>\n",
              "      <th>weather_description_encode</th>\n",
              "      <th>season_encode</th>\n",
              "      <th>dayTimeIntervaln_encode</th>\n",
              "      <th>weather_target</th>\n",
              "      <th>weather_desc_target</th>\n",
              "    </tr>\n",
              "  </thead>\n",
              "  <tbody>\n",
              "    <tr>\n",
              "      <th>0</th>\n",
              "      <td>0.284454</td>\n",
              "      <td>0</td>\n",
              "      <td>-2.313024</td>\n",
              "      <td>0.696093</td>\n",
              "      <td>0.891624</td>\n",
              "      <td>-0.404654</td>\n",
              "      <td>-1.187749</td>\n",
              "      <td>1.359196</td>\n",
              "      <td>1</td>\n",
              "      <td>0</td>\n",
              "      <td>26</td>\n",
              "      <td>7</td>\n",
              "      <td>5</td>\n",
              "      <td>20</td>\n",
              "      <td>3</td>\n",
              "      <td>1</td>\n",
              "      <td>0.162730</td>\n",
              "      <td>0.111350</td>\n",
              "    </tr>\n",
              "    <tr>\n",
              "      <th>1</th>\n",
              "      <td>0.284454</td>\n",
              "      <td>0</td>\n",
              "      <td>-2.312116</td>\n",
              "      <td>0.847607</td>\n",
              "      <td>0.978152</td>\n",
              "      <td>-0.129421</td>\n",
              "      <td>-1.187749</td>\n",
              "      <td>1.359196</td>\n",
              "      <td>2</td>\n",
              "      <td>0</td>\n",
              "      <td>26</td>\n",
              "      <td>15</td>\n",
              "      <td>5</td>\n",
              "      <td>17</td>\n",
              "      <td>3</td>\n",
              "      <td>1</td>\n",
              "      <td>0.408341</td>\n",
              "      <td>0.343604</td>\n",
              "    </tr>\n",
              "    <tr>\n",
              "      <th>2</th>\n",
              "      <td>0.284454</td>\n",
              "      <td>0</td>\n",
              "      <td>-2.313932</td>\n",
              "      <td>0.696093</td>\n",
              "      <td>1.064681</td>\n",
              "      <td>-0.129421</td>\n",
              "      <td>-1.187749</td>\n",
              "      <td>1.359196</td>\n",
              "      <td>3</td>\n",
              "      <td>0</td>\n",
              "      <td>26</td>\n",
              "      <td>15</td>\n",
              "      <td>5</td>\n",
              "      <td>17</td>\n",
              "      <td>3</td>\n",
              "      <td>1</td>\n",
              "      <td>0.408341</td>\n",
              "      <td>0.343604</td>\n",
              "    </tr>\n",
              "    <tr>\n",
              "      <th>3</th>\n",
              "      <td>0.284454</td>\n",
              "      <td>0</td>\n",
              "      <td>-2.315748</td>\n",
              "      <td>0.696093</td>\n",
              "      <td>1.151209</td>\n",
              "      <td>-0.949003</td>\n",
              "      <td>-1.577530</td>\n",
              "      <td>1.359196</td>\n",
              "      <td>4</td>\n",
              "      <td>0</td>\n",
              "      <td>26</td>\n",
              "      <td>15</td>\n",
              "      <td>5</td>\n",
              "      <td>17</td>\n",
              "      <td>3</td>\n",
              "      <td>5</td>\n",
              "      <td>0.408341</td>\n",
              "      <td>0.343604</td>\n",
              "    </tr>\n",
              "    <tr>\n",
              "      <th>4</th>\n",
              "      <td>0.284454</td>\n",
              "      <td>0</td>\n",
              "      <td>-2.322105</td>\n",
              "      <td>0.544578</td>\n",
              "      <td>1.151209</td>\n",
              "      <td>-0.949003</td>\n",
              "      <td>-1.577530</td>\n",
              "      <td>0.945995</td>\n",
              "      <td>5</td>\n",
              "      <td>0</td>\n",
              "      <td>26</td>\n",
              "      <td>15</td>\n",
              "      <td>5</td>\n",
              "      <td>17</td>\n",
              "      <td>3</td>\n",
              "      <td>5</td>\n",
              "      <td>0.408341</td>\n",
              "      <td>0.343604</td>\n",
              "    </tr>\n",
              "    <tr>\n",
              "      <th>...</th>\n",
              "      <td>...</td>\n",
              "      <td>...</td>\n",
              "      <td>...</td>\n",
              "      <td>...</td>\n",
              "      <td>...</td>\n",
              "      <td>...</td>\n",
              "      <td>...</td>\n",
              "      <td>...</td>\n",
              "      <td>...</td>\n",
              "      <td>...</td>\n",
              "      <td>...</td>\n",
              "      <td>...</td>\n",
              "      <td>...</td>\n",
              "      <td>...</td>\n",
              "      <td>...</td>\n",
              "      <td>...</td>\n",
              "      <td>...</td>\n",
              "      <td>...</td>\n",
              "    </tr>\n",
              "    <tr>\n",
              "      <th>27800</th>\n",
              "      <td>0.088647</td>\n",
              "      <td>0</td>\n",
              "      <td>0.715603</td>\n",
              "      <td>0.696093</td>\n",
              "      <td>-1.055268</td>\n",
              "      <td>-0.129421</td>\n",
              "      <td>0.135696</td>\n",
              "      <td>-1.092465</td>\n",
              "      <td>12</td>\n",
              "      <td>0</td>\n",
              "      <td>17</td>\n",
              "      <td>0</td>\n",
              "      <td>0</td>\n",
              "      <td>26</td>\n",
              "      <td>0</td>\n",
              "      <td>4</td>\n",
              "      <td>0.184309</td>\n",
              "      <td>0.184309</td>\n",
              "    </tr>\n",
              "    <tr>\n",
              "      <th>27801</th>\n",
              "      <td>0.088647</td>\n",
              "      <td>0</td>\n",
              "      <td>0.767366</td>\n",
              "      <td>0.393063</td>\n",
              "      <td>-1.098532</td>\n",
              "      <td>-0.129421</td>\n",
              "      <td>-0.544156</td>\n",
              "      <td>-1.092465</td>\n",
              "      <td>13</td>\n",
              "      <td>0</td>\n",
              "      <td>17</td>\n",
              "      <td>0</td>\n",
              "      <td>0</td>\n",
              "      <td>26</td>\n",
              "      <td>0</td>\n",
              "      <td>4</td>\n",
              "      <td>0.184309</td>\n",
              "      <td>0.184309</td>\n",
              "    </tr>\n",
              "    <tr>\n",
              "      <th>27802</th>\n",
              "      <td>0.088647</td>\n",
              "      <td>0</td>\n",
              "      <td>0.770091</td>\n",
              "      <td>0.393063</td>\n",
              "      <td>-1.141796</td>\n",
              "      <td>-0.404654</td>\n",
              "      <td>-0.453509</td>\n",
              "      <td>-1.092465</td>\n",
              "      <td>14</td>\n",
              "      <td>0</td>\n",
              "      <td>17</td>\n",
              "      <td>0</td>\n",
              "      <td>0</td>\n",
              "      <td>26</td>\n",
              "      <td>0</td>\n",
              "      <td>0</td>\n",
              "      <td>0.184309</td>\n",
              "      <td>0.184309</td>\n",
              "    </tr>\n",
              "    <tr>\n",
              "      <th>27803</th>\n",
              "      <td>0.088647</td>\n",
              "      <td>0</td>\n",
              "      <td>0.687451</td>\n",
              "      <td>0.241548</td>\n",
              "      <td>-1.141796</td>\n",
              "      <td>-0.404654</td>\n",
              "      <td>-0.235957</td>\n",
              "      <td>-1.092465</td>\n",
              "      <td>15</td>\n",
              "      <td>0</td>\n",
              "      <td>17</td>\n",
              "      <td>0</td>\n",
              "      <td>0</td>\n",
              "      <td>26</td>\n",
              "      <td>0</td>\n",
              "      <td>0</td>\n",
              "      <td>0.184309</td>\n",
              "      <td>0.184309</td>\n",
              "    </tr>\n",
              "    <tr>\n",
              "      <th>27804</th>\n",
              "      <td>0.088647</td>\n",
              "      <td>0</td>\n",
              "      <td>0.543965</td>\n",
              "      <td>0.241548</td>\n",
              "      <td>-1.055268</td>\n",
              "      <td>-0.673770</td>\n",
              "      <td>0.588930</td>\n",
              "      <td>-1.092465</td>\n",
              "      <td>16</td>\n",
              "      <td>0</td>\n",
              "      <td>17</td>\n",
              "      <td>0</td>\n",
              "      <td>0</td>\n",
              "      <td>26</td>\n",
              "      <td>0</td>\n",
              "      <td>0</td>\n",
              "      <td>0.184309</td>\n",
              "      <td>0.184309</td>\n",
              "    </tr>\n",
              "  </tbody>\n",
              "</table>\n",
              "<p>732870 rows × 18 columns</p>\n",
              "</div>"
            ],
            "text/plain": [
              "       regularSpeed  jamLevel  ...  weather_target  weather_desc_target\n",
              "0          0.284454         0  ...        0.162730             0.111350\n",
              "1          0.284454         0  ...        0.408341             0.343604\n",
              "2          0.284454         0  ...        0.408341             0.343604\n",
              "3          0.284454         0  ...        0.408341             0.343604\n",
              "4          0.284454         0  ...        0.408341             0.343604\n",
              "...             ...       ...  ...             ...                  ...\n",
              "27800      0.088647         0  ...        0.184309             0.184309\n",
              "27801      0.088647         0  ...        0.184309             0.184309\n",
              "27802      0.088647         0  ...        0.184309             0.184309\n",
              "27803      0.088647         0  ...        0.184309             0.184309\n",
              "27804      0.088647         0  ...        0.184309             0.184309\n",
              "\n",
              "[732870 rows x 18 columns]"
            ]
          },
          "metadata": {},
          "execution_count": 137
        }
      ],
      "source": [
        "df"
      ]
    },
    {
      "cell_type": "markdown",
      "source": [
        "#### Future Suggestion for Feature Engineering \n",
        "\n",
        "As we discussed above, there are many different methods for Encoding and feature scaling. In the subsequent model expansion, we propose the following suggestions, focusing on the directions that can be tried in the Feature Engineering section:\n",
        "\n",
        "1. Adopt other more effective encoding methods. Both target encoding and label encoding essentially introduce Y_label information in advance, which may lead to overfitting problems. For the over-fitting problem of Target Encoding, we can solve it through cross validation. Used in conjunction with Target Beta Encoding.\n",
        "\n",
        "2. Use other scaling methods, such as Min-Max normalization.\n",
        "\n",
        "3. Take feature intersection to construct more features. Here at the end we actually only used eighteen variables as our features, which is far from enough for complex predictions. We can adopt feature intersection methods (for example, using feature tools API) to construct more new features to further improve the accuracy of the model.\n"
      ],
      "metadata": {
        "id": "zOZa1U3vJ4Zx"
      }
    },
    {
      "cell_type": "code",
      "execution_count": 138,
      "metadata": {
        "id": "O2b2SXkjhIrX"
      },
      "outputs": [],
      "source": [
        "train_col_df = df.drop(columns = ['NextJamLevel'])\n",
        "\n",
        "# Set the train input and train output \n",
        "\n",
        "trainInput = train_col_df\n",
        "trainOutput = df['NextJamLevel']"
      ]
    },
    {
      "cell_type": "code",
      "execution_count": 139,
      "metadata": {
        "id": "ZhTQxzYzi9hO"
      },
      "outputs": [],
      "source": [
        "# Train Test Split \n",
        "X_train, X_test, y_train, y_test = train_test_split(trainInput, trainOutput, test_size=0.2, random_state=0)"
      ]
    },
    {
      "cell_type": "markdown",
      "source": [
        "#### DecisionTree"
      ],
      "metadata": {
        "id": "ewUAypxkAZds"
      }
    },
    {
      "cell_type": "code",
      "execution_count": 140,
      "metadata": {
        "colab": {
          "base_uri": "https://localhost:8080/"
        },
        "id": "ORM1sftEjAl5",
        "outputId": "07439f07-f342-41c9-accb-23468e1ef8b8"
      },
      "outputs": [
        {
          "output_type": "execute_result",
          "data": {
            "text/plain": [
              "DecisionTreeClassifier(max_depth=20, random_state=1)"
            ]
          },
          "metadata": {},
          "execution_count": 140
        }
      ],
      "source": [
        "# DecisionTree Model\n",
        "DT = DecisionTreeClassifier(random_state=1, criterion=\"gini\", max_depth = 20)\n",
        "DT.fit(X_train,y_train)"
      ]
    },
    {
      "cell_type": "code",
      "execution_count": 141,
      "metadata": {
        "id": "_CEV6vknjCj2"
      },
      "outputs": [],
      "source": [
        "acu_test = DT.score(X_test, y_test)\n",
        "acu_train = DT.score(X_train, y_train)"
      ]
    },
    {
      "cell_type": "code",
      "execution_count": 142,
      "metadata": {
        "colab": {
          "base_uri": "https://localhost:8080/"
        },
        "id": "4cKwqKJrjgVd",
        "outputId": "1e572f4d-c6c7-4208-879a-a1458b753ec3"
      },
      "outputs": [
        {
          "output_type": "stream",
          "name": "stdout",
          "text": [
            "0.98670978481859\n"
          ]
        }
      ],
      "source": [
        "print(acu_train)"
      ]
    },
    {
      "cell_type": "markdown",
      "metadata": {
        "id": "a1iGLiqEi6yJ"
      },
      "source": [
        "#### Random Forest"
      ]
    },
    {
      "cell_type": "code",
      "execution_count": 143,
      "metadata": {
        "colab": {
          "base_uri": "https://localhost:8080/"
        },
        "id": "GwUY92Rfi9nT",
        "outputId": "7d7a1212-b171-496f-c8ab-3e0bf6d4f62d"
      },
      "outputs": [
        {
          "output_type": "stream",
          "name": "stdout",
          "text": [
            "RandomForest Model accuracy score: 0.9722\n"
          ]
        }
      ],
      "source": [
        "# RandomForest Model\n",
        "RF = RandomForestClassifier()\n",
        "RF.fit(X_train,y_train)\n",
        "\n",
        "# predict the results\n",
        "y_pred = RF.predict(X_test)\n",
        "\n",
        "# view accuracy\n",
        "from sklearn.metrics import accuracy_score\n",
        "accuracy=accuracy_score(y_pred, y_test)\n",
        "print('RandomForest Model accuracy score: {0:0.4f}'.format(accuracy_score(y_test, y_pred)))"
      ]
    },
    {
      "cell_type": "code",
      "execution_count": 144,
      "metadata": {
        "colab": {
          "base_uri": "https://localhost:8080/"
        },
        "id": "W1ot7adym4MI",
        "outputId": "0b7289cc-431f-4b06-de88-9c08106c45f8"
      },
      "outputs": [
        {
          "output_type": "stream",
          "name": "stdout",
          "text": [
            "Training set score: 0.9916\n",
            "Test set score: 0.9722\n"
          ]
        }
      ],
      "source": [
        "print('Training set score: {:.4f}'.format(RF.score(X_train, y_train)))\n",
        "\n",
        "print('Test set score: {:.4f}'.format(RF.score(X_test, y_test)))"
      ]
    },
    {
      "cell_type": "code",
      "execution_count": 145,
      "metadata": {
        "colab": {
          "base_uri": "https://localhost:8080/"
        },
        "id": "nHuwVVOsm6hK",
        "outputId": "c54ae587-36a5-457f-97ee-61c73323df15"
      },
      "outputs": [
        {
          "output_type": "stream",
          "name": "stdout",
          "text": [
            "              precision    recall  f1-score   support\n",
            "\n",
            "           0       1.00      1.00      1.00    134810\n",
            "           1       0.78      0.78      0.78      2499\n",
            "           2       0.57      0.54      0.55      2278\n",
            "           3       0.58      0.56      0.57      3000\n",
            "           4       0.77      0.77      0.77      3987\n",
            "\n",
            "    accuracy                           0.97    146574\n",
            "   macro avg       0.74      0.73      0.74    146574\n",
            "weighted avg       0.97      0.97      0.97    146574\n",
            "\n"
          ]
        }
      ],
      "source": [
        "from sklearn.metrics import confusion_matrix\n",
        "cm = confusion_matrix(y_test, y_pred)\n",
        "\n",
        "from sklearn.metrics import classification_report\n",
        "print(classification_report(y_test, y_pred))"
      ]
    },
    {
      "cell_type": "markdown",
      "metadata": {
        "id": "QaovIEnKi3z3"
      },
      "source": [
        "#### Lightgbm"
      ]
    },
    {
      "cell_type": "markdown",
      "source": [
        " We tried many different models, decision tree, KNN, random forest and LightGBM. Among them, we found that with the default parameters, LightGBM performed better than other models.\n",
        "\n",
        "At the beginning, we tried a variety of models with a small sample data set, and found that the highest AUC was LightGBM. But it is worth noting that because we are facing an unbalanced sample, we need to look at the specific indicators of each category in the case of multi-classification.\n",
        "\n",
        "Among them, the comprehensive index used to select the model is Macro Average. Macro Average will first calculate the evaluation indicators such as Precision, Recall, F1 Score for each category, and then average them to get Macro Precision, Macro Recall, Macro F1. This indicator will take into account the contributions of all categories and is suitable for evaluating the effect of the model in the case of multiple classifications. Through the comparison of Figure 20 and Figure 21, we can find that the effect of LightGBM is slightly better than Random Forest, which is mainly reflected in the classification of categories 1 and 2.\n",
        "\n"
      ],
      "metadata": {
        "id": "IAcHuusqNRxy"
      }
    },
    {
      "cell_type": "code",
      "execution_count": 146,
      "metadata": {
        "colab": {
          "base_uri": "https://localhost:8080/"
        },
        "id": "h46-WPiLFYiZ",
        "outputId": "d430ab18-dafb-4574-af50-0a30eef8dde0"
      },
      "outputs": [
        {
          "output_type": "execute_result",
          "data": {
            "text/plain": [
              "LGBMClassifier()"
            ]
          },
          "metadata": {},
          "execution_count": 146
        }
      ],
      "source": [
        "import lightgbm as lgb\n",
        "\n",
        "### lgbm\n",
        "lgbm = lgb.LGBMClassifier()\n",
        "lgbm.fit(X_train, y_train)"
      ]
    },
    {
      "cell_type": "code",
      "execution_count": 147,
      "metadata": {
        "id": "-KuxOXIEFdaV"
      },
      "outputs": [],
      "source": [
        "# predict the results\n",
        "y_pred = lgbm.predict(X_test)"
      ]
    },
    {
      "cell_type": "code",
      "execution_count": 148,
      "metadata": {
        "colab": {
          "base_uri": "https://localhost:8080/"
        },
        "id": "-V-OmAQaFxWH",
        "outputId": "04596013-f6c1-4f9f-8db0-c16d543acf9c"
      },
      "outputs": [
        {
          "output_type": "stream",
          "name": "stdout",
          "text": [
            "LightGBM Model accuracy score: 0.9722\n"
          ]
        }
      ],
      "source": [
        "# view accuracy\n",
        "from sklearn.metrics import accuracy_score\n",
        "accuracy=accuracy_score(y_pred, y_test)\n",
        "print('LightGBM Model accuracy score: {0:0.4f}'.format(accuracy_score(y_test, y_pred)))"
      ]
    },
    {
      "cell_type": "code",
      "execution_count": 149,
      "metadata": {
        "colab": {
          "base_uri": "https://localhost:8080/"
        },
        "id": "7wgvfa-_FzUs",
        "outputId": "2250267a-ed41-4918-9340-c8c10f3bfa02"
      },
      "outputs": [
        {
          "output_type": "stream",
          "name": "stdout",
          "text": [
            "Training set score: 0.9745\n",
            "Test set score: 0.9722\n"
          ]
        }
      ],
      "source": [
        "print('Training set score: {:.4f}'.format(lgbm.score(X_train, y_train)))\n",
        "\n",
        "print('Test set score: {:.4f}'.format(lgbm.score(X_test, y_test)))"
      ]
    },
    {
      "cell_type": "code",
      "execution_count": 150,
      "metadata": {
        "id": "IJANEg6EF3kQ"
      },
      "outputs": [],
      "source": [
        "from sklearn.metrics import confusion_matrix\n",
        "cm = confusion_matrix(y_test, y_pred)"
      ]
    },
    {
      "cell_type": "code",
      "execution_count": 151,
      "metadata": {
        "colab": {
          "base_uri": "https://localhost:8080/"
        },
        "id": "9ZR1Iz1HF8bg",
        "outputId": "ad5a2e70-2800-4ebb-ebe2-bbbb0b0e410b"
      },
      "outputs": [
        {
          "output_type": "stream",
          "name": "stdout",
          "text": [
            "              precision    recall  f1-score   support\n",
            "\n",
            "           0       1.00      1.00      1.00    134810\n",
            "           1       0.82      0.79      0.80      2499\n",
            "           2       0.61      0.52      0.56      2278\n",
            "           3       0.56      0.60      0.58      3000\n",
            "           4       0.73      0.79      0.76      3987\n",
            "\n",
            "    accuracy                           0.97    146574\n",
            "   macro avg       0.74      0.74      0.74    146574\n",
            "weighted avg       0.97      0.97      0.97    146574\n",
            "\n"
          ]
        }
      ],
      "source": [
        "from sklearn.metrics import classification_report\n",
        "print(classification_report(y_test, y_pred))"
      ]
    },
    {
      "cell_type": "markdown",
      "metadata": {
        "id": "8tWWei8D0QOe"
      },
      "source": [
        "#### Feature Importance "
      ]
    },
    {
      "cell_type": "markdown",
      "source": [
        "The Feature Importance here shows which features help us better predict blockages, for example In this picture, temperature and regular speed of the road are actually the two most useful information. The interpretation here also provides some direction for future model expands. It tells us that historical and current traffic information will be very helpful to model predictions.\n"
      ],
      "metadata": {
        "id": "ZS-H6fTpOWTp"
      }
    },
    {
      "cell_type": "code",
      "execution_count": 152,
      "metadata": {
        "colab": {
          "base_uri": "https://localhost:8080/",
          "height": 621
        },
        "id": "5EwljdmT1Psy",
        "outputId": "8feb942c-e258-4463-90eb-caff1474e206"
      },
      "outputs": [
        {
          "output_type": "display_data",
          "data": {
            "image/png": "[encoded data removed]",
            "text/plain": [
              "<Figure size 720x720 with 1 Axes>"
            ]
          },
          "metadata": {
            "needs_background": "light"
          }
        }
      ],
      "source": [
        "def plot_feature_importance(importance,names,model_type):\n",
        "  #Create arrays from feature importance and feature names\n",
        "  feature_importance = np.array(importance)\n",
        "  feature_names = np.array(names)\n",
        "\n",
        "  #Create a DataFrame using a Dictionary\n",
        "  data={'feature_names':feature_names,'feature_importance':feature_importance}\n",
        "  fi_df = pd.DataFrame(data)\n",
        "\n",
        "  #Sort the DataFrame in order decreasing feature importance\n",
        "  fi_df.sort_values(by=['feature_importance'], ascending=False,inplace=True)\n",
        "\n",
        "  #Define size of bar plot\n",
        "  plt.figure(figsize=(10,10))\n",
        "  #Plot Searborn bar chart\n",
        "  sns.barplot(x=fi_df['feature_importance'], y=fi_df['feature_names'])\n",
        "  #Add chart labels\n",
        "  plt.title(model_type + 'FEATURE IMPORTANCE')\n",
        "  plt.xlabel('FEATURE IMPORTANCE')\n",
        "  plt.ylabel('FEATURE NAMES')\n",
        "\n",
        "plot_feature_importance(lgbm.feature_importances_,X_train.columns,'LightGBM')"
      ]
    },
    {
      "cell_type": "markdown",
      "metadata": {
        "id": "byyWN9W-0SUr"
      },
      "source": [
        "#### Tunning Model - HyperOpt"
      ]
    },
    {
      "cell_type": "code",
      "execution_count": null,
      "metadata": {
        "id": "agoBp_0c2Bqk"
      },
      "outputs": [],
      "source": [
        "from sklearn.model_selection import cross_validate\n",
        "def eval_model(params, X_train, y_train):\n",
        "  model = lgb.LGBMClassifier(**params)\n",
        "  cv_lgb_results = cross_validate(model, X_train, y_train, cv = 3, scoring='roc_auc_ovr')\n",
        "  res = np.mean(cv_lgb_results['test_score'])\n",
        "  print(res)\n",
        "  return 1 - res"
      ]
    },
    {
      "cell_type": "code",
      "execution_count": null,
      "metadata": {
        "id": "m-UILBBF2FLJ"
      },
      "outputs": [],
      "source": [
        "from hyperopt import fmin, hp, tpe, Trials, space_eval\n",
        "from hyperopt.pyll import scope as ho_scope\n",
        "from hyperopt.pyll.stochastic import sample as ho_sample"
      ]
    },
    {
      "cell_type": "code",
      "execution_count": null,
      "metadata": {
        "id": "xqO06IO32M4n"
      },
      "outputs": [],
      "source": [
        "space = {\n",
        "        # number of trees and learning rate -------------\n",
        "        'n_estimators': ho_scope.int(hp.quniform('n_estimators',300,800,100)), # eval autotune\n",
        "        'learning_rate': hp.loguniform('learning_rate',np.log(1e-5),np.log(0.05)), # eval autotune\n",
        "        # tree depth ------------------------------------\n",
        "        'max_depth':  ho_scope.int(hp.quniform('max_depth',30,80,10)),\n",
        "        # 'num_leaves': hp.choice(label = 'num_leaves', options = [15, 31, 63, 127, 255, 511, 1023, 2047, 4095]),\n",
        "        'min_child_weight':  ho_scope.int(hp.quniform('min_child_weight',0,X_train.shape[0]/100,1)),\n",
        "        # conservative update step ----------------------\n",
        "        ##'max_delta_step': ho_scope.int(hp.quniform('max_delta_step',1,10,1)),\n",
        "        # sampling --------------------------------------\n",
        "        'subsample': hp.uniform('subsample',0.4,1), \n",
        "        'colsample_bytree': hp.uniform('colsample_bytree',0.4,1),\n",
        "        #'feature_fraction': hp.uniform('feature_fraction',0.2,0.7),\n",
        "        # regularization --------------------------------\n",
        "        'reg_lambda': hp.loguniform('reg_lambda',np.log(1e-4),np.log(10)),\n",
        "        'reg_alpha': hp.loguniform('reg_alpha',np.log(1e-4),np.log(10)),\n",
        "        'min_gain_to_split': hp.loguniform('min_gain_to_split',np.log(1e-4),np.log(2)),\n",
        "        # specific lgbm ---------------------------------\n",
        "        'min_child_samples': ho_scope.int(hp.quniform('min_child_samples',500,1500,200))}\n",
        "        # set weights for balancing ---------------------\n",
        "        # 'scale_pos_weight' : ho_scope.int(hp.loguniform('scale_pos_weight',np.log(1),np.log(scale_pos_weight_max)))\n",
        "        "
      ]
    },
    {
      "cell_type": "code",
      "execution_count": null,
      "metadata": {
        "colab": {
          "base_uri": "https://localhost:8080/"
        },
        "id": "2XrHYuWM2NXj",
        "outputId": "425077e2-45fd-47aa-a637-1b8dc13bd822"
      },
      "outputs": [
        {
          "name": "stdout",
          "output_type": "stream",
          "text": [
            "0.9753359330053258\n",
            "0.975031963042677\n",
            "0.9905341950790132\n",
            "0.9849788254013024\n",
            "0.9915516477367529\n",
            "0.975265320373239\n",
            "0.9896110904092404\n",
            "0.9891624608586661\n",
            "0.9896627716990899\n",
            "0.9880912063297647\n",
            "0.9898744147205577\n",
            "0.988895619884851\n",
            "0.9748352638889982\n",
            "0.9869350878623958\n",
            "0.9900936193267653\n",
            "0.9901781114092657\n",
            "0.9842429517013045\n",
            "0.9220916590771108\n",
            "0.9842011549862834\n",
            "0.9760639159138815\n",
            "0.9914570336956295\n",
            "0.9913011572489118\n",
            "0.9222832257715862\n",
            "0.9905900888443684\n",
            "0.9921819162411296\n",
            "0.9917238263430862\n",
            "0.9870676344211139\n",
            "0.9918574718429399\n",
            "0.9902823028319023\n",
            "0.9898814920794856\n",
            "100%|██████████| 30/30 [1:26:35<00:00, 173.19s/it, best loss: 0.007818083758870387]\n"
          ]
        }
      ],
      "source": [
        "from functools import partial\n",
        "optimization = fmin(fn = partial(eval_model, X_train = X_train, y_train = y_train),\n",
        "                  space = space, \n",
        "                  algo = tpe.suggest,\n",
        "                  max_evals = 30, \n",
        "                  rstate = np.random.RandomState(42))"
      ]
    },
    {
      "cell_type": "code",
      "execution_count": null,
      "metadata": {
        "colab": {
          "base_uri": "https://localhost:8080/"
        },
        "id": "KPunFIZnYZup",
        "outputId": "f7845ac5-5181-4b1e-b808-14959fd28501"
      },
      "outputs": [
        {
          "data": {
            "text/plain": [
              "{'colsample_bytree': 0.6751966726310349,\n",
              " 'learning_rate': 0.008737261877660378,\n",
              " 'max_depth': 80.0,\n",
              " 'min_child_samples': 1200.0,\n",
              " 'min_child_weight': 14.0,\n",
              " 'min_gain_to_split': 0.20606376549064742,\n",
              " 'n_estimators': 600.0,\n",
              " 'reg_alpha': 0.08301175114657587,\n",
              " 'reg_lambda': 0.06157348900901955,\n",
              " 'subsample': 0.8549620643957405}"
            ]
          },
          "execution_count": 200,
          "metadata": {},
          "output_type": "execute_result"
        }
      ],
      "source": [
        "optimization"
      ]
    },
    {
      "cell_type": "markdown",
      "metadata": {
        "id": "hYEl4EPS_d8P"
      },
      "source": [
        "#### Under-sampling"
      ]
    },
    {
      "cell_type": "markdown",
      "metadata": {
        "id": "mqYAE2Xfj4PH"
      },
      "source": [
        "##### RUSBoostClassifier"
      ]
    },
    {
      "cell_type": "code",
      "execution_count": null,
      "metadata": {
        "colab": {
          "base_uri": "https://localhost:8080/"
        },
        "id": "hw_PRy9liuUK",
        "outputId": "4d4dcc6e-e47b-42ac-af7a-c39615d985ce"
      },
      "outputs": [
        {
          "data": {
            "text/plain": [
              "RUSBoostClassifier(random_state=0)"
            ]
          },
          "execution_count": 252,
          "metadata": {},
          "output_type": "execute_result"
        }
      ],
      "source": [
        "from imblearn.ensemble import RUSBoostClassifier\n",
        "rusboost = RUSBoostClassifier(random_state=0)\n",
        "rusboost.fit(X_train, y_train)"
      ]
    },
    {
      "cell_type": "code",
      "execution_count": null,
      "metadata": {
        "colab": {
          "base_uri": "https://localhost:8080/"
        },
        "id": "9y9DMFtKizag",
        "outputId": "82bcd272-7d42-48c7-d25d-2abd925f52fe"
      },
      "outputs": [
        {
          "name": "stdout",
          "output_type": "stream",
          "text": [
            "              precision    recall  f1-score   support\n",
            "\n",
            "           0       0.98      0.97      0.97    134810\n",
            "           1       0.56      0.50      0.53      2499\n",
            "           2       0.42      0.27      0.33      2278\n",
            "           3       0.47      0.42      0.44      3000\n",
            "           4       0.35      0.56      0.43      3987\n",
            "\n",
            "    accuracy                           0.93    146574\n",
            "   macro avg       0.56      0.54      0.54    146574\n",
            "weighted avg       0.93      0.93      0.93    146574\n",
            "\n"
          ]
        }
      ],
      "source": [
        "# predict the results\n",
        "y_pred = rusboost.predict(X_test)\n",
        "\n",
        "from sklearn.metrics import confusion_matrix\n",
        "cm = confusion_matrix(y_test, y_pred)\n",
        "\n",
        "from sklearn.metrics import classification_report\n",
        "print(classification_report(y_test, y_pred))"
      ]
    },
    {
      "cell_type": "markdown",
      "metadata": {
        "id": "AgC4bk17jvw9"
      },
      "source": [
        "##### BalancedRandomForestClassifier"
      ]
    },
    {
      "cell_type": "code",
      "execution_count": null,
      "metadata": {
        "colab": {
          "base_uri": "https://localhost:8080/"
        },
        "id": "hVk8LJ9fjovf",
        "outputId": "a5c4ebc8-4deb-42ed-ebdd-25fd3e1ce108"
      },
      "outputs": [
        {
          "output_type": "execute_result",
          "data": {
            "text/plain": [
              "BalancedRandomForestClassifier()"
            ]
          },
          "metadata": {},
          "execution_count": 190
        }
      ],
      "source": [
        "from imblearn.ensemble import BalancedRandomForestClassifier\n",
        "\n",
        "brf = BalancedRandomForestClassifier()\n",
        "\n",
        "brf.fit(X_train, y_train)"
      ]
    },
    {
      "cell_type": "code",
      "execution_count": null,
      "metadata": {
        "colab": {
          "base_uri": "https://localhost:8080/"
        },
        "id": "wqiG8mbajoyJ",
        "outputId": "3919cc75-e775-4166-bb47-5feecddf88f8"
      },
      "outputs": [
        {
          "output_type": "stream",
          "name": "stdout",
          "text": [
            "              precision    recall  f1-score   support\n",
            "\n",
            "           0       1.00      0.99      0.99    134810\n",
            "           1       0.66      0.79      0.72      2499\n",
            "           2       0.48      0.60      0.53      2278\n",
            "           3       0.52      0.58      0.55      3000\n",
            "           4       0.79      0.74      0.76      3987\n",
            "\n",
            "    accuracy                           0.97    146574\n",
            "   macro avg       0.69      0.74      0.71    146574\n",
            "weighted avg       0.97      0.97      0.97    146574\n",
            "\n"
          ]
        }
      ],
      "source": [
        "# predict the results\n",
        "y_pred = brf.predict(X_test)\n",
        "\n",
        "from sklearn.metrics import confusion_matrix\n",
        "cm = confusion_matrix(y_test, y_pred)\n",
        "\n",
        "from sklearn.metrics import classification_report\n",
        "print(classification_report(y_test, y_pred))"
      ]
    },
    {
      "cell_type": "markdown",
      "metadata": {
        "id": "yUIDKxk8j8yt"
      },
      "source": [
        "##### RandomUnderSampler"
      ]
    },
    {
      "cell_type": "code",
      "execution_count": null,
      "metadata": {
        "id": "rfwuxjMBkHaN"
      },
      "outputs": [],
      "source": [
        "from imblearn.under_sampling import RandomUnderSampler \n",
        "rus = RandomUnderSampler(sampling_strategy='majority', random_state = 1)\n",
        "X_res, y_res = rus.fit_resample(X_train, y_train)"
      ]
    },
    {
      "cell_type": "code",
      "execution_count": null,
      "metadata": {
        "colab": {
          "base_uri": "https://localhost:8080/"
        },
        "id": "W4eng-Au_d8Q",
        "outputId": "caa0dc6e-4a8b-499a-ce2d-f0372965f408"
      },
      "outputs": [
        {
          "output_type": "stream",
          "name": "stdout",
          "text": [
            "              precision    recall  f1-score   support\n",
            "\n",
            "           0       1.00      0.98      0.99    134810\n",
            "           1       0.69      0.79      0.74      2499\n",
            "           2       0.57      0.51      0.54      2278\n",
            "           3       0.43      0.62      0.50      3000\n",
            "           4       0.72      0.79      0.76      3987\n",
            "\n",
            "    accuracy                           0.96    146574\n",
            "   macro avg       0.68      0.74      0.71    146574\n",
            "weighted avg       0.97      0.96      0.96    146574\n",
            "\n"
          ]
        }
      ],
      "source": [
        "import lightgbm as lgb\n",
        "\n",
        "### lgbm\n",
        "lgbm = lgb.LGBMClassifier()\n",
        "lgbm.fit(X_res, y_res)\n",
        "\n",
        "# predict the results\n",
        "y_pred = lgbm.predict(X_test)\n",
        "\n",
        "from sklearn.metrics import confusion_matrix\n",
        "cm = confusion_matrix(y_test, y_pred)\n",
        "\n",
        "from sklearn.metrics import classification_report\n",
        "print(classification_report(y_test, y_pred))"
      ]
    },
    {
      "cell_type": "markdown",
      "source": [
        "#### Over-sampling - \bSMOTE"
      ],
      "metadata": {
        "id": "cmTydaO3NJ98"
      }
    },
    {
      "cell_type": "code",
      "source": [
        "from imblearn.over_sampling import SMOTE"
      ],
      "metadata": {
        "id": "sh8CE9yqSSpW"
      },
      "execution_count": null,
      "outputs": []
    },
    {
      "cell_type": "code",
      "source": [
        "len(X_train)"
      ],
      "metadata": {
        "colab": {
          "base_uri": "https://localhost:8080/"
        },
        "id": "adFnngytTI1x",
        "outputId": "906d0860-198c-4680-8102-af09c9e57fd7"
      },
      "execution_count": null,
      "outputs": [
        {
          "output_type": "execute_result",
          "data": {
            "text/plain": [
              "586296"
            ]
          },
          "metadata": {},
          "execution_count": 198
        }
      ]
    },
    {
      "cell_type": "code",
      "source": [
        "Smote_X_train = X_train[:400000]\n",
        "Smote_y_train = y_train[:400000]"
      ],
      "metadata": {
        "id": "WCzrdZ33TGbP"
      },
      "execution_count": null,
      "outputs": []
    },
    {
      "cell_type": "code",
      "source": [
        "# Check it again after SMOTE\n",
        "smo = SMOTE()\n",
        "X_smo, y_smo = smo.fit_resample(Smote_X_train, Smote_y_train)\n",
        "\n",
        "print(Counter(y_smo))"
      ],
      "metadata": {
        "colab": {
          "base_uri": "https://localhost:8080/"
        },
        "id": "NmhMWAAOSSry",
        "outputId": "9f871f4e-1670-421d-e460-5a917fc87c16"
      },
      "execution_count": null,
      "outputs": [
        {
          "output_type": "stream",
          "name": "stdout",
          "text": [
            "Counter({4: 368704, 0: 368704, 2: 368704, 1: 368704, 3: 368704})\n"
          ]
        }
      ]
    },
    {
      "cell_type": "code",
      "source": [
        "import lightgbm as lgb\n",
        "\n",
        "### lgbm\n",
        "lgbm = lgb.LGBMClassifier()\n",
        "lgbm.fit(X_smo, y_smo)\n",
        "\n",
        "# predict the results\n",
        "y_pred = lgbm.predict(X_test)\n",
        "\n",
        "from sklearn.metrics import confusion_matrix\n",
        "cm = confusion_matrix(y_test, y_pred)\n",
        "\n",
        "from sklearn.metrics import classification_report\n",
        "print(classification_report(y_test, y_pred))"
      ],
      "metadata": {
        "colab": {
          "base_uri": "https://localhost:8080/"
        },
        "id": "51RfqapxSSuM",
        "outputId": "03ec76f1-cc68-416b-aa84-c2f147b60404"
      },
      "execution_count": null,
      "outputs": [
        {
          "output_type": "stream",
          "name": "stdout",
          "text": [
            "              precision    recall  f1-score   support\n",
            "\n",
            "           0       1.00      1.00      1.00    134810\n",
            "           1       0.81      0.78      0.79      2499\n",
            "           2       0.57      0.56      0.57      2278\n",
            "           3       0.57      0.59      0.58      3000\n",
            "           4       0.76      0.77      0.76      3987\n",
            "\n",
            "    accuracy                           0.97    146574\n",
            "   macro avg       0.74      0.74      0.74    146574\n",
            "weighted avg       0.97      0.97      0.97    146574\n",
            "\n"
          ]
        }
      ]
    },
    {
      "cell_type": "code",
      "source": [
        "X_train_5 = X_train[:100000]\n",
        "y_train_5 = y_train[:100000]"
      ],
      "metadata": {
        "id": "dT9XCSbBSSwJ"
      },
      "execution_count": null,
      "outputs": []
    },
    {
      "cell_type": "code",
      "source": [
        "print(Counter(y_train_5))"
      ],
      "metadata": {
        "colab": {
          "base_uri": "https://localhost:8080/"
        },
        "id": "JaoCGyNee1h1",
        "outputId": "76e11e33-f886-4054-b536-6a8b07a202c5"
      },
      "execution_count": null,
      "outputs": [
        {
          "output_type": "stream",
          "name": "stdout",
          "text": [
            "Counter({0: 92093, 4: 2690, 3: 1990, 1: 1711, 2: 1516})\n"
          ]
        }
      ]
    },
    {
      "cell_type": "code",
      "source": [
        "X_train_5 = X_res\n",
        "y_train_5 = y_res"
      ],
      "metadata": {
        "id": "Sk6WsdIKk4Uh"
      },
      "execution_count": null,
      "outputs": []
    },
    {
      "cell_type": "markdown",
      "metadata": {
        "id": "ZntyRZDvSfC3"
      },
      "source": [
        "### Other Model Selection\n"
      ]
    },
    {
      "cell_type": "code",
      "execution_count": null,
      "metadata": {
        "colab": {
          "base_uri": "https://localhost:8080/",
          "height": 578
        },
        "id": "QKuDEfYOjk9w",
        "outputId": "fa05cf2e-39aa-49ad-b6db-af9ec9f1f2b7"
      },
      "outputs": [
        {
          "output_type": "stream",
          "name": "stdout",
          "text": [
            "DT  Train Data： accuracy:0.92,precision:0.92, recall:0.92, f1:0.92, auc:0.995\n",
            "DT  Test Data： accuracy:0.911,precision:0.951, recall:0.911, f1:0.926, auc:0.879\n",
            "\n",
            "\n",
            "knn  Train Data： accuracy:0.811,precision:0.81, recall:0.811, f1:0.81, auc:0.968\n",
            "knn  Test Data： accuracy:0.921,precision:0.953, recall:0.921, f1:0.934, auc:0.949\n",
            "\n",
            "\n",
            "RF  Train Data： accuracy:0.92,precision:0.92, recall:0.92, f1:0.92, auc:0.993\n",
            "RF  Test Data： accuracy:0.959,precision:0.966, recall:0.959, f1:0.962, auc:0.961\n",
            "\n",
            "\n",
            "lgbm  Train Data： accuracy:0.766,precision:0.763, recall:0.766, f1:0.763, auc:0.948\n",
            "lgbm  Test Data： accuracy:0.961,precision:0.967, recall:0.961, f1:0.964, auc:0.989\n",
            "\n",
            "\n"
          ]
        },
        {
          "output_type": "execute_result",
          "data": {
            "text/html": [
              "<div>\n",
              "<style scoped>\n",
              "    .dataframe tbody tr th:only-of-type {\n",
              "        vertical-align: middle;\n",
              "    }\n",
              "\n",
              "    .dataframe tbody tr th {\n",
              "        vertical-align: top;\n",
              "    }\n",
              "\n",
              "    .dataframe thead th {\n",
              "        text-align: right;\n",
              "    }\n",
              "</style>\n",
              "<table border=\"1\" class=\"dataframe\">\n",
              "  <thead>\n",
              "    <tr style=\"text-align: right;\">\n",
              "      <th></th>\n",
              "      <th></th>\n",
              "      <th>Accuracy</th>\n",
              "      <th>Precision</th>\n",
              "      <th>Recall</th>\n",
              "      <th>F1-Score</th>\n",
              "      <th>AUC-Score</th>\n",
              "    </tr>\n",
              "  </thead>\n",
              "  <tbody>\n",
              "    <tr>\n",
              "      <th rowspan=\"2\" valign=\"top\">DT</th>\n",
              "      <th>train</th>\n",
              "      <td>0.920135</td>\n",
              "      <td>0.920168</td>\n",
              "      <td>0.920135</td>\n",
              "      <td>0.919979</td>\n",
              "      <td>0.995122</td>\n",
              "    </tr>\n",
              "    <tr>\n",
              "      <th>test</th>\n",
              "      <td>0.910694</td>\n",
              "      <td>0.950718</td>\n",
              "      <td>0.910694</td>\n",
              "      <td>0.926250</td>\n",
              "      <td>0.879316</td>\n",
              "    </tr>\n",
              "    <tr>\n",
              "      <th rowspan=\"2\" valign=\"top\">knn</th>\n",
              "      <th>train</th>\n",
              "      <td>0.810869</td>\n",
              "      <td>0.810095</td>\n",
              "      <td>0.810869</td>\n",
              "      <td>0.810459</td>\n",
              "      <td>0.968388</td>\n",
              "    </tr>\n",
              "    <tr>\n",
              "      <th>test</th>\n",
              "      <td>0.921303</td>\n",
              "      <td>0.953003</td>\n",
              "      <td>0.921303</td>\n",
              "      <td>0.933622</td>\n",
              "      <td>0.948982</td>\n",
              "    </tr>\n",
              "    <tr>\n",
              "      <th rowspan=\"2\" valign=\"top\">RF</th>\n",
              "      <th>train</th>\n",
              "      <td>0.920099</td>\n",
              "      <td>0.920052</td>\n",
              "      <td>0.920099</td>\n",
              "      <td>0.919908</td>\n",
              "      <td>0.993192</td>\n",
              "    </tr>\n",
              "    <tr>\n",
              "      <th>test</th>\n",
              "      <td>0.959229</td>\n",
              "      <td>0.965949</td>\n",
              "      <td>0.959229</td>\n",
              "      <td>0.962132</td>\n",
              "      <td>0.961368</td>\n",
              "    </tr>\n",
              "    <tr>\n",
              "      <th rowspan=\"2\" valign=\"top\">lgbm</th>\n",
              "      <th>train</th>\n",
              "      <td>0.765716</td>\n",
              "      <td>0.763017</td>\n",
              "      <td>0.765716</td>\n",
              "      <td>0.762936</td>\n",
              "      <td>0.947792</td>\n",
              "    </tr>\n",
              "    <tr>\n",
              "      <th>test</th>\n",
              "      <td>0.961385</td>\n",
              "      <td>0.967496</td>\n",
              "      <td>0.961385</td>\n",
              "      <td>0.963906</td>\n",
              "      <td>0.989486</td>\n",
              "    </tr>\n",
              "  </tbody>\n",
              "</table>\n",
              "</div>"
            ],
            "text/plain": [
              "            Accuracy  Precision    Recall  F1-Score  AUC-Score\n",
              "DT   train  0.920135   0.920168  0.920135  0.919979   0.995122\n",
              "     test   0.910694   0.950718  0.910694  0.926250   0.879316\n",
              "knn  train  0.810869   0.810095  0.810869  0.810459   0.968388\n",
              "     test   0.921303   0.953003  0.921303  0.933622   0.948982\n",
              "RF   train  0.920099   0.920052  0.920099  0.919908   0.993192\n",
              "     test   0.959229   0.965949  0.959229  0.962132   0.961368\n",
              "lgbm train  0.765716   0.763017  0.765716  0.762936   0.947792\n",
              "     test   0.961385   0.967496  0.961385  0.963906   0.989486"
            ]
          },
          "metadata": {},
          "execution_count": 230
        }
      ],
      "source": [
        "# DecisionTree Model\n",
        "DT = DecisionTreeClassifier()\n",
        "DT.fit(X_train_5,y_train_5)\n",
        "\n",
        "# RandomForest Model\n",
        "RF = RandomForestClassifier()\n",
        "RF.fit(X_train_5,y_train_5)\n",
        "\n",
        "# # XGBoost Model \n",
        "# XGB = XGBClassifier()\n",
        "# XGB.fit(X_train,y_train)\n",
        "\n",
        "# KNeighbors Model\n",
        "knn = KNeighborsClassifier()\n",
        "knn.fit(X_train_5, y_train_5)\n",
        "\n",
        "import lightgbm as lgb\n",
        "\n",
        "### lgbm\n",
        "lgbm = lgb.LGBMClassifier()\n",
        "lgbm.fit(X_train_5, y_train_5)\n",
        "\n",
        "models = [DT, knn, RF, lgbm]\n",
        "\n",
        "names = ['DT', \"knn\", \"RF\", \"lgbm\"]\n",
        "evaluates = ['accuracy','precision','recall','f1','auc']\n",
        "\n",
        "df_list = []\n",
        "for name, model in zip(names, models):\n",
        "    y_train_pred = model.predict(X_train_5)\n",
        "    y_test_pred = model.predict(X_test)\n",
        "\n",
        "    # accuracy\n",
        "    train_accuracy = model.score(X_train_5, y_train_5)\n",
        "    test_accuracy = model.score(X_test, y_test)\n",
        "    # precision\n",
        "    train_precision = precision_score(y_train_5, y_train_pred, average = 'weighted')\n",
        "    test_precision = precision_score(y_test, y_test_pred, average = 'weighted')\n",
        "    # recall\n",
        "    train_recall = recall_score(y_train_5, y_train_pred, average = 'weighted')\n",
        "    test_recall = recall_score(y_test, y_test_pred, average = 'weighted')\n",
        "    # f1\n",
        "    train_f1 = f1_score(y_train_5, y_train_pred, average = 'weighted')\n",
        "    test_f1 = f1_score(y_test, y_test_pred, average = 'weighted')\n",
        "\n",
        "    y_train_pred = model.predict_proba(X_train_5)\n",
        "    y_test_pred = model.predict_proba(X_test)\n",
        "\n",
        "    train_auc = roc_auc_score(y_train_5, y_train_pred, multi_class = 'ovr')\n",
        "    test_auc = roc_auc_score(y_test, y_test_pred, multi_class = 'ovr')\n",
        "    print('{}  Train Data： accuracy:{:.3},precision:{:.3}, recall:{:.3}, f1:{:.3}, auc:{:.3}'.format(name, train_accuracy,\n",
        "                                                                                              train_precision,\n",
        "                                                                                              train_recall, train_f1,\n",
        "                                                                                              train_auc))\n",
        "    print('{}  Test Data： accuracy:{:.3},precision:{:.3}, recall:{:.3}, f1:{:.3}, auc:{:.3}'.format(name, test_accuracy,\n",
        "                                                                                              test_precision,\n",
        "                                                                                              test_recall, test_f1,\n",
        "                                                                                              test_auc))\n",
        "    print('\\n')\n",
        "    df = pd.DataFrame(np.array(\n",
        "        [train_accuracy, train_precision, train_recall, train_f1, train_auc, test_accuracy, test_precision, test_recall,\n",
        "         test_f1, test_auc]).reshape(2, -1),\n",
        "                      index=['train', 'test'],\n",
        "                      columns=['Accuracy', 'Precision', 'Recall', 'F1-Score', 'AUC-Score'])\n",
        "    df_list.append(df)\n",
        "\n",
        "result = pd.concat(df_list, axis=0, keys=names)\n",
        "result[:]"
      ]
    }
  ],
  "metadata": {
    "accelerator": "GPU",
    "colab": {
      "collapsed_sections": [],
      "machine_shape": "hm",
      "name": "Final_Congestion_Model.ipynb",
      "provenance": [],
      "toc_visible": true
    },
    "kernelspec": {
      "display_name": "Python 3",
      "language": "python",
      "name": "python3"
    },
    "language_info": {
      "codemirror_mode": {
        "name": "ipython",
        "version": 3
      },
      "file_extension": ".py",
      "mimetype": "text/x-python",
      "name": "python",
      "nbconvert_exporter": "python",
      "pygments_lexer": "ipython3",
      "version": "3.8.3"
    }
  },
  "nbformat": 4,
  "nbformat_minor": 0
}